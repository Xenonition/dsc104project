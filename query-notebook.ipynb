{
 "cells": [
  {
   "cell_type": "code",
   "execution_count": null,
   "id": "bc52e1d5",
   "metadata": {},
   "outputs": [],
   "source": [
    "import psycopg2\n",
    "import pandas as pd\n",
    "from tqdm import tqdm\n",
    "import time\n",
    "import warnings\n",
    "\n",
    "warnings.filterwarnings(\"ignore\")\n",
    "\n",
    "host = 'awesome-hw.sdsc.edu'\n",
    "database = 'postgres'\n",
    "user = 'ag_class'\n",
    "password = 'W9TVptLu'"
   ]
  },
  {
   "cell_type": "code",
   "execution_count": null,
   "id": "e77a62f6",
   "metadata": {},
   "outputs": [],
   "source": [
    "connection = psycopg2.connect(\n",
    "        host=host,\n",
    "        database=database,\n",
    "        user=user,\n",
    "        password=password\n",
    "    )\n",
    "\n",
    "cursor = connection.cursor()"
   ]
  },
  {
   "cell_type": "code",
   "execution_count": null,
   "id": "cc370f65",
   "metadata": {},
   "outputs": [],
   "source": [
    "cursor.execute(\"SELECT column_name, data_type FROM information_schema.columns WHERE table_name = 'usnewspaper';\")\n",
    "rows = cursor.fetchall()\n",
    "\n",
    "for row in rows:\n",
    "    print(row)"
   ]
  },
  {
   "cell_type": "code",
   "execution_count": null,
   "id": "76447c42",
   "metadata": {},
   "outputs": [],
   "source": [
    "col_names = [col[0] for col in rows]\n",
    "\n",
    "df = pd.DataFrame(columns = col_names)\n",
    "df"
   ]
  },
  {
   "cell_type": "code",
   "execution_count": null,
   "id": "47bccf84",
   "metadata": {},
   "outputs": [],
   "source": [
    "entries = []"
   ]
  },
  {
   "cell_type": "code",
   "execution_count": null,
   "id": "ec2560bf",
   "metadata": {},
   "outputs": [],
   "source": [
    "# There is a around 19.7 Million Rows\n",
    "# I used (SELECT Count(*) FROM usnewspaper)\n",
    "# WITH BATCH SIZE 1000 FOR 100000, took 28.15s\n",
    "# WITH BATCH SIZE 5000 FOR 100000, took 28.37s\n",
    "# WITH BATCH SIZE 10000 FOR 100000, took 34.51s\n",
    "# WITH BATCH SIZE 5000 for 500000, took 155.12s\n",
    "# WITH BATCH SIZE 10000 for 1000000, took 407.56"
   ]
  },
  {
   "cell_type": "code",
   "execution_count": null,
   "id": "b0569ecd",
   "metadata": {},
   "outputs": [],
   "source": [
    "start_time = time.time()\n",
    "\n",
    "cursor.execute(\"SELECT * FROM usnewspaper WHERE EXTRACT(YEAR FROM publishdate) IN ('2018', '2019') LIMIT 1000000\")\n",
    "batch_size = 10000\n",
    "#rows = cursor.fetchall()\n",
    "\n",
    "while True:\n",
    "    results = cursor.fetchmany(batch_size)\n",
    "\n",
    "    if not results:\n",
    "        break\n",
    "\n",
    "    # Iterate over the results using tqdm to track progress\n",
    "    for row in tqdm(results, total=batch_size):\n",
    "        x = row\n",
    "        new_row = pd.Series(x, index=df.columns)\n",
    "        entries.append(new_row)\n",
    "        \n",
    "end_time = time.time()\n",
    "\n",
    "print(end_time - start_time)"
   ]
  },
  {
   "cell_type": "code",
   "execution_count": null,
   "id": "cd071af8",
   "metadata": {},
   "outputs": [],
   "source": [
    "pd.DataFrame(entries)"
   ]
  },
  {
   "cell_type": "code",
   "execution_count": null,
   "id": "22728253",
   "metadata": {},
   "outputs": [],
   "source": [
    "cursor.execute(\"SELECT * FROM usnewspaper LIMIT 100000\")\n",
    "batch_size = 1000\n",
    "\n",
    "#rows = cursor.fetchall()\n",
    "\n",
    "while True:\n",
    "    results = cursor.fetchmany(batch_size)\n",
    "\n",
    "    if not results:\n",
    "        break\n",
    "\n",
    "    # Iterate over the results using tqdm to track progress\n",
    "    for row in tqdm(results, total=batch_size):\n",
    "        x = row\n",
    "        new_row = pd.Series(x, index=df.columns)\n",
    "        df = df.append(new_row, ignore_index=True)"
   ]
  },
  {
   "cell_type": "code",
   "execution_count": null,
   "id": "4c0fce87",
   "metadata": {},
   "outputs": [],
   "source": [
    "df"
   ]
  },
  {
   "cell_type": "code",
   "execution_count": null,
   "id": "f53c2b60",
   "metadata": {},
   "outputs": [],
   "source": [
    "df.to_csv('output.csv', index = False)"
   ]
  },
  {
   "cell_type": "code",
   "execution_count": null,
   "id": "ca89f595",
   "metadata": {},
   "outputs": [],
   "source": [
    "cursor.close()\n",
    "connection.close()"
   ]
  },
  {
   "cell_type": "code",
   "execution_count": null,
   "id": "95526681",
   "metadata": {},
   "outputs": [],
   "source": []
  }
 ],
 "metadata": {
  "kernelspec": {
   "display_name": "Python 3 (ipykernel)",
   "language": "python",
   "name": "python3"
  },
  "language_info": {
   "codemirror_mode": {
    "name": "ipython",
    "version": 3
   },
   "file_extension": ".py",
   "mimetype": "text/x-python",
   "name": "python",
   "nbconvert_exporter": "python",
   "pygments_lexer": "ipython3",
   "version": "3.9.7"
  }
 },
 "nbformat": 4,
 "nbformat_minor": 5
}
