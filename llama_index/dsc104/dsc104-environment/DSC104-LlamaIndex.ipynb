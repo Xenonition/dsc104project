{
 "cells": [
  {
   "cell_type": "code",
   "execution_count": 2,
   "id": "f1a9eb90-335c-4214-8bb6-fd1edbe3ccbd",
   "metadata": {},
   "outputs": [],
   "source": [
    "# My OpenAI Key\n",
    "import os\n",
    "os.environ['OPENAI_API_KEY'] = os.environ.get('OPENAI_API_KEY')"
   ]
  },
  {
   "cell_type": "code",
   "execution_count": 3,
   "id": "6a712b56",
   "metadata": {},
   "outputs": [],
   "source": [
    "import logging\n",
    "import sys\n",
    "\n",
    "logging.basicConfig(stream=sys.stdout, level=logging.INFO)\n",
    "logging.getLogger().addHandler(logging.StreamHandler(stream=sys.stdout))"
   ]
  },
  {
   "cell_type": "code",
   "execution_count": 4,
   "id": "90ba21e0",
   "metadata": {},
   "outputs": [
    {
     "name": "stdout",
     "output_type": "stream",
     "text": [
      "INFO:numexpr.utils:NumExpr defaulting to 8 threads.\n",
      "NumExpr defaulting to 8 threads.\n"
     ]
    }
   ],
   "source": [
    "## Using sdsc-data-llama collection from MongoDB to populate LLamaIndex\n",
    "from llama_index.storage.index_store import MongoIndexStore\n",
    "from llama_index import StorageContext, VectorStoreIndex, SimpleMongoReader, load_index_from_storage\n",
    "from IPython.display import Markdown, display\n",
    "\n",
    "host = \"localhost\"\n",
    "port = 27017\n",
    "db_name = \"mydatabase\"\n",
    "collection_name = 'sdsc-data-llama'\n",
    "\n",
    "index_store = MongoIndexStore.from_host_and_port(\n",
    "    host = host,\n",
    "    port = port,\n",
    "    db_name = db_name,\n",
    "    namespace = f'{db_name}.{collection_name}'\n",
    ")\n",
    "\n",
    "# create storage context\n",
    "storage_context = StorageContext.from_defaults(index_store=index_store)\n",
    "\n",
    "query_dict = {}\n",
    "field_names = [\"news\", \"title\", \"publishdate\"]\n",
    "reader = SimpleMongoReader(host, port)\n",
    "documents = reader.load_data(db_name, collection_name, field_names, query_dict=query_dict)"
   ]
  },
  {
   "cell_type": "code",
   "execution_count": 5,
   "id": "827f7088",
   "metadata": {},
   "outputs": [
    {
     "name": "stdout",
     "output_type": "stream",
     "text": [
      "1185\n"
     ]
    }
   ],
   "source": [
    "print(len(documents))"
   ]
  },
  {
   "cell_type": "code",
   "execution_count": 6,
   "id": "aa32a324",
   "metadata": {},
   "outputs": [
    {
     "name": "stdout",
     "output_type": "stream",
     "text": [
      "INFO:llama_index.token_counter.token_counter:> [build_index_from_nodes] Total LLM token usage: 0 tokens\n",
      "> [build_index_from_nodes] Total LLM token usage: 0 tokens\n",
      "INFO:llama_index.token_counter.token_counter:> [build_index_from_nodes] Total embedding token usage: 72038 tokens\n",
      "> [build_index_from_nodes] Total embedding token usage: 72038 tokens\n",
      "50\n",
      "INFO:llama_index.token_counter.token_counter:> [build_index_from_nodes] Total LLM token usage: 0 tokens\n",
      "> [build_index_from_nodes] Total LLM token usage: 0 tokens\n",
      "INFO:llama_index.token_counter.token_counter:> [build_index_from_nodes] Total embedding token usage: 64188 tokens\n",
      "> [build_index_from_nodes] Total embedding token usage: 64188 tokens\n",
      "100\n",
      "INFO:llama_index.token_counter.token_counter:> [build_index_from_nodes] Total LLM token usage: 0 tokens\n",
      "> [build_index_from_nodes] Total LLM token usage: 0 tokens\n",
      "INFO:llama_index.token_counter.token_counter:> [build_index_from_nodes] Total embedding token usage: 85787 tokens\n",
      "> [build_index_from_nodes] Total embedding token usage: 85787 tokens\n",
      "150\n",
      "INFO:llama_index.token_counter.token_counter:> [build_index_from_nodes] Total LLM token usage: 0 tokens\n",
      "> [build_index_from_nodes] Total LLM token usage: 0 tokens\n",
      "INFO:llama_index.token_counter.token_counter:> [build_index_from_nodes] Total embedding token usage: 52674 tokens\n",
      "> [build_index_from_nodes] Total embedding token usage: 52674 tokens\n",
      "200\n",
      "INFO:llama_index.token_counter.token_counter:> [build_index_from_nodes] Total LLM token usage: 0 tokens\n",
      "> [build_index_from_nodes] Total LLM token usage: 0 tokens\n",
      "INFO:llama_index.token_counter.token_counter:> [build_index_from_nodes] Total embedding token usage: 38263 tokens\n",
      "> [build_index_from_nodes] Total embedding token usage: 38263 tokens\n",
      "250\n",
      "INFO:llama_index.token_counter.token_counter:> [build_index_from_nodes] Total LLM token usage: 0 tokens\n",
      "> [build_index_from_nodes] Total LLM token usage: 0 tokens\n",
      "INFO:llama_index.token_counter.token_counter:> [build_index_from_nodes] Total embedding token usage: 36414 tokens\n",
      "> [build_index_from_nodes] Total embedding token usage: 36414 tokens\n",
      "300\n",
      "INFO:llama_index.token_counter.token_counter:> [build_index_from_nodes] Total LLM token usage: 0 tokens\n",
      "> [build_index_from_nodes] Total LLM token usage: 0 tokens\n",
      "INFO:llama_index.token_counter.token_counter:> [build_index_from_nodes] Total embedding token usage: 65940 tokens\n",
      "> [build_index_from_nodes] Total embedding token usage: 65940 tokens\n",
      "350\n",
      "INFO:llama_index.token_counter.token_counter:> [build_index_from_nodes] Total LLM token usage: 0 tokens\n",
      "> [build_index_from_nodes] Total LLM token usage: 0 tokens\n",
      "INFO:llama_index.token_counter.token_counter:> [build_index_from_nodes] Total embedding token usage: 68572 tokens\n",
      "> [build_index_from_nodes] Total embedding token usage: 68572 tokens\n",
      "400\n",
      "INFO:llama_index.token_counter.token_counter:> [build_index_from_nodes] Total LLM token usage: 0 tokens\n",
      "> [build_index_from_nodes] Total LLM token usage: 0 tokens\n",
      "INFO:llama_index.token_counter.token_counter:> [build_index_from_nodes] Total embedding token usage: 77947 tokens\n",
      "> [build_index_from_nodes] Total embedding token usage: 77947 tokens\n",
      "450\n",
      "INFO:llama_index.token_counter.token_counter:> [build_index_from_nodes] Total LLM token usage: 0 tokens\n",
      "> [build_index_from_nodes] Total LLM token usage: 0 tokens\n",
      "INFO:llama_index.token_counter.token_counter:> [build_index_from_nodes] Total embedding token usage: 61670 tokens\n",
      "> [build_index_from_nodes] Total embedding token usage: 61670 tokens\n",
      "500\n",
      "INFO:llama_index.token_counter.token_counter:> [build_index_from_nodes] Total LLM token usage: 0 tokens\n",
      "> [build_index_from_nodes] Total LLM token usage: 0 tokens\n",
      "INFO:llama_index.token_counter.token_counter:> [build_index_from_nodes] Total embedding token usage: 55369 tokens\n",
      "> [build_index_from_nodes] Total embedding token usage: 55369 tokens\n",
      "550\n",
      "INFO:llama_index.token_counter.token_counter:> [build_index_from_nodes] Total LLM token usage: 0 tokens\n",
      "> [build_index_from_nodes] Total LLM token usage: 0 tokens\n",
      "INFO:llama_index.token_counter.token_counter:> [build_index_from_nodes] Total embedding token usage: 64915 tokens\n",
      "> [build_index_from_nodes] Total embedding token usage: 64915 tokens\n",
      "600\n",
      "INFO:llama_index.token_counter.token_counter:> [build_index_from_nodes] Total LLM token usage: 0 tokens\n",
      "> [build_index_from_nodes] Total LLM token usage: 0 tokens\n",
      "INFO:llama_index.token_counter.token_counter:> [build_index_from_nodes] Total embedding token usage: 65607 tokens\n",
      "> [build_index_from_nodes] Total embedding token usage: 65607 tokens\n",
      "650\n",
      "INFO:llama_index.token_counter.token_counter:> [build_index_from_nodes] Total LLM token usage: 0 tokens\n",
      "> [build_index_from_nodes] Total LLM token usage: 0 tokens\n",
      "INFO:llama_index.token_counter.token_counter:> [build_index_from_nodes] Total embedding token usage: 82356 tokens\n",
      "> [build_index_from_nodes] Total embedding token usage: 82356 tokens\n",
      "700\n",
      "INFO:llama_index.token_counter.token_counter:> [build_index_from_nodes] Total LLM token usage: 0 tokens\n",
      "> [build_index_from_nodes] Total LLM token usage: 0 tokens\n",
      "INFO:llama_index.token_counter.token_counter:> [build_index_from_nodes] Total embedding token usage: 74614 tokens\n",
      "> [build_index_from_nodes] Total embedding token usage: 74614 tokens\n",
      "750\n",
      "INFO:llama_index.token_counter.token_counter:> [build_index_from_nodes] Total LLM token usage: 0 tokens\n",
      "> [build_index_from_nodes] Total LLM token usage: 0 tokens\n",
      "INFO:llama_index.token_counter.token_counter:> [build_index_from_nodes] Total embedding token usage: 75007 tokens\n",
      "> [build_index_from_nodes] Total embedding token usage: 75007 tokens\n",
      "800\n",
      "INFO:llama_index.token_counter.token_counter:> [build_index_from_nodes] Total LLM token usage: 0 tokens\n",
      "> [build_index_from_nodes] Total LLM token usage: 0 tokens\n",
      "INFO:llama_index.token_counter.token_counter:> [build_index_from_nodes] Total embedding token usage: 80836 tokens\n",
      "> [build_index_from_nodes] Total embedding token usage: 80836 tokens\n",
      "850\n",
      "INFO:llama_index.token_counter.token_counter:> [build_index_from_nodes] Total LLM token usage: 0 tokens\n",
      "> [build_index_from_nodes] Total LLM token usage: 0 tokens\n",
      "INFO:llama_index.token_counter.token_counter:> [build_index_from_nodes] Total embedding token usage: 82068 tokens\n",
      "> [build_index_from_nodes] Total embedding token usage: 82068 tokens\n",
      "900\n",
      "INFO:llama_index.token_counter.token_counter:> [build_index_from_nodes] Total LLM token usage: 0 tokens\n",
      "> [build_index_from_nodes] Total LLM token usage: 0 tokens\n",
      "INFO:llama_index.token_counter.token_counter:> [build_index_from_nodes] Total embedding token usage: 101669 tokens\n",
      "> [build_index_from_nodes] Total embedding token usage: 101669 tokens\n",
      "950\n",
      "INFO:llama_index.token_counter.token_counter:> [build_index_from_nodes] Total LLM token usage: 0 tokens\n",
      "> [build_index_from_nodes] Total LLM token usage: 0 tokens\n",
      "INFO:llama_index.token_counter.token_counter:> [build_index_from_nodes] Total embedding token usage: 73582 tokens\n",
      "> [build_index_from_nodes] Total embedding token usage: 73582 tokens\n",
      "1000\n",
      "INFO:llama_index.token_counter.token_counter:> [build_index_from_nodes] Total LLM token usage: 0 tokens\n",
      "> [build_index_from_nodes] Total LLM token usage: 0 tokens\n",
      "INFO:llama_index.token_counter.token_counter:> [build_index_from_nodes] Total embedding token usage: 82539 tokens\n",
      "> [build_index_from_nodes] Total embedding token usage: 82539 tokens\n",
      "1050\n",
      "INFO:llama_index.token_counter.token_counter:> [build_index_from_nodes] Total LLM token usage: 0 tokens\n",
      "> [build_index_from_nodes] Total LLM token usage: 0 tokens\n",
      "INFO:llama_index.token_counter.token_counter:> [build_index_from_nodes] Total embedding token usage: 63478 tokens\n",
      "> [build_index_from_nodes] Total embedding token usage: 63478 tokens\n",
      "1100\n",
      "INFO:llama_index.token_counter.token_counter:> [build_index_from_nodes] Total LLM token usage: 0 tokens\n",
      "> [build_index_from_nodes] Total LLM token usage: 0 tokens\n",
      "INFO:llama_index.token_counter.token_counter:> [build_index_from_nodes] Total embedding token usage: 92589 tokens\n",
      "> [build_index_from_nodes] Total embedding token usage: 92589 tokens\n",
      "1150\n",
      "INFO:llama_index.token_counter.token_counter:> [build_index_from_nodes] Total LLM token usage: 0 tokens\n",
      "> [build_index_from_nodes] Total LLM token usage: 0 tokens\n"
     ]
    },
    {
     "name": "stdout",
     "output_type": "stream",
     "text": [
      "INFO:llama_index.token_counter.token_counter:> [build_index_from_nodes] Total embedding token usage: 80825 tokens\n",
      "> [build_index_from_nodes] Total embedding token usage: 80825 tokens\n"
     ]
    }
   ],
   "source": [
    "import time\n",
    "\n",
    "batch = 50\n",
    "index = VectorStoreIndex.from_documents(documents[:batch])\n",
    "\n",
    "for i in range(batch, len(documents), batch):\n",
    "    print(i)\n",
    "    if batch + i > len(documents):\n",
    "        index = index.from_documents(documents[i:])\n",
    "    else:\n",
    "        index = index.from_documents(documents[i:batch + i])\n",
    "    time.sleep(10)"
   ]
  },
  {
   "cell_type": "code",
   "execution_count": 7,
   "id": "807238b1",
   "metadata": {},
   "outputs": [],
   "source": [
    "# Populate LlamaIndex using all documents at one time\n",
    "\n",
    "#index = VectorStoreIndex.from_documents(documents)"
   ]
  },
  {
   "cell_type": "code",
   "execution_count": 57,
   "id": "e10e7e39",
   "metadata": {},
   "outputs": [],
   "source": [
    "# Load LlamaIndex from disk\n",
    "\n",
    "#storage_context = StorageContext.from_defaults(persist_dir=\"./storage\")\n",
    "\n",
    "#index = load_index_from_storage(storage_context)"
   ]
  },
  {
   "cell_type": "code",
   "execution_count": 8,
   "id": "b6fd92cd",
   "metadata": {},
   "outputs": [],
   "source": [
    "index.storage_context.persist(persist_dir = './storage')"
   ]
  },
  {
   "cell_type": "code",
   "execution_count": 9,
   "id": "228a520e",
   "metadata": {},
   "outputs": [],
   "source": [
    "index.set_index_id('model1')"
   ]
  },
  {
   "cell_type": "code",
   "execution_count": 11,
   "id": "f128b1d3",
   "metadata": {},
   "outputs": [
    {
     "data": {
      "text/plain": [
       "'model1'"
      ]
     },
     "execution_count": 11,
     "metadata": {},
     "output_type": "execute_result"
    }
   ],
   "source": [
    "index.index_id"
   ]
  },
  {
   "cell_type": "code",
   "execution_count": 12,
   "id": "317436a4",
   "metadata": {},
   "outputs": [],
   "source": [
    "query_engine = index.as_query_engine()"
   ]
  },
  {
   "cell_type": "code",
   "execution_count": 13,
   "id": "1f7f4a0a",
   "metadata": {},
   "outputs": [
    {
     "name": "stdout",
     "output_type": "stream",
     "text": [
      "INFO:llama_index.token_counter.token_counter:> [retrieve] Total LLM token usage: 0 tokens\n",
      "> [retrieve] Total LLM token usage: 0 tokens\n",
      "INFO:llama_index.token_counter.token_counter:> [retrieve] Total embedding token usage: 37 tokens\n",
      "> [retrieve] Total embedding token usage: 37 tokens\n",
      "INFO:llama_index.token_counter.token_counter:> [get_response] Total LLM token usage: 1717 tokens\n",
      "> [get_response] Total LLM token usage: 1717 tokens\n",
      "INFO:llama_index.token_counter.token_counter:> [get_response] Total embedding token usage: 0 tokens\n",
      "> [get_response] Total embedding token usage: 0 tokens\n"
     ]
    },
    {
     "data": {
      "text/markdown": [
       "<b>The major party nominees in the West Virginia Senate Race in 2018 were Joe Manchin (Democrat) and Patrick Morrisey (Republican).</b>"
      ],
      "text/plain": [
       "<IPython.core.display.Markdown object>"
      ]
     },
     "metadata": {},
     "output_type": "display_data"
    }
   ],
   "source": [
    "# West Virginia\n",
    "response = query_engine.query(\n",
    "    \"\"\"\n",
    "    Using the documents, answer this question:\n",
    "    Who are the major party nominess in the West Virginia Senate Race in 2018?\n",
    "    \"\"\"\n",
    ")\n",
    "display(Markdown(f\"<b>{response}</b>\"))"
   ]
  },
  {
   "cell_type": "code",
   "execution_count": 14,
   "id": "f94333a8",
   "metadata": {},
   "outputs": [
    {
     "name": "stdout",
     "output_type": "stream",
     "text": [
      "INFO:llama_index.token_counter.token_counter:> [retrieve] Total LLM token usage: 0 tokens\n",
      "> [retrieve] Total LLM token usage: 0 tokens\n",
      "INFO:llama_index.token_counter.token_counter:> [retrieve] Total embedding token usage: 25 tokens\n",
      "> [retrieve] Total embedding token usage: 25 tokens\n",
      "INFO:llama_index.token_counter.token_counter:> [get_response] Total LLM token usage: 1298 tokens\n",
      "> [get_response] Total LLM token usage: 1298 tokens\n",
      "INFO:llama_index.token_counter.token_counter:> [get_response] Total embedding token usage: 0 tokens\n",
      "> [get_response] Total embedding token usage: 0 tokens\n"
     ]
    },
    {
     "data": {
      "text/markdown": [
       "<b>The major party nominees in the West Virginia Senate Race in 2018 were Joe Manchin (Democrat) and Patrick Morrisey (Republican).</b>"
      ],
      "text/plain": [
       "<IPython.core.display.Markdown object>"
      ]
     },
     "metadata": {},
     "output_type": "display_data"
    }
   ],
   "source": [
    "# West Virginia\n",
    "response = query_engine.query(\n",
    "    \"\"\"\n",
    "    Who are the major party nominess in the West Virginia Senate Race in 2018?\n",
    "    \"\"\"\n",
    ")\n",
    "display(Markdown(f\"<b>{response}</b>\"))"
   ]
  },
  {
   "cell_type": "code",
   "execution_count": 42,
   "id": "105043e4",
   "metadata": {},
   "outputs": [
    {
     "name": "stdout",
     "output_type": "stream",
     "text": [
      "INFO:llama_index.token_counter.token_counter:> [retrieve] Total LLM token usage: 0 tokens\n",
      "> [retrieve] Total LLM token usage: 0 tokens\n",
      "INFO:llama_index.token_counter.token_counter:> [retrieve] Total embedding token usage: 33 tokens\n",
      "> [retrieve] Total embedding token usage: 33 tokens\n",
      "INFO:llama_index.token_counter.token_counter:> [get_response] Total LLM token usage: 1849 tokens\n",
      "> [get_response] Total LLM token usage: 1849 tokens\n",
      "INFO:llama_index.token_counter.token_counter:> [get_response] Total embedding token usage: 0 tokens\n",
      "> [get_response] Total embedding token usage: 0 tokens\n"
     ]
    },
    {
     "data": {
      "text/markdown": [
       "<b>The major party nominees in the West Virginia Senate Race in 2018 were Joe Manchin (Democratic Party) and Patrick Morrisey (Republican Party).</b>"
      ],
      "text/plain": [
       "<IPython.core.display.Markdown object>"
      ]
     },
     "metadata": {},
     "output_type": "display_data"
    }
   ],
   "source": [
    "# West Virginia\n",
    "response = query_engine.query(\n",
    "    \"\"\"\n",
    "    Using openai, answer this question:\n",
    "    Who are the major party nominess in the West Virginia Senate Race in 2018?\n",
    "    \"\"\"\n",
    ")\n",
    "display(Markdown(f\"<b>{response}</b>\"))"
   ]
  },
  {
   "cell_type": "code",
   "execution_count": 15,
   "id": "094b1a4e",
   "metadata": {},
   "outputs": [
    {
     "name": "stdout",
     "output_type": "stream",
     "text": [
      "INFO:llama_index.token_counter.token_counter:> [retrieve] Total LLM token usage: 0 tokens\n",
      "> [retrieve] Total LLM token usage: 0 tokens\n",
      "INFO:llama_index.token_counter.token_counter:> [retrieve] Total embedding token usage: 34 tokens\n",
      "> [retrieve] Total embedding token usage: 34 tokens\n",
      "INFO:llama_index.token_counter.token_counter:> [get_response] Total LLM token usage: 1690 tokens\n",
      "> [get_response] Total LLM token usage: 1690 tokens\n",
      "INFO:llama_index.token_counter.token_counter:> [get_response] Total embedding token usage: 0 tokens\n",
      "> [get_response] Total embedding token usage: 0 tokens\n"
     ]
    },
    {
     "data": {
      "text/markdown": [
       "<b>Joe Manchin.</b>"
      ],
      "text/plain": [
       "<IPython.core.display.Markdown object>"
      ]
     },
     "metadata": {},
     "output_type": "display_data"
    }
   ],
   "source": [
    "# West Virginia\n",
    "response = query_engine.query(\n",
    "    \"\"\"\n",
    "    Using the documents, answer this question:\n",
    "    Who is the winner of the West Virginia Senate Race in 2018?\n",
    "    \"\"\"\n",
    ")\n",
    "display(Markdown(f\"<b>{response}</b>\"))"
   ]
  },
  {
   "cell_type": "code",
   "execution_count": 16,
   "id": "0bbd5454",
   "metadata": {},
   "outputs": [
    {
     "name": "stdout",
     "output_type": "stream",
     "text": [
      "INFO:llama_index.token_counter.token_counter:> [retrieve] Total LLM token usage: 0 tokens\n",
      "> [retrieve] Total LLM token usage: 0 tokens\n",
      "INFO:llama_index.token_counter.token_counter:> [retrieve] Total embedding token usage: 22 tokens\n",
      "> [retrieve] Total embedding token usage: 22 tokens\n",
      "INFO:llama_index.token_counter.token_counter:> [get_response] Total LLM token usage: 1377 tokens\n",
      "> [get_response] Total LLM token usage: 1377 tokens\n",
      "INFO:llama_index.token_counter.token_counter:> [get_response] Total embedding token usage: 0 tokens\n",
      "> [get_response] Total embedding token usage: 0 tokens\n"
     ]
    },
    {
     "data": {
      "text/markdown": [
       "<b>Joe Manchin.</b>"
      ],
      "text/plain": [
       "<IPython.core.display.Markdown object>"
      ]
     },
     "metadata": {},
     "output_type": "display_data"
    }
   ],
   "source": [
    "# West Virginia\n",
    "response = query_engine.query(\n",
    "    \"\"\"\n",
    "    Who is the winner of the West Virginia Senate Race in 2018?\n",
    "    \"\"\"\n",
    ")\n",
    "display(Markdown(f\"<b>{response}</b>\"))"
   ]
  },
  {
   "cell_type": "code",
   "execution_count": 43,
   "id": "2bcda572",
   "metadata": {},
   "outputs": [
    {
     "name": "stdout",
     "output_type": "stream",
     "text": [
      "INFO:llama_index.token_counter.token_counter:> [retrieve] Total LLM token usage: 0 tokens\n",
      "> [retrieve] Total LLM token usage: 0 tokens\n",
      "INFO:llama_index.token_counter.token_counter:> [retrieve] Total embedding token usage: 30 tokens\n",
      "> [retrieve] Total embedding token usage: 30 tokens\n",
      "INFO:llama_index.token_counter.token_counter:> [get_response] Total LLM token usage: 1697 tokens\n",
      "> [get_response] Total LLM token usage: 1697 tokens\n",
      "INFO:llama_index.token_counter.token_counter:> [get_response] Total embedding token usage: 0 tokens\n",
      "> [get_response] Total embedding token usage: 0 tokens\n"
     ]
    },
    {
     "data": {
      "text/markdown": [
       "<b>The winner of the West Virginia Senate Race in 2018 was Joe Manchin.</b>"
      ],
      "text/plain": [
       "<IPython.core.display.Markdown object>"
      ]
     },
     "metadata": {},
     "output_type": "display_data"
    }
   ],
   "source": [
    "# West Virginia\n",
    "response = query_engine.query(\n",
    "    \"\"\"\n",
    "    Using openai, answer this question:\n",
    "    Who is the winner of the West Virginia Senate Race in 2018?\n",
    "    \"\"\"\n",
    ")\n",
    "display(Markdown(f\"<b>{response}</b>\"))"
   ]
  },
  {
   "cell_type": "code",
   "execution_count": 17,
   "id": "3b6883ad",
   "metadata": {},
   "outputs": [
    {
     "name": "stdout",
     "output_type": "stream",
     "text": [
      "INFO:llama_index.token_counter.token_counter:> [retrieve] Total LLM token usage: 0 tokens\n",
      "> [retrieve] Total LLM token usage: 0 tokens\n",
      "INFO:llama_index.token_counter.token_counter:> [retrieve] Total embedding token usage: 60 tokens\n",
      "> [retrieve] Total embedding token usage: 60 tokens\n",
      "INFO:llama_index.token_counter.token_counter:> [get_response] Total LLM token usage: 1767 tokens\n",
      "> [get_response] Total LLM token usage: 1767 tokens\n",
      "INFO:llama_index.token_counter.token_counter:> [get_response] Total embedding token usage: 0 tokens\n",
      "> [get_response] Total embedding token usage: 0 tokens\n"
     ]
    },
    {
     "data": {
      "text/markdown": [
       "<b>Joe Manchin won his 2018 Senate reelection in West Virginia, while Hillary Clinton lost the state in her 2016 presidential campaign. Manchin won the state by a margin of 3.6%, while Clinton lost by a margin of 42.2%. Manchin was able to win the state by appealing to rural and small-town voters, while Clinton struggled with the same demographic. Manchin defended the coal industry, while Clinton's policies ran afoul of rural and small-town voters who were more culturally conservative than urban dwellers.</b>"
      ],
      "text/plain": [
       "<IPython.core.display.Markdown object>"
      ]
     },
     "metadata": {},
     "output_type": "display_data"
    }
   ],
   "source": [
    "# West Virginia\n",
    "response = query_engine.query(\n",
    "    \"\"\"\n",
    "    Using the documents, answer this question:\n",
    "    How did Joe Manchin in 2018 perform in his senate reelection compare to Hillary Clinton's\n",
    "    presidential comapaign in 2016? Can you provide specific information on how they both performed?\n",
    "    \"\"\"\n",
    ")\n",
    "display(Markdown(f\"<b>{response}</b>\"))"
   ]
  },
  {
   "cell_type": "code",
   "execution_count": 18,
   "id": "0b940a94",
   "metadata": {},
   "outputs": [
    {
     "name": "stdout",
     "output_type": "stream",
     "text": [
      "INFO:llama_index.token_counter.token_counter:> [retrieve] Total LLM token usage: 0 tokens\n",
      "> [retrieve] Total LLM token usage: 0 tokens\n",
      "INFO:llama_index.token_counter.token_counter:> [retrieve] Total embedding token usage: 48 tokens\n",
      "> [retrieve] Total embedding token usage: 48 tokens\n",
      "INFO:llama_index.token_counter.token_counter:> [get_response] Total LLM token usage: 1739 tokens\n",
      "> [get_response] Total LLM token usage: 1739 tokens\n",
      "INFO:llama_index.token_counter.token_counter:> [get_response] Total embedding token usage: 0 tokens\n",
      "> [get_response] Total embedding token usage: 0 tokens\n"
     ]
    },
    {
     "data": {
      "text/markdown": [
       "<b>Joe Manchin won his 2018 Senate reelection in West Virginia with a margin of 3.6%, while Hillary Clinton lost the state in 2016 by a margin of 42.2%. Manchin was able to win by appealing to rural and small-town voters, while Clinton struggled with this demographic. Manchin defended the coal industry and opposed much of U.S. trade policy, while Clinton was criticized for some of her Senate votes against gun measures.</b>"
      ],
      "text/plain": [
       "<IPython.core.display.Markdown object>"
      ]
     },
     "metadata": {},
     "output_type": "display_data"
    }
   ],
   "source": [
    "# West Virginia\n",
    "response = query_engine.query(\n",
    "    \"\"\"\n",
    "    How did Joe Manchin in 2018 perform in his senate reelection compare to Hillary Clinton's\n",
    "    presidential comapaign in 2016? Can you provide specific information on how they both performed?\n",
    "    \"\"\"\n",
    ")\n",
    "display(Markdown(f\"<b>{response}</b>\"))"
   ]
  },
  {
   "cell_type": "code",
   "execution_count": 46,
   "id": "3e27275e",
   "metadata": {},
   "outputs": [
    {
     "name": "stdout",
     "output_type": "stream",
     "text": [
      "INFO:llama_index.token_counter.token_counter:> [retrieve] Total LLM token usage: 0 tokens\n",
      "> [retrieve] Total LLM token usage: 0 tokens\n",
      "INFO:llama_index.token_counter.token_counter:> [retrieve] Total embedding token usage: 60 tokens\n",
      "> [retrieve] Total embedding token usage: 60 tokens\n",
      "INFO:llama_index.token_counter.token_counter:> [get_response] Total LLM token usage: 1763 tokens\n",
      "> [get_response] Total LLM token usage: 1763 tokens\n",
      "INFO:llama_index.token_counter.token_counter:> [get_response] Total embedding token usage: 0 tokens\n",
      "> [get_response] Total embedding token usage: 0 tokens\n"
     ]
    },
    {
     "data": {
      "text/markdown": [
       "<b>Joe Manchin won his 2018 Senate reelection in West Virginia with a margin of 3.6%, while Hillary Clinton lost the state in her 2016 presidential campaign by a margin of 42.2%. Manchin was able to win the state by appealing to rural and small-town voters, while Clinton struggled to gain support in these areas due to her liberal policies. Manchin was able to successfully defend the coal industry and oppose U.S. trade policy, which resonated with rural and small-town voters.</b>"
      ],
      "text/plain": [
       "<IPython.core.display.Markdown object>"
      ]
     },
     "metadata": {},
     "output_type": "display_data"
    }
   ],
   "source": [
    "# West Virginia\n",
    "response = query_engine.query(\n",
    "    \"\"\"\n",
    "    Using openai, answer this question:\n",
    "    How did Joe Manchin in 2018 perform in his senate reelection compare to Hillary Clinton's\n",
    "    presidential comapaign in 2016? Can you provide specific information on how they both performed?\n",
    "    \"\"\"\n",
    ")\n",
    "display(Markdown(f\"<b>{response}</b>\"))"
   ]
  },
  {
   "cell_type": "code",
   "execution_count": 19,
   "id": "add78b76",
   "metadata": {},
   "outputs": [
    {
     "name": "stdout",
     "output_type": "stream",
     "text": [
      "INFO:llama_index.token_counter.token_counter:> [retrieve] Total LLM token usage: 0 tokens\n",
      "> [retrieve] Total LLM token usage: 0 tokens\n",
      "INFO:llama_index.token_counter.token_counter:> [retrieve] Total embedding token usage: 33 tokens\n",
      "> [retrieve] Total embedding token usage: 33 tokens\n",
      "INFO:llama_index.token_counter.token_counter:> [get_response] Total LLM token usage: 1701 tokens\n",
      "> [get_response] Total LLM token usage: 1701 tokens\n",
      "INFO:llama_index.token_counter.token_counter:> [get_response] Total embedding token usage: 0 tokens\n",
      "> [get_response] Total embedding token usage: 0 tokens\n"
     ]
    },
    {
     "data": {
      "text/markdown": [
       "<b>The major campaign issues in the West Virginia Senate Race were Joe Manchin's defense of the coal industry, Sherrod Brown's opposition to much of U.S. trade policy, and Jon Tester's playing up of his rancher credentials.</b>"
      ],
      "text/plain": [
       "<IPython.core.display.Markdown object>"
      ]
     },
     "metadata": {},
     "output_type": "display_data"
    }
   ],
   "source": [
    "# West Virginia\n",
    "response = query_engine.query(\n",
    "    \"\"\"\n",
    "    Using the documents, answer this question:\n",
    "    What were major campaign issues in the West Virginia Senate Race.\n",
    "    \"\"\"\n",
    ")\n",
    "display(Markdown(f\"<b>{response}</b>\"))"
   ]
  },
  {
   "cell_type": "code",
   "execution_count": 20,
   "id": "5b1d87d1",
   "metadata": {},
   "outputs": [
    {
     "name": "stdout",
     "output_type": "stream",
     "text": [
      "INFO:llama_index.token_counter.token_counter:> [retrieve] Total LLM token usage: 0 tokens\n",
      "> [retrieve] Total LLM token usage: 0 tokens\n",
      "INFO:llama_index.token_counter.token_counter:> [retrieve] Total embedding token usage: 21 tokens\n",
      "> [retrieve] Total embedding token usage: 21 tokens\n",
      "INFO:llama_index.token_counter.token_counter:> [get_response] Total LLM token usage: 1662 tokens\n",
      "> [get_response] Total LLM token usage: 1662 tokens\n",
      "INFO:llama_index.token_counter.token_counter:> [get_response] Total embedding token usage: 0 tokens\n",
      "> [get_response] Total embedding token usage: 0 tokens\n"
     ]
    },
    {
     "data": {
      "text/markdown": [
       "<b>The major campaign issues in the West Virginia Senate Race were likely coal industry, U.S. trade policy, and gun measures. Senator Joe Manchin defended the coal industry, opposed much of U.S. trade policy, and was criticized by Hillary Clinton for some Senate votes against gun measures.</b>"
      ],
      "text/plain": [
       "<IPython.core.display.Markdown object>"
      ]
     },
     "metadata": {},
     "output_type": "display_data"
    }
   ],
   "source": [
    "# West Virginia\n",
    "response = query_engine.query(\n",
    "    \"\"\"\n",
    "    What were major campaign issues in the West Virginia Senate Race.\n",
    "    \"\"\"\n",
    ")\n",
    "display(Markdown(f\"<b>{response}</b>\"))"
   ]
  },
  {
   "cell_type": "code",
   "execution_count": 47,
   "id": "64707d36",
   "metadata": {},
   "outputs": [
    {
     "name": "stdout",
     "output_type": "stream",
     "text": [
      "INFO:llama_index.token_counter.token_counter:> [retrieve] Total LLM token usage: 0 tokens\n",
      "> [retrieve] Total LLM token usage: 0 tokens\n",
      "INFO:llama_index.token_counter.token_counter:> [retrieve] Total embedding token usage: 33 tokens\n",
      "> [retrieve] Total embedding token usage: 33 tokens\n",
      "INFO:llama_index.token_counter.token_counter:> [get_response] Total LLM token usage: 1701 tokens\n",
      "> [get_response] Total LLM token usage: 1701 tokens\n",
      "INFO:llama_index.token_counter.token_counter:> [get_response] Total embedding token usage: 0 tokens\n",
      "> [get_response] Total embedding token usage: 0 tokens\n"
     ]
    },
    {
     "data": {
      "text/markdown": [
       "<b>The major campaign issues in the West Virginia Senate Race were coal industry, U.S. trade policy, rancher credentials, gun measures, climate change, clean energy industry, agricultural output, consumer, labor and finance law, and Medicaid insurance.</b>"
      ],
      "text/plain": [
       "<IPython.core.display.Markdown object>"
      ]
     },
     "metadata": {},
     "output_type": "display_data"
    }
   ],
   "source": [
    "# West Virginia\n",
    "response = query_engine.query(\n",
    "    \"\"\"\n",
    "    Using openai, answer this question:\n",
    "    What were major campaign issues in the West Virginia Senate Race.\n",
    "    \"\"\"\n",
    ")\n",
    "display(Markdown(f\"<b>{response}</b>\"))"
   ]
  },
  {
   "cell_type": "code",
   "execution_count": 21,
   "id": "d6067654",
   "metadata": {},
   "outputs": [
    {
     "name": "stdout",
     "output_type": "stream",
     "text": [
      "INFO:llama_index.token_counter.token_counter:> [retrieve] Total LLM token usage: 0 tokens\n",
      "> [retrieve] Total LLM token usage: 0 tokens\n",
      "INFO:llama_index.token_counter.token_counter:> [retrieve] Total embedding token usage: 31 tokens\n",
      "> [retrieve] Total embedding token usage: 31 tokens\n",
      "INFO:llama_index.token_counter.token_counter:> [get_response] Total LLM token usage: 1678 tokens\n",
      "> [get_response] Total LLM token usage: 1678 tokens\n",
      "INFO:llama_index.token_counter.token_counter:> [get_response] Total embedding token usage: 0 tokens\n",
      "> [get_response] Total embedding token usage: 0 tokens\n"
     ]
    },
    {
     "data": {
      "text/markdown": [
       "<b>Joe Manchin, the Senator from West Virginia, defended the coal industry, which likely resonated with rural voters. The AP VoteCast survey found that 56 percent of rural and small-town residents voted for Republican House candidates, compared to 41 percent for Democrats. This suggests that Joe Manchin likely performed well among rural voters.</b>"
      ],
      "text/plain": [
       "<IPython.core.display.Markdown object>"
      ]
     },
     "metadata": {},
     "output_type": "display_data"
    }
   ],
   "source": [
    "# West Virginia\n",
    "response = query_engine.query(\n",
    "    \"\"\"\n",
    "    Using the documents, answer this question:\n",
    "    How did Joe Manchin perform among rural voters?\n",
    "    \"\"\"\n",
    ")\n",
    "display(Markdown(f\"<b>{response}</b>\"))"
   ]
  },
  {
   "cell_type": "code",
   "execution_count": 22,
   "id": "78d34623",
   "metadata": {},
   "outputs": [
    {
     "name": "stdout",
     "output_type": "stream",
     "text": [
      "INFO:llama_index.token_counter.token_counter:> [retrieve] Total LLM token usage: 0 tokens\n",
      "> [retrieve] Total LLM token usage: 0 tokens\n",
      "INFO:llama_index.token_counter.token_counter:> [retrieve] Total embedding token usage: 19 tokens\n",
      "> [retrieve] Total embedding token usage: 19 tokens\n",
      "INFO:llama_index.token_counter.token_counter:> [get_response] Total LLM token usage: 1660 tokens\n",
      "> [get_response] Total LLM token usage: 1660 tokens\n",
      "INFO:llama_index.token_counter.token_counter:> [get_response] Total embedding token usage: 0 tokens\n",
      "> [get_response] Total embedding token usage: 0 tokens\n"
     ]
    },
    {
     "data": {
      "text/markdown": [
       "<b>Joe Manchin, the Senator from West Virginia, likely performed well among rural voters. He is known for defending the coal industry, which is an important industry in rural areas. Additionally, he is known for opposing much of U.S. trade policy, which is also popular among rural voters.</b>"
      ],
      "text/plain": [
       "<IPython.core.display.Markdown object>"
      ]
     },
     "metadata": {},
     "output_type": "display_data"
    }
   ],
   "source": [
    "# West Virginia\n",
    "response = query_engine.query(\n",
    "    \"\"\"\n",
    "    How did Joe Manchin perform among rural voters?\n",
    "    \"\"\"\n",
    ")\n",
    "display(Markdown(f\"<b>{response}</b>\"))"
   ]
  },
  {
   "cell_type": "code",
   "execution_count": 48,
   "id": "4f2ef5dd",
   "metadata": {},
   "outputs": [
    {
     "name": "stdout",
     "output_type": "stream",
     "text": [
      "INFO:llama_index.token_counter.token_counter:> [retrieve] Total LLM token usage: 0 tokens\n",
      "> [retrieve] Total LLM token usage: 0 tokens\n",
      "INFO:llama_index.token_counter.token_counter:> [retrieve] Total embedding token usage: 31 tokens\n",
      "> [retrieve] Total embedding token usage: 31 tokens\n",
      "INFO:llama_index.token_counter.token_counter:> [get_response] Total LLM token usage: 1670 tokens\n",
      "> [get_response] Total LLM token usage: 1670 tokens\n",
      "INFO:llama_index.token_counter.token_counter:> [get_response] Total embedding token usage: 0 tokens\n",
      "> [get_response] Total embedding token usage: 0 tokens\n"
     ]
    },
    {
     "data": {
      "text/markdown": [
       "<b>Joe Manchin, the Senator from West Virginia, was popular among rural voters, defending the coal industry and opposing much of U.S. trade policy. He was successful in the 2018 midterms, with 56 percent of rural and small-town voters casting ballots for Republican House candidates.</b>"
      ],
      "text/plain": [
       "<IPython.core.display.Markdown object>"
      ]
     },
     "metadata": {},
     "output_type": "display_data"
    }
   ],
   "source": [
    "# West Virginia\n",
    "response = query_engine.query(\n",
    "    \"\"\"\n",
    "    Using openai, answer this question:\n",
    "    How did Joe Manchin perform among rural voters?\n",
    "    \"\"\"\n",
    ")\n",
    "display(Markdown(f\"<b>{response}</b>\"))"
   ]
  },
  {
   "cell_type": "code",
   "execution_count": 23,
   "id": "8b3c062c",
   "metadata": {},
   "outputs": [
    {
     "name": "stdout",
     "output_type": "stream",
     "text": [
      "INFO:llama_index.token_counter.token_counter:> [retrieve] Total LLM token usage: 0 tokens\n",
      "> [retrieve] Total LLM token usage: 0 tokens\n",
      "INFO:llama_index.token_counter.token_counter:> [retrieve] Total embedding token usage: 36 tokens\n",
      "> [retrieve] Total embedding token usage: 36 tokens\n",
      "INFO:llama_index.token_counter.token_counter:> [get_response] Total LLM token usage: 1115 tokens\n",
      "> [get_response] Total LLM token usage: 1115 tokens\n",
      "INFO:llama_index.token_counter.token_counter:> [get_response] Total embedding token usage: 0 tokens\n",
      "> [get_response] Total embedding token usage: 0 tokens\n"
     ]
    },
    {
     "data": {
      "text/markdown": [
       "<b>The major party nominees in the Montana Senate Race in 2018 were Jon Tester (Democrat) and Matt Rosendale (Republican).</b>"
      ],
      "text/plain": [
       "<IPython.core.display.Markdown object>"
      ]
     },
     "metadata": {},
     "output_type": "display_data"
    }
   ],
   "source": [
    "# Montana\n",
    "response = query_engine.query(\n",
    "    \"\"\"\n",
    "    Using the documents, answer this question:\n",
    "    Who are the major party nominess in the Montana Senate Race in 2018?\n",
    "    \"\"\"\n",
    ")\n",
    "display(Markdown(f\"<b>{response}</b>\"))"
   ]
  },
  {
   "cell_type": "code",
   "execution_count": 49,
   "id": "165337cd",
   "metadata": {},
   "outputs": [
    {
     "name": "stdout",
     "output_type": "stream",
     "text": [
      "INFO:llama_index.token_counter.token_counter:> [retrieve] Total LLM token usage: 0 tokens\n",
      "> [retrieve] Total LLM token usage: 0 tokens\n",
      "INFO:llama_index.token_counter.token_counter:> [retrieve] Total embedding token usage: 24 tokens\n",
      "> [retrieve] Total embedding token usage: 24 tokens\n",
      "INFO:llama_index.token_counter.token_counter:> [get_response] Total LLM token usage: 1102 tokens\n",
      "> [get_response] Total LLM token usage: 1102 tokens\n",
      "INFO:llama_index.token_counter.token_counter:> [get_response] Total embedding token usage: 0 tokens\n",
      "> [get_response] Total embedding token usage: 0 tokens\n"
     ]
    },
    {
     "data": {
      "text/markdown": [
       "<b>The major party nominees in the Montana Senate Race in 2018 were Jon Tester (Democratic) and Matt Rosendale (Republican).</b>"
      ],
      "text/plain": [
       "<IPython.core.display.Markdown object>"
      ]
     },
     "metadata": {},
     "output_type": "display_data"
    }
   ],
   "source": [
    "# Montana\n",
    "response = query_engine.query(\n",
    "    \"\"\"\n",
    "    Who are the major party nominess in the Montana Senate Race in 2018?\n",
    "    \"\"\"\n",
    ")\n",
    "display(Markdown(f\"<b>{response}</b>\"))"
   ]
  },
  {
   "cell_type": "code",
   "execution_count": 50,
   "id": "96ff16cf",
   "metadata": {},
   "outputs": [
    {
     "name": "stdout",
     "output_type": "stream",
     "text": [
      "INFO:llama_index.token_counter.token_counter:> [retrieve] Total LLM token usage: 0 tokens\n",
      "> [retrieve] Total LLM token usage: 0 tokens\n",
      "INFO:llama_index.token_counter.token_counter:> [retrieve] Total embedding token usage: 36 tokens\n",
      "> [retrieve] Total embedding token usage: 36 tokens\n",
      "INFO:llama_index.token_counter.token_counter:> [get_response] Total LLM token usage: 1114 tokens\n",
      "> [get_response] Total LLM token usage: 1114 tokens\n",
      "INFO:llama_index.token_counter.token_counter:> [get_response] Total embedding token usage: 0 tokens\n",
      "> [get_response] Total embedding token usage: 0 tokens\n"
     ]
    },
    {
     "data": {
      "text/markdown": [
       "<b>The major party nominees in the Montana Senate Race in 2018 were Jon Tester (Democratic) and Matt Rosendale (Republican).</b>"
      ],
      "text/plain": [
       "<IPython.core.display.Markdown object>"
      ]
     },
     "metadata": {},
     "output_type": "display_data"
    }
   ],
   "source": [
    "# Montana\n",
    "response = query_engine.query(\n",
    "    \"\"\"\n",
    "    Using openai, answer this question:\n",
    "    Who are the major party nominess in the Montana Senate Race in 2018?\n",
    "    \"\"\"\n",
    ")\n",
    "display(Markdown(f\"<b>{response}</b>\"))"
   ]
  },
  {
   "cell_type": "code",
   "execution_count": 70,
   "id": "111a0f48",
   "metadata": {},
   "outputs": [
    {
     "name": "stdout",
     "output_type": "stream",
     "text": [
      "INFO:llama_index.token_counter.token_counter:> [retrieve] Total LLM token usage: 0 tokens\n",
      "> [retrieve] Total LLM token usage: 0 tokens\n",
      "INFO:llama_index.token_counter.token_counter:> [retrieve] Total embedding token usage: 39 tokens\n",
      "> [retrieve] Total embedding token usage: 39 tokens\n",
      "INFO:llama_index.token_counter.token_counter:> [get_response] Total LLM token usage: 1642 tokens\n",
      "> [get_response] Total LLM token usage: 1642 tokens\n",
      "INFO:llama_index.token_counter.token_counter:> [get_response] Total embedding token usage: 0 tokens\n",
      "> [get_response] Total embedding token usage: 0 tokens\n"
     ]
    },
    {
     "data": {
      "text/markdown": [
       "<b>Jon Tester won his 2018 senate reelection in Montana, defeating Republican Matt Rosendale. Trump had visited Montana four times and endorsed Rosendale, but Tester was still able to win the race.</b>"
      ],
      "text/plain": [
       "<IPython.core.display.Markdown object>"
      ]
     },
     "metadata": {},
     "output_type": "display_data"
    }
   ],
   "source": [
    "# Montana\n",
    "response = query_engine.query(\n",
    "    \"\"\"\n",
    "    Using the documents, answer this question:\n",
    "    How did Jon Tester perform in his 2018 senate reelection compared to other 2018 senate races?\n",
    "    \"\"\"\n",
    ")\n",
    "display(Markdown(f\"<b>{response}</b>\"))"
   ]
  },
  {
   "cell_type": "code",
   "execution_count": 68,
   "id": "6b5a068a",
   "metadata": {},
   "outputs": [
    {
     "name": "stdout",
     "output_type": "stream",
     "text": [
      "INFO:llama_index.token_counter.token_counter:> [retrieve] Total LLM token usage: 0 tokens\n",
      "> [retrieve] Total LLM token usage: 0 tokens\n",
      "INFO:llama_index.token_counter.token_counter:> [retrieve] Total embedding token usage: 27 tokens\n",
      "> [retrieve] Total embedding token usage: 27 tokens\n",
      "INFO:llama_index.token_counter.token_counter:> [get_response] Total LLM token usage: 1601 tokens\n",
      "> [get_response] Total LLM token usage: 1601 tokens\n",
      "INFO:llama_index.token_counter.token_counter:> [get_response] Total embedding token usage: 0 tokens\n",
      "> [get_response] Total embedding token usage: 0 tokens\n"
     ]
    },
    {
     "data": {
      "text/markdown": [
       "<b>Jon Tester won his 2018 senate reelection race.</b>"
      ],
      "text/plain": [
       "<IPython.core.display.Markdown object>"
      ]
     },
     "metadata": {},
     "output_type": "display_data"
    }
   ],
   "source": [
    "# Montana\n",
    "response = query_engine.query(\n",
    "    \"\"\"\n",
    "    How did Jon Tester perform in his 2018 senate reelection compared to other 2018 senate races?\n",
    "    \"\"\"\n",
    ")\n",
    "display(Markdown(f\"<b>{response}</b>\"))"
   ]
  },
  {
   "cell_type": "code",
   "execution_count": 69,
   "id": "e2bfbb85",
   "metadata": {},
   "outputs": [
    {
     "name": "stdout",
     "output_type": "stream",
     "text": [
      "INFO:llama_index.token_counter.token_counter:> [retrieve] Total LLM token usage: 0 tokens\n",
      "> [retrieve] Total LLM token usage: 0 tokens\n",
      "INFO:llama_index.token_counter.token_counter:> [retrieve] Total embedding token usage: 35 tokens\n",
      "> [retrieve] Total embedding token usage: 35 tokens\n",
      "INFO:llama_index.token_counter.token_counter:> [get_response] Total LLM token usage: 1670 tokens\n",
      "> [get_response] Total LLM token usage: 1670 tokens\n",
      "INFO:llama_index.token_counter.token_counter:> [get_response] Total embedding token usage: 0 tokens\n",
      "> [get_response] Total embedding token usage: 0 tokens\n"
     ]
    },
    {
     "data": {
      "text/markdown": [
       "<b>Jon Tester won his 2018 Senate reelection race, defeating his Republican challenger Matt Rosendale. He was one of the few Democratic incumbents to win a Senate race in 2018, as Republicans gained two seats in the Senate.</b>"
      ],
      "text/plain": [
       "<IPython.core.display.Markdown object>"
      ]
     },
     "metadata": {},
     "output_type": "display_data"
    }
   ],
   "source": [
    "# Montana\n",
    "response = query_engine.query(\n",
    "    \"\"\"\n",
    "    Using openai:\n",
    "    How did Jon Tester perform in his 2018 senate reelection compared to other 2018 senate races?\n",
    "    \"\"\"\n",
    ")\n",
    "display(Markdown(f\"<b>{response}</b>\"))"
   ]
  },
  {
   "cell_type": "code",
   "execution_count": 29,
   "id": "b2a0c033",
   "metadata": {},
   "outputs": [
    {
     "name": "stdout",
     "output_type": "stream",
     "text": [
      "INFO:llama_index.token_counter.token_counter:> [retrieve] Total LLM token usage: 0 tokens\n",
      "> [retrieve] Total LLM token usage: 0 tokens\n",
      "INFO:llama_index.token_counter.token_counter:> [retrieve] Total embedding token usage: 32 tokens\n",
      "> [retrieve] Total embedding token usage: 32 tokens\n",
      "INFO:llama_index.token_counter.token_counter:> [get_response] Total LLM token usage: 1706 tokens\n",
      "> [get_response] Total LLM token usage: 1706 tokens\n",
      "INFO:llama_index.token_counter.token_counter:> [get_response] Total embedding token usage: 0 tokens\n",
      "> [get_response] Total embedding token usage: 0 tokens\n"
     ]
    },
    {
     "data": {
      "text/markdown": [
       "<b>The major campaign issues in the Montana Senate Race, according to the context information, were Joe Manchin's defense of the coal industry, Sherrod Brown's opposition to much of U.S. trade policy, and Jon Tester's playing up of his rancher credentials.</b>"
      ],
      "text/plain": [
       "<IPython.core.display.Markdown object>"
      ]
     },
     "metadata": {},
     "output_type": "display_data"
    }
   ],
   "source": [
    "# Montana\n",
    "response = query_engine.query(\n",
    "    \"\"\"\n",
    "    Using the documents, answer this question:\n",
    "    What were major campaign issues in the Montana Senate Race.\n",
    "    \"\"\"\n",
    ")\n",
    "display(Markdown(f\"<b>{response}</b>\"))"
   ]
  },
  {
   "cell_type": "code",
   "execution_count": 30,
   "id": "eb5a6e31",
   "metadata": {},
   "outputs": [
    {
     "name": "stdout",
     "output_type": "stream",
     "text": [
      "INFO:llama_index.token_counter.token_counter:> [retrieve] Total LLM token usage: 0 tokens\n",
      "> [retrieve] Total LLM token usage: 0 tokens\n",
      "INFO:llama_index.token_counter.token_counter:> [retrieve] Total embedding token usage: 20 tokens\n",
      "> [retrieve] Total embedding token usage: 20 tokens\n",
      "INFO:llama_index.token_counter.token_counter:> [get_response] Total LLM token usage: 1437 tokens\n",
      "> [get_response] Total LLM token usage: 1437 tokens\n",
      "INFO:llama_index.token_counter.token_counter:> [get_response] Total embedding token usage: 0 tokens\n",
      "> [get_response] Total embedding token usage: 0 tokens\n"
     ]
    },
    {
     "data": {
      "text/markdown": [
       "<b>Major campaign issues in the Montana Senate Race included healthcare, the Congressional Budget Office's evaluation of the American Health Care Act, gun measures, climate change, clean energy industry, jobs, Medicaid insurance, consumer, labor and finance law, and antitrust law.</b>"
      ],
      "text/plain": [
       "<IPython.core.display.Markdown object>"
      ]
     },
     "metadata": {},
     "output_type": "display_data"
    }
   ],
   "source": [
    "# Montana\n",
    "response = query_engine.query(\n",
    "    \"\"\"\n",
    "    What were major campaign issues in the Montana Senate Race.\n",
    "    \"\"\"\n",
    ")\n",
    "display(Markdown(f\"<b>{response}</b>\"))"
   ]
  },
  {
   "cell_type": "code",
   "execution_count": 52,
   "id": "f511d72e",
   "metadata": {},
   "outputs": [
    {
     "name": "stdout",
     "output_type": "stream",
     "text": [
      "INFO:llama_index.token_counter.token_counter:> [retrieve] Total LLM token usage: 0 tokens\n",
      "> [retrieve] Total LLM token usage: 0 tokens\n",
      "INFO:llama_index.token_counter.token_counter:> [retrieve] Total embedding token usage: 32 tokens\n",
      "> [retrieve] Total embedding token usage: 32 tokens\n",
      "INFO:llama_index.token_counter.token_counter:> [get_response] Total LLM token usage: 1438 tokens\n",
      "> [get_response] Total LLM token usage: 1438 tokens\n",
      "INFO:llama_index.token_counter.token_counter:> [get_response] Total embedding token usage: 0 tokens\n",
      "> [get_response] Total embedding token usage: 0 tokens\n"
     ]
    },
    {
     "data": {
      "text/markdown": [
       "<b>Major campaign issues in the Montana Senate Race included healthcare, gun control, trade policy, climate change, jobs, Medicaid expansion, consumer, labor, and finance law, and clean energy industry growth.</b>"
      ],
      "text/plain": [
       "<IPython.core.display.Markdown object>"
      ]
     },
     "metadata": {},
     "output_type": "display_data"
    }
   ],
   "source": [
    "# Montana\n",
    "response = query_engine.query(\n",
    "    \"\"\"\n",
    "    Using openai, answer this question:\n",
    "    What were major campaign issues in the Montana Senate Race.\n",
    "    \"\"\"\n",
    ")\n",
    "display(Markdown(f\"<b>{response}</b>\"))"
   ]
  },
  {
   "cell_type": "code",
   "execution_count": 75,
   "id": "d6d92294",
   "metadata": {},
   "outputs": [
    {
     "name": "stdout",
     "output_type": "stream",
     "text": [
      "INFO:llama_index.token_counter.token_counter:> [retrieve] Total LLM token usage: 0 tokens\n",
      "> [retrieve] Total LLM token usage: 0 tokens\n",
      "INFO:llama_index.token_counter.token_counter:> [retrieve] Total embedding token usage: 36 tokens\n",
      "> [retrieve] Total embedding token usage: 36 tokens\n",
      "INFO:llama_index.token_counter.token_counter:> [get_response] Total LLM token usage: 1674 tokens\n",
      "> [get_response] Total LLM token usage: 1674 tokens\n",
      "INFO:llama_index.token_counter.token_counter:> [get_response] Total embedding token usage: 0 tokens\n",
      "> [get_response] Total embedding token usage: 0 tokens\n"
     ]
    },
    {
     "data": {
      "text/markdown": [
       "<b>Jon Tester won his 2018 reelection race, suggesting that he performed well among rural voters. He was able to establish a personal brand at odds with the national party, defending the coal industry and opposing much of U.S. trade policy, which likely resonated with rural voters.</b>"
      ],
      "text/plain": [
       "<IPython.core.display.Markdown object>"
      ]
     },
     "metadata": {},
     "output_type": "display_data"
    }
   ],
   "source": [
    "# Montana\n",
    "response = query_engine.query(\n",
    "    \"\"\"\n",
    "    Using the documents, answer this question:\n",
    "    How did Jon Tester perform among rural voters in his 2018 reelection race?\n",
    "    \"\"\"\n",
    ")\n",
    "display(Markdown(f\"<b>{response}</b>\"))"
   ]
  },
  {
   "cell_type": "code",
   "execution_count": 76,
   "id": "f4bb7e00",
   "metadata": {},
   "outputs": [
    {
     "name": "stdout",
     "output_type": "stream",
     "text": [
      "INFO:llama_index.token_counter.token_counter:> [retrieve] Total LLM token usage: 0 tokens\n",
      "> [retrieve] Total LLM token usage: 0 tokens\n",
      "INFO:llama_index.token_counter.token_counter:> [retrieve] Total embedding token usage: 24 tokens\n",
      "> [retrieve] Total embedding token usage: 24 tokens\n",
      "INFO:llama_index.token_counter.token_counter:> [get_response] Total LLM token usage: 1620 tokens\n",
      "> [get_response] Total LLM token usage: 1620 tokens\n",
      "INFO:llama_index.token_counter.token_counter:> [get_response] Total embedding token usage: 0 tokens\n",
      "> [get_response] Total embedding token usage: 0 tokens\n"
     ]
    },
    {
     "data": {
      "text/markdown": [
       "<b>It is not possible to answer this question with the given context information.</b>"
      ],
      "text/plain": [
       "<IPython.core.display.Markdown object>"
      ]
     },
     "metadata": {},
     "output_type": "display_data"
    }
   ],
   "source": [
    "# Montana\n",
    "response = query_engine.query(\n",
    "    \"\"\"\n",
    "    How did Jon Tester perform among rural voters in his 2018 reelection race?\n",
    "    \"\"\"\n",
    ")\n",
    "display(Markdown(f\"<b>{response}</b>\"))"
   ]
  },
  {
   "cell_type": "code",
   "execution_count": 77,
   "id": "c7e2b6ad",
   "metadata": {},
   "outputs": [
    {
     "name": "stdout",
     "output_type": "stream",
     "text": [
      "INFO:llama_index.token_counter.token_counter:> [retrieve] Total LLM token usage: 0 tokens\n",
      "> [retrieve] Total LLM token usage: 0 tokens\n",
      "INFO:llama_index.token_counter.token_counter:> [retrieve] Total embedding token usage: 32 tokens\n",
      "> [retrieve] Total embedding token usage: 32 tokens\n",
      "INFO:llama_index.token_counter.token_counter:> [get_response] Total LLM token usage: 1671 tokens\n",
      "> [get_response] Total LLM token usage: 1671 tokens\n",
      "INFO:llama_index.token_counter.token_counter:> [get_response] Total embedding token usage: 0 tokens\n",
      "> [get_response] Total embedding token usage: 0 tokens\n"
     ]
    },
    {
     "data": {
      "text/markdown": [
       "<b>According to the Associated Press, Jon Tester won his 2018 reelection race in Montana by playing up his rancher credentials and appealing to rural voters. He won the rural vote by a margin of 56-41, outperforming the national average of rural voters who voted for Republican House candidates.</b>"
      ],
      "text/plain": [
       "<IPython.core.display.Markdown object>"
      ]
     },
     "metadata": {},
     "output_type": "display_data"
    }
   ],
   "source": [
    "# Montana\n",
    "response = query_engine.query(\n",
    "    \"\"\"\n",
    "    Using openapi:\n",
    "    How did Jon Tester perform among rural voters in his 2018 reelection race?\n",
    "    \"\"\"\n",
    ")\n",
    "display(Markdown(f\"<b>{response}</b>\"))"
   ]
  },
  {
   "cell_type": "code",
   "execution_count": 78,
   "id": "0d3b4e6e",
   "metadata": {},
   "outputs": [
    {
     "name": "stdout",
     "output_type": "stream",
     "text": [
      "INFO:llama_index.token_counter.token_counter:> [retrieve] Total LLM token usage: 0 tokens\n",
      "> [retrieve] Total LLM token usage: 0 tokens\n",
      "INFO:llama_index.token_counter.token_counter:> [retrieve] Total embedding token usage: 39 tokens\n",
      "> [retrieve] Total embedding token usage: 39 tokens\n",
      "INFO:llama_index.token_counter.token_counter:> [get_response] Total LLM token usage: 1402 tokens\n",
      "> [get_response] Total LLM token usage: 1402 tokens\n",
      "INFO:llama_index.token_counter.token_counter:> [get_response] Total embedding token usage: 0 tokens\n",
      "> [get_response] Total embedding token usage: 0 tokens\n"
     ]
    },
    {
     "data": {
      "text/markdown": [
       "<b>The document does not provide enough information to answer this question.</b>"
      ],
      "text/plain": [
       "<IPython.core.display.Markdown object>"
      ]
     },
     "metadata": {},
     "output_type": "display_data"
    }
   ],
   "source": [
    "# Montana\n",
    "response = query_engine.query(\n",
    "    \"\"\"\n",
    "    Using the documents, answer this question:\n",
    "    Why was there a swing from republicans to democrats in Montana from 2016 to 2018?\n",
    "    \"\"\"\n",
    ")\n",
    "display(Markdown(f\"<b>{response}</b>\"))"
   ]
  },
  {
   "cell_type": "code",
   "execution_count": 79,
   "id": "fd59dffa",
   "metadata": {},
   "outputs": [
    {
     "name": "stdout",
     "output_type": "stream",
     "text": [
      "INFO:llama_index.token_counter.token_counter:> [retrieve] Total LLM token usage: 0 tokens\n",
      "> [retrieve] Total LLM token usage: 0 tokens\n",
      "INFO:llama_index.token_counter.token_counter:> [retrieve] Total embedding token usage: 27 tokens\n",
      "> [retrieve] Total embedding token usage: 27 tokens\n",
      "INFO:llama_index.token_counter.token_counter:> [get_response] Total LLM token usage: 1511 tokens\n",
      "> [get_response] Total LLM token usage: 1511 tokens\n",
      "INFO:llama_index.token_counter.token_counter:> [get_response] Total embedding token usage: 0 tokens\n",
      "> [get_response] Total embedding token usage: 0 tokens\n"
     ]
    },
    {
     "data": {
      "text/markdown": [
       "<b>The swing from Republicans to Democrats in Montana from 2016 to 2018 may have been due to a combination of policy and personality. In 2016, Democratic presidential candidate Bernie Sanders struggled to balance his views on gun control with those of rural and small-town voters who were more culturally conservative than urban dwellers. In 2018, Democratic Senator Jon Tester played up his rancher credentials and opposed much of U.S. trade policy, which may have resonated with rural and small-town voters. Additionally, Democratic candidates in 2018 may have benefited from the national party's support of abortion rights and LGBTQ civil rights, as well as their opposition to Trump's hard line on immigration.</b>"
      ],
      "text/plain": [
       "<IPython.core.display.Markdown object>"
      ]
     },
     "metadata": {},
     "output_type": "display_data"
    }
   ],
   "source": [
    "# Montana\n",
    "response = query_engine.query(\n",
    "    \"\"\"\n",
    "    Why was there a swing from republicans to democrats in Montana from 2016 to 2018?\n",
    "    \"\"\"\n",
    ")\n",
    "display(Markdown(f\"<b>{response}</b>\"))"
   ]
  },
  {
   "cell_type": "code",
   "execution_count": 80,
   "id": "4f6da3d4",
   "metadata": {},
   "outputs": [
    {
     "name": "stdout",
     "output_type": "stream",
     "text": [
      "INFO:llama_index.token_counter.token_counter:> [retrieve] Total LLM token usage: 0 tokens\n",
      "> [retrieve] Total LLM token usage: 0 tokens\n",
      "INFO:llama_index.token_counter.token_counter:> [retrieve] Total embedding token usage: 35 tokens\n",
      "> [retrieve] Total embedding token usage: 35 tokens\n",
      "INFO:llama_index.token_counter.token_counter:> [get_response] Total LLM token usage: 1553 tokens\n",
      "> [get_response] Total LLM token usage: 1553 tokens\n",
      "INFO:llama_index.token_counter.token_counter:> [get_response] Total embedding token usage: 0 tokens\n",
      "> [get_response] Total embedding token usage: 0 tokens\n"
     ]
    },
    {
     "data": {
      "text/markdown": [
       "<b>The swing from Republicans to Democrats in Montana from 2016 to 2018 was likely due to a combination of policy and personality. In 2016, Democratic presidential candidate Bernie Sanders struggled to balance his views on gun control with those of rural and small-town voters, who tend to be more culturally conservative than urban dwellers. In 2018, however, Democratic candidates such as Jon Tester, Sherrod Brown, and Joe Manchin were able to establish a personal brand at odds with the national party, while still appealing to rural and small-town voters. These candidates focused on issues such as the coal industry, trade policy, and rancher credentials, which resonated with rural and small-town voters. Additionally, Democratic candidates in 2018 were able to make economic arguments and emphasize their biographies, which helped to connect with rural and small-town voters.</b>"
      ],
      "text/plain": [
       "<IPython.core.display.Markdown object>"
      ]
     },
     "metadata": {},
     "output_type": "display_data"
    }
   ],
   "source": [
    "# Montana\n",
    "response = query_engine.query(\n",
    "    \"\"\"\n",
    "    Using openai:\n",
    "    Why was there a swing from republicans to democrats in Montana from 2016 to 2018?\n",
    "    \"\"\"\n",
    ")\n",
    "display(Markdown(f\"<b>{response}</b>\"))"
   ]
  },
  {
   "cell_type": "code",
   "execution_count": 33,
   "id": "93594488",
   "metadata": {},
   "outputs": [
    {
     "name": "stdout",
     "output_type": "stream",
     "text": [
      "INFO:llama_index.token_counter.token_counter:> [retrieve] Total LLM token usage: 0 tokens\n",
      "> [retrieve] Total LLM token usage: 0 tokens\n",
      "INFO:llama_index.token_counter.token_counter:> [retrieve] Total embedding token usage: 36 tokens\n",
      "> [retrieve] Total embedding token usage: 36 tokens\n",
      "INFO:llama_index.token_counter.token_counter:> [get_response] Total LLM token usage: 1518 tokens\n",
      "> [get_response] Total LLM token usage: 1518 tokens\n",
      "INFO:llama_index.token_counter.token_counter:> [get_response] Total embedding token usage: 0 tokens\n",
      "> [get_response] Total embedding token usage: 0 tokens\n"
     ]
    },
    {
     "data": {
      "text/markdown": [
       "<b>Based on the context information provided, the major party nominees in the Utah Senate Race in 2018 are not mentioned.</b>"
      ],
      "text/plain": [
       "<IPython.core.display.Markdown object>"
      ]
     },
     "metadata": {},
     "output_type": "display_data"
    }
   ],
   "source": [
    "# Utah\n",
    "response = query_engine.query(\n",
    "    \"\"\"\n",
    "    Using the documents, answer this question:\n",
    "    Who are the major party nominess in the Utah Senate Race in 2018?\n",
    "    \"\"\"\n",
    ")\n",
    "display(Markdown(f\"<b>{response}</b>\"))"
   ]
  },
  {
   "cell_type": "code",
   "execution_count": 34,
   "id": "eb988d8e",
   "metadata": {},
   "outputs": [
    {
     "name": "stdout",
     "output_type": "stream",
     "text": [
      "INFO:llama_index.token_counter.token_counter:> [retrieve] Total LLM token usage: 0 tokens\n",
      "> [retrieve] Total LLM token usage: 0 tokens\n",
      "INFO:llama_index.token_counter.token_counter:> [retrieve] Total embedding token usage: 24 tokens\n",
      "> [retrieve] Total embedding token usage: 24 tokens\n",
      "INFO:llama_index.token_counter.token_counter:> [get_response] Total LLM token usage: 1101 tokens\n",
      "> [get_response] Total LLM token usage: 1101 tokens\n",
      "INFO:llama_index.token_counter.token_counter:> [get_response] Total embedding token usage: 0 tokens\n",
      "> [get_response] Total embedding token usage: 0 tokens\n"
     ]
    },
    {
     "data": {
      "text/markdown": [
       "<b>The major party nominees in the Utah Senate Race in 2018 were Mitt Romney (Republican) and Jenny Wilson (Democrat).</b>"
      ],
      "text/plain": [
       "<IPython.core.display.Markdown object>"
      ]
     },
     "metadata": {},
     "output_type": "display_data"
    }
   ],
   "source": [
    "# Utah\n",
    "response = query_engine.query(\n",
    "    \"\"\"\n",
    "    Who are the major party nominess in the Utah Senate Race in 2018?\n",
    "    \"\"\"\n",
    ")\n",
    "display(Markdown(f\"<b>{response}</b>\"))"
   ]
  },
  {
   "cell_type": "code",
   "execution_count": 81,
   "id": "84e19590",
   "metadata": {},
   "outputs": [
    {
     "name": "stdout",
     "output_type": "stream",
     "text": [
      "INFO:llama_index.token_counter.token_counter:> [retrieve] Total LLM token usage: 0 tokens\n",
      "> [retrieve] Total LLM token usage: 0 tokens\n",
      "INFO:llama_index.token_counter.token_counter:> [retrieve] Total embedding token usage: 32 tokens\n",
      "> [retrieve] Total embedding token usage: 32 tokens\n",
      "INFO:llama_index.token_counter.token_counter:> [get_response] Total LLM token usage: 1882 tokens\n",
      "> [get_response] Total LLM token usage: 1882 tokens\n",
      "INFO:llama_index.token_counter.token_counter:> [get_response] Total embedding token usage: 0 tokens\n",
      "> [get_response] Total embedding token usage: 0 tokens\n"
     ]
    },
    {
     "data": {
      "text/markdown": [
       "<b>The major party nominees in the Utah Senate race in 2018 were Republican Mitt Romney and Democrat Jenny Wilson.</b>"
      ],
      "text/plain": [
       "<IPython.core.display.Markdown object>"
      ]
     },
     "metadata": {},
     "output_type": "display_data"
    }
   ],
   "source": [
    "# Utah\n",
    "response = query_engine.query(\n",
    "    \"\"\"\n",
    "    Using openai:\n",
    "    Who are the major party nominess in the Utah Senate Race in 2018?\n",
    "    \"\"\"\n",
    ")\n",
    "display(Markdown(f\"<b>{response}</b>\"))"
   ]
  },
  {
   "cell_type": "code",
   "execution_count": 35,
   "id": "f2d66a9b",
   "metadata": {},
   "outputs": [
    {
     "name": "stdout",
     "output_type": "stream",
     "text": [
      "INFO:llama_index.token_counter.token_counter:> [retrieve] Total LLM token usage: 0 tokens\n",
      "> [retrieve] Total LLM token usage: 0 tokens\n",
      "INFO:llama_index.token_counter.token_counter:> [retrieve] Total embedding token usage: 33 tokens\n",
      "> [retrieve] Total embedding token usage: 33 tokens\n",
      "INFO:llama_index.token_counter.token_counter:> [get_response] Total LLM token usage: 1698 tokens\n",
      "> [get_response] Total LLM token usage: 1698 tokens\n",
      "INFO:llama_index.token_counter.token_counter:> [get_response] Total embedding token usage: 0 tokens\n",
      "> [get_response] Total embedding token usage: 0 tokens\n"
     ]
    },
    {
     "data": {
      "text/markdown": [
       "<b>The winner of the Utah Senate Race in 2018 is Mitt Romney.</b>"
      ],
      "text/plain": [
       "<IPython.core.display.Markdown object>"
      ]
     },
     "metadata": {},
     "output_type": "display_data"
    }
   ],
   "source": [
    "# Utah\n",
    "response = query_engine.query(\n",
    "    \"\"\"\n",
    "    Using the documents, answer this question:\n",
    "    Who is the winner of the Utah Senate Race in 2018?\n",
    "    \"\"\"\n",
    ")\n",
    "display(Markdown(f\"<b>{response}</b>\"))"
   ]
  },
  {
   "cell_type": "code",
   "execution_count": 36,
   "id": "f9f5d713",
   "metadata": {},
   "outputs": [
    {
     "name": "stdout",
     "output_type": "stream",
     "text": [
      "INFO:llama_index.token_counter.token_counter:> [retrieve] Total LLM token usage: 0 tokens\n",
      "> [retrieve] Total LLM token usage: 0 tokens\n",
      "INFO:llama_index.token_counter.token_counter:> [retrieve] Total embedding token usage: 21 tokens\n",
      "> [retrieve] Total embedding token usage: 21 tokens\n",
      "INFO:llama_index.token_counter.token_counter:> [get_response] Total LLM token usage: 1687 tokens\n",
      "> [get_response] Total LLM token usage: 1687 tokens\n",
      "INFO:llama_index.token_counter.token_counter:> [get_response] Total embedding token usage: 0 tokens\n",
      "> [get_response] Total embedding token usage: 0 tokens\n"
     ]
    },
    {
     "data": {
      "text/markdown": [
       "<b>The winner of the Utah Senate Race in 2018 was Republican Mitt Romney.</b>"
      ],
      "text/plain": [
       "<IPython.core.display.Markdown object>"
      ]
     },
     "metadata": {},
     "output_type": "display_data"
    }
   ],
   "source": [
    "# Utah\n",
    "response = query_engine.query(\n",
    "    \"\"\"\n",
    "    Who is the winner of the Utah Senate Race in 2018?\n",
    "    \"\"\"\n",
    ")\n",
    "display(Markdown(f\"<b>{response}</b>\"))"
   ]
  },
  {
   "cell_type": "code",
   "execution_count": 55,
   "id": "8ef32112",
   "metadata": {},
   "outputs": [
    {
     "name": "stdout",
     "output_type": "stream",
     "text": [
      "INFO:llama_index.token_counter.token_counter:> [retrieve] Total LLM token usage: 0 tokens\n",
      "> [retrieve] Total LLM token usage: 0 tokens\n",
      "INFO:llama_index.token_counter.token_counter:> [retrieve] Total embedding token usage: 33 tokens\n",
      "> [retrieve] Total embedding token usage: 33 tokens\n",
      "INFO:llama_index.token_counter.token_counter:> [get_response] Total LLM token usage: 1881 tokens\n",
      "> [get_response] Total LLM token usage: 1881 tokens\n",
      "INFO:llama_index.token_counter.token_counter:> [get_response] Total embedding token usage: 0 tokens\n",
      "> [get_response] Total embedding token usage: 0 tokens\n"
     ]
    },
    {
     "data": {
      "text/markdown": [
       "<b>The winner of the Utah Senate Race in 2018 was Republican Mitt Romney.</b>"
      ],
      "text/plain": [
       "<IPython.core.display.Markdown object>"
      ]
     },
     "metadata": {},
     "output_type": "display_data"
    }
   ],
   "source": [
    "# Utah\n",
    "response = query_engine.query(\n",
    "    \"\"\"\n",
    "    Using openai, answer this question:\n",
    "    Who is the winner of the Utah Senate Race in 2018?\n",
    "    \"\"\"\n",
    ")\n",
    "display(Markdown(f\"<b>{response}</b>\"))"
   ]
  },
  {
   "cell_type": "code",
   "execution_count": 37,
   "id": "4ad3e0e6",
   "metadata": {},
   "outputs": [
    {
     "name": "stdout",
     "output_type": "stream",
     "text": [
      "INFO:llama_index.token_counter.token_counter:> [retrieve] Total LLM token usage: 0 tokens\n",
      "> [retrieve] Total LLM token usage: 0 tokens\n",
      "INFO:llama_index.token_counter.token_counter:> [retrieve] Total embedding token usage: 39 tokens\n",
      "> [retrieve] Total embedding token usage: 39 tokens\n",
      "INFO:llama_index.token_counter.token_counter:> [get_response] Total LLM token usage: 1410 tokens\n",
      "> [get_response] Total LLM token usage: 1410 tokens\n",
      "INFO:llama_index.token_counter.token_counter:> [get_response] Total embedding token usage: 0 tokens\n",
      "> [get_response] Total embedding token usage: 0 tokens\n"
     ]
    },
    {
     "data": {
      "text/markdown": [
       "<b>The documents do not provide information about the swing from Democrats to Republicans in Utah from 2016 to 2018.</b>"
      ],
      "text/plain": [
       "<IPython.core.display.Markdown object>"
      ]
     },
     "metadata": {},
     "output_type": "display_data"
    }
   ],
   "source": [
    "# Utah\n",
    "response = query_engine.query(\n",
    "    \"\"\"\n",
    "    Using the documents, answer this question:\n",
    "    Why was there a swing from democrats to republicans in Utah from 2016 to 2018?\n",
    "    \"\"\"\n",
    ")\n",
    "display(Markdown(f\"<b>{response}</b>\"))"
   ]
  },
  {
   "cell_type": "code",
   "execution_count": 38,
   "id": "02913b2d",
   "metadata": {},
   "outputs": [
    {
     "name": "stdout",
     "output_type": "stream",
     "text": [
      "INFO:llama_index.token_counter.token_counter:> [retrieve] Total LLM token usage: 0 tokens\n",
      "> [retrieve] Total LLM token usage: 0 tokens\n",
      "INFO:llama_index.token_counter.token_counter:> [retrieve] Total embedding token usage: 27 tokens\n",
      "> [retrieve] Total embedding token usage: 27 tokens\n",
      "INFO:llama_index.token_counter.token_counter:> [get_response] Total LLM token usage: 1455 tokens\n",
      "> [get_response] Total LLM token usage: 1455 tokens\n",
      "INFO:llama_index.token_counter.token_counter:> [get_response] Total embedding token usage: 0 tokens\n",
      "> [get_response] Total embedding token usage: 0 tokens\n"
     ]
    },
    {
     "data": {
      "text/markdown": [
       "<b>It is unclear why there was a swing from Democrats to Republicans in Utah from 2016 to 2018. It is possible that the Republican candidates in the 2018 election had more appeal to Utah voters than the Democratic candidates, or that the Republican candidates had better platforms and policies that resonated with Utah voters. It is also possible that the Republican candidates had better name recognition or more resources to campaign with.</b>"
      ],
      "text/plain": [
       "<IPython.core.display.Markdown object>"
      ]
     },
     "metadata": {},
     "output_type": "display_data"
    }
   ],
   "source": [
    "# Utah\n",
    "response = query_engine.query(\n",
    "    \"\"\"\n",
    "    Why was there a swing from democrats to republicans in Utah from 2016 to 2018?\n",
    "    \"\"\"\n",
    ")\n",
    "display(Markdown(f\"<b>{response}</b>\"))"
   ]
  },
  {
   "cell_type": "code",
   "execution_count": 56,
   "id": "e3309682",
   "metadata": {},
   "outputs": [
    {
     "name": "stdout",
     "output_type": "stream",
     "text": [
      "INFO:llama_index.token_counter.token_counter:> [retrieve] Total LLM token usage: 0 tokens\n",
      "> [retrieve] Total LLM token usage: 0 tokens\n",
      "INFO:llama_index.token_counter.token_counter:> [retrieve] Total embedding token usage: 39 tokens\n",
      "> [retrieve] Total embedding token usage: 39 tokens\n",
      "INFO:llama_index.token_counter.token_counter:> [get_response] Total LLM token usage: 1476 tokens\n",
      "> [get_response] Total LLM token usage: 1476 tokens\n",
      "INFO:llama_index.token_counter.token_counter:> [get_response] Total embedding token usage: 0 tokens\n",
      "> [get_response] Total embedding token usage: 0 tokens\n"
     ]
    },
    {
     "data": {
      "text/markdown": [
       "<b>The 2018 election in Utah saw a shift from Democratic to Republican candidates due to the state's conservative leanings and the Republican Party's strong support among older, blue-collar, and rural white voters. This shift was further accelerated by President Trump's tumultuous presidency, which has intensified the GOP's strength among these demographics. Additionally, the Republican Party's hard-line stance on immigration and other issues has resonated with many Utah voters.</b>"
      ],
      "text/plain": [
       "<IPython.core.display.Markdown object>"
      ]
     },
     "metadata": {},
     "output_type": "display_data"
    }
   ],
   "source": [
    "# Utah\n",
    "response = query_engine.query(\n",
    "    \"\"\"\n",
    "    Using openai, answer this question:\n",
    "    Why was there a swing from democrats to republicans in Utah from 2016 to 2018?\n",
    "    \"\"\"\n",
    ")\n",
    "display(Markdown(f\"<b>{response}</b>\"))"
   ]
  },
  {
   "cell_type": "code",
   "execution_count": 94,
   "id": "dc24af47",
   "metadata": {},
   "outputs": [
    {
     "name": "stdout",
     "output_type": "stream",
     "text": [
      "INFO:llama_index.token_counter.token_counter:> [retrieve] Total LLM token usage: 0 tokens\n",
      "> [retrieve] Total LLM token usage: 0 tokens\n",
      "INFO:llama_index.token_counter.token_counter:> [retrieve] Total embedding token usage: 33 tokens\n",
      "> [retrieve] Total embedding token usage: 33 tokens\n",
      "INFO:llama_index.token_counter.token_counter:> [get_response] Total LLM token usage: 1665 tokens\n",
      "> [get_response] Total LLM token usage: 1665 tokens\n",
      "INFO:llama_index.token_counter.token_counter:> [get_response] Total embedding token usage: 0 tokens\n",
      "> [get_response] Total embedding token usage: 0 tokens\n"
     ]
    },
    {
     "data": {
      "text/markdown": [
       "<b>The documents do not provide information about the 2018 Utah Senate Race.</b>"
      ],
      "text/plain": [
       "<IPython.core.display.Markdown object>"
      ]
     },
     "metadata": {},
     "output_type": "display_data"
    }
   ],
   "source": [
    "# Utah\n",
    "response = query_engine.query(\n",
    "    \"\"\"\n",
    "    Using the documents, answer this question:\n",
    "    What were major campaign issues in the 2018 Utah Senate Race.\n",
    "    \"\"\"\n",
    ")\n",
    "display(Markdown(f\"<b>{response}</b>\"))"
   ]
  },
  {
   "cell_type": "code",
   "execution_count": 95,
   "id": "e4fa9671",
   "metadata": {},
   "outputs": [
    {
     "name": "stdout",
     "output_type": "stream",
     "text": [
      "INFO:llama_index.token_counter.token_counter:> [retrieve] Total LLM token usage: 0 tokens\n",
      "> [retrieve] Total LLM token usage: 0 tokens\n",
      "INFO:llama_index.token_counter.token_counter:> [retrieve] Total embedding token usage: 21 tokens\n",
      "> [retrieve] Total embedding token usage: 21 tokens\n",
      "INFO:llama_index.token_counter.token_counter:> [get_response] Total LLM token usage: 1788 tokens\n",
      "> [get_response] Total LLM token usage: 1788 tokens\n",
      "INFO:llama_index.token_counter.token_counter:> [get_response] Total embedding token usage: 0 tokens\n",
      "> [get_response] Total embedding token usage: 0 tokens\n"
     ]
    },
    {
     "data": {
      "text/markdown": [
       "<b>Major campaign issues in the 2018 Utah Senate Race included immigration, healthcare, taxes, gun control, and the economy. Immigration was a major issue due to the Trump administration's hardline stance on the issue. Healthcare was a major issue due to the debate over the Affordable Care Act and the potential for Medicaid expansion. Taxes were a major issue due to the debate over tax cuts and the potential for tax reform. Gun control was a major issue due to the debate over gun rights and gun safety. The economy was a major issue due to the debate over job growth and economic development.</b>"
      ],
      "text/plain": [
       "<IPython.core.display.Markdown object>"
      ]
     },
     "metadata": {},
     "output_type": "display_data"
    }
   ],
   "source": [
    "# Utah\n",
    "response = query_engine.query(\n",
    "    \"\"\"\n",
    "    What were major campaign issues in the 2018 Utah Senate Race.\n",
    "    \"\"\"\n",
    ")\n",
    "display(Markdown(f\"<b>{response}</b>\"))"
   ]
  },
  {
   "cell_type": "code",
   "execution_count": 96,
   "id": "b9cdc7e1",
   "metadata": {},
   "outputs": [
    {
     "name": "stdout",
     "output_type": "stream",
     "text": [
      "INFO:llama_index.token_counter.token_counter:> [retrieve] Total LLM token usage: 0 tokens\n",
      "> [retrieve] Total LLM token usage: 0 tokens\n",
      "INFO:llama_index.token_counter.token_counter:> [retrieve] Total embedding token usage: 29 tokens\n",
      "> [retrieve] Total embedding token usage: 29 tokens\n",
      "INFO:llama_index.token_counter.token_counter:> [get_response] Total LLM token usage: 1823 tokens\n",
      "> [get_response] Total LLM token usage: 1823 tokens\n",
      "INFO:llama_index.token_counter.token_counter:> [get_response] Total embedding token usage: 0 tokens\n",
      "> [get_response] Total embedding token usage: 0 tokens\n"
     ]
    },
    {
     "data": {
      "text/markdown": [
       "<b>The major campaign issues in the 2018 Utah Senate Race were health care, immigration, taxes, education, and the economy. Health care was a major issue, with both candidates supporting the expansion of Medicaid and the protection of pre-existing conditions. Immigration was also a major issue, with both candidates supporting a pathway to citizenship for Dreamers and opposing the Trump administration's hardline immigration policies. Taxes were also a major issue, with both candidates supporting tax cuts for the middle class and opposing tax cuts for the wealthy. Education was also a major issue, with both candidates supporting increased funding for public schools and opposing school vouchers. Finally, the economy was a major issue, with both candidates supporting job creation and economic growth.</b>"
      ],
      "text/plain": [
       "<IPython.core.display.Markdown object>"
      ]
     },
     "metadata": {},
     "output_type": "display_data"
    }
   ],
   "source": [
    "# Utah\n",
    "response = query_engine.query(\n",
    "    \"\"\"\n",
    "    Using openai:\n",
    "    What were major campaign issues in the 2018 Utah Senate Race.\n",
    "    \"\"\"\n",
    ")\n",
    "display(Markdown(f\"<b>{response}</b>\"))"
   ]
  }
 ],
 "metadata": {
  "kernelspec": {
   "display_name": "Python 3 (ipykernel)",
   "language": "python",
   "name": "python3"
  },
  "language_info": {
   "codemirror_mode": {
    "name": "ipython",
    "version": 3
   },
   "file_extension": ".py",
   "mimetype": "text/x-python",
   "name": "python",
   "nbconvert_exporter": "python",
   "pygments_lexer": "ipython3",
   "version": "3.9.7"
  }
 },
 "nbformat": 4,
 "nbformat_minor": 5
}
