{
 "cells": [
  {
   "cell_type": "code",
   "execution_count": null,
   "id": "a4c3d0d2",
   "metadata": {},
   "outputs": [],
   "source": [
    "import pyarrow as pa\n",
    "import pyarrow.parquet as pq"
   ]
  },
  {
   "cell_type": "code",
   "execution_count": null,
   "id": "fdbb4d8d",
   "metadata": {},
   "outputs": [],
   "source": [
    "parq = pq.ParquetFile('output.parquet')"
   ]
  },
  {
   "cell_type": "code",
   "execution_count": null,
   "id": "bee9e5d8",
   "metadata": {},
   "outputs": [],
   "source": [
    "table = parq.read()\n",
    "\n",
    "#selected_table = table.select(['city', 'country', 'population'])"
   ]
  }
 ],
 "metadata": {
  "kernelspec": {
   "display_name": "Python 3 (ipykernel)",
   "language": "python",
   "name": "python3"
  },
  "language_info": {
   "codemirror_mode": {
    "name": "ipython",
    "version": 3
   },
   "file_extension": ".py",
   "mimetype": "text/x-python",
   "name": "python",
   "nbconvert_exporter": "python",
   "pygments_lexer": "ipython3",
   "version": "3.9.7"
  }
 },
 "nbformat": 4,
 "nbformat_minor": 5
}
