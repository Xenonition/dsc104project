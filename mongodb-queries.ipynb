{
 "cells": [
  {
   "cell_type": "code",
   "execution_count": 20,
   "id": "06d9303f",
   "metadata": {},
   "outputs": [],
   "source": [
    "from pymongo import MongoClient\n",
    "import datetime\n",
    "\n",
    "client = MongoClient('mongodb://localhost:27017/')\n",
    "db = client['mydatabase']\n",
    "collection = db['sdsc-data']"
   ]
  },
  {
   "cell_type": "code",
   "execution_count": 21,
   "id": "0fa9be52",
   "metadata": {},
   "outputs": [],
   "source": [
    "llama_collection = db['sdsc-data-llama']\n",
    "#llama_collection.delete_many({}) # Clears out collection"
   ]
  },
  {
   "cell_type": "code",
   "execution_count": 36,
   "id": "3a9af6d1",
   "metadata": {},
   "outputs": [
    {
     "data": {
      "text/plain": [
       "0"
      ]
     },
     "execution_count": 36,
     "metadata": {},
     "output_type": "execute_result"
    }
   ],
   "source": [
    "llama_collection.count_documents({})"
   ]
  },
  {
   "cell_type": "code",
   "execution_count": 23,
   "id": "2a90e2ce",
   "metadata": {},
   "outputs": [],
   "source": [
    "# West Virginia"
   ]
  },
  {
   "cell_type": "code",
   "execution_count": 26,
   "id": "fda48b56",
   "metadata": {},
   "outputs": [],
   "source": [
    "search_string = 'West Virginia'\n",
    "west_virginia_collection = db['sdsc-west-virginia']\n",
    "\n",
    "regex_pattern = f'.*{search_string}.*'\n",
    "\n",
    "query = {\n",
    "    'news': {'$regex': search_string},\n",
    "    '$or': [\n",
    "        {'news': {'$regex': 'Joseph Manchin'}},\n",
    "        {'news': {'$regex': 'Patrick Morrisey'}},\n",
    "        {'news': {'$regex': 'Rusty Hollen'}}\n",
    "    ]\n",
    "}\n",
    "\n",
    "result = collection.find(query)\n",
    "\n",
    "for document in result:\n",
    "    west_virginia_collection.insert_many([document])\n",
    "    \n",
    "    timestamp = datetime.datetime.fromtimestamp(document['publishdate'] / 1000)\n",
    "    year = timestamp.year\n",
    "    month = timestamp.month\n",
    "    date = f'{month}-{year}'\n",
    "    \n",
    "    llama_collection.insert_many([\n",
    "        {'news': document['news'], 'title': document['title'], 'publishdate': date}\n",
    "    ])\n"
   ]
  },
  {
   "cell_type": "code",
   "execution_count": 27,
   "id": "260cb351",
   "metadata": {},
   "outputs": [
    {
     "data": {
      "text/plain": [
       "110"
      ]
     },
     "execution_count": 27,
     "metadata": {},
     "output_type": "execute_result"
    }
   ],
   "source": [
    "west_virginia_collection.count_documents({})"
   ]
  },
  {
   "cell_type": "code",
   "execution_count": 28,
   "id": "622d2b5c",
   "metadata": {},
   "outputs": [],
   "source": [
    "# Utah"
   ]
  },
  {
   "cell_type": "code",
   "execution_count": 29,
   "id": "7789d388",
   "metadata": {},
   "outputs": [],
   "source": [
    "search_string = 'Utah'\n",
    "utah_collection = db['sdsc-utah']\n",
    "\n",
    "regex_pattern = f'.*{search_string}.*'\n",
    "\n",
    "query = {\n",
    "    'news': {'$regex': search_string},\n",
    "    '$or': [\n",
    "        {'news': {'$regex': 'Mitt Romney'}},\n",
    "        {'news': {'$regex': 'Jenny Wilson'}}\n",
    "    ]\n",
    "}\n",
    "\n",
    "result = collection.find(query)\n",
    "\n",
    "for document in result:\n",
    "    utah_collection.insert_many([document])\n",
    "    \n",
    "    timestamp = datetime.datetime.fromtimestamp(document['publishdate'] / 1000)\n",
    "    year = timestamp.year\n",
    "    month = timestamp.month\n",
    "    date = f'{month}-{year}'\n",
    "    \n",
    "    llama_collection.insert_many([\n",
    "        {'news': document['news'], 'title': document['title'], 'publishdate': date}\n",
    "    ])"
   ]
  },
  {
   "cell_type": "code",
   "execution_count": 30,
   "id": "f98bae31",
   "metadata": {},
   "outputs": [
    {
     "data": {
      "text/plain": [
       "918"
      ]
     },
     "execution_count": 30,
     "metadata": {},
     "output_type": "execute_result"
    }
   ],
   "source": [
    "utah_collection.count_documents({})"
   ]
  },
  {
   "cell_type": "code",
   "execution_count": 31,
   "id": "0d26e78a",
   "metadata": {},
   "outputs": [],
   "source": [
    "# Montana"
   ]
  },
  {
   "cell_type": "code",
   "execution_count": 32,
   "id": "a46d8f64",
   "metadata": {},
   "outputs": [],
   "source": [
    "search_string = 'Montana'\n",
    "montana_collection = db['sdsc-montana']\n",
    "\n",
    "regex_pattern = f'.*{search_string}.*'\n",
    "\n",
    "query = {\n",
    "    'news': {'$regex': search_string},\n",
    "    '$or': [\n",
    "        {'news': {'$regex': 'Jon Tester'}},\n",
    "        {'news': {'$regex': 'Matt Rosendale'}}\n",
    "    ]\n",
    "}\n",
    "\n",
    "result = collection.find(query)\n",
    "\n",
    "for document in result:\n",
    "    montana_collection.insert_many([document])\n",
    "    \n",
    "    timestamp = datetime.datetime.fromtimestamp(document['publishdate'] / 1000)\n",
    "    year = timestamp.year\n",
    "    month = timestamp.month\n",
    "    date = f'{month}-{year}'\n",
    "    \n",
    "    llama_collection.insert_many([\n",
    "        {'news': document['news'], 'title': document['title'], 'publishdate': date}\n",
    "    ])"
   ]
  },
  {
   "cell_type": "code",
   "execution_count": 33,
   "id": "a45be595",
   "metadata": {},
   "outputs": [
    {
     "data": {
      "text/plain": [
       "157"
      ]
     },
     "execution_count": 33,
     "metadata": {},
     "output_type": "execute_result"
    }
   ],
   "source": [
    "montana_collection.count_documents({})"
   ]
  },
  {
   "cell_type": "code",
   "execution_count": 34,
   "id": "3e27b16b",
   "metadata": {},
   "outputs": [
    {
     "data": {
      "text/plain": [
       "1342"
      ]
     },
     "execution_count": 34,
     "metadata": {},
     "output_type": "execute_result"
    }
   ],
   "source": [
    "llama_collection.count_documents({})"
   ]
  }
 ],
 "metadata": {
  "kernelspec": {
   "display_name": "Python 3 (ipykernel)",
   "language": "python",
   "name": "python3"
  },
  "language_info": {
   "codemirror_mode": {
    "name": "ipython",
    "version": 3
   },
   "file_extension": ".py",
   "mimetype": "text/x-python",
   "name": "python",
   "nbconvert_exporter": "python",
   "pygments_lexer": "ipython3",
   "version": "3.9.7"
  }
 },
 "nbformat": 4,
 "nbformat_minor": 5
}
