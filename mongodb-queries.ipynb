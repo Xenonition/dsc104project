{
 "cells": [
  {
   "cell_type": "code",
   "execution_count": 1,
   "id": "15d357ff",
   "metadata": {},
   "outputs": [],
   "source": [
    "from pymongo import MongoClient\n",
    "import datetime\n",
    "\n",
    "client = MongoClient('mongodb://localhost:27017/')\n",
    "db = client['mydatabase']\n",
    "collection = db['sdsc-data']"
   ]
  },
  {
   "cell_type": "code",
   "execution_count": 2,
   "id": "06029049",
   "metadata": {},
   "outputs": [],
   "source": [
    "llama_collection = db['sdsc-data-llama']\n",
    "#llama_collection.delete_many({}) # Clears out collection"
   ]
  },
  {
   "cell_type": "code",
   "execution_count": 3,
   "id": "f9f3487f",
   "metadata": {},
   "outputs": [
    {
     "data": {
      "text/plain": [
       "0"
      ]
     },
     "execution_count": 3,
     "metadata": {},
     "output_type": "execute_result"
    }
   ],
   "source": [
    "llama_collection.count_documents({})"
   ]
  },
  {
   "cell_type": "code",
   "execution_count": 3,
   "id": "81464c30",
   "metadata": {},
   "outputs": [],
   "source": [
    "query = {'publishdate': 1576656000000} # Example Query to get documents with publish date of 2019-12-18\n",
    "result = collection.find(query)\n",
    "\n",
    "for document in result[:5]:\n",
    "    timestamp = datetime.datetime.fromtimestamp(document['publishdate'] / 1000)\n",
    "    year = timestamp.year\n",
    "    month = timestamp.month\n",
    "    date = f'{month}-{year}'\n",
    "    \n",
    "    llama_collection.insert_many([\n",
    "        {'news': document['news'], 'title': document['title'], 'publishdate': date}\n",
    "    ])"
   ]
  },
  {
   "cell_type": "code",
   "execution_count": 4,
   "id": "7c81ecae",
   "metadata": {},
   "outputs": [],
   "source": [
    "search_string = 'West Virginia'\n",
    "\n",
    "regex_pattern = f'.*{search_string}.*'\n",
    "\n",
    "query = {\n",
    "    'news': {'$regex': regex_pattern},\n",
    "    '$or': [\n",
    "        {'news': {'$regex': 'Joseph Manchin'}},\n",
    "        {'news': {'$regex': 'Patrick Morrisey'}},\n",
    "        {'news': {'$regex': 'Rusty Hollen'}}\n",
    "    ]\n",
    "}\n",
    "\n",
    "result = collection.find(query)\n",
    "\n",
    "for document in result:\n",
    "    timestamp = datetime.datetime.fromtimestamp(document['publishdate'] / 1000)\n",
    "    year = timestamp.year\n",
    "    month = timestamp.month\n",
    "    date = f'{month}-{year}'\n",
    "    \n",
    "    llama_collection.insert_many([\n",
    "        {'news': document['news'], 'title': document['title'], 'publishdate': date}\n",
    "    ])"
   ]
  },
  {
   "cell_type": "code",
   "execution_count": 6,
   "id": "11416d1f",
   "metadata": {},
   "outputs": [
    {
     "data": {
      "text/plain": [
       "10312"
      ]
     },
     "execution_count": 6,
     "metadata": {},
     "output_type": "execute_result"
    }
   ],
   "source": [
    "llama_collection.count_documents({})"
   ]
  },
  {
   "cell_type": "code",
   "execution_count": 23,
   "id": "32c7ed35",
   "metadata": {},
   "outputs": [
    {
     "name": "stdout",
     "output_type": "stream",
     "text": [
      "{'_id': ObjectId('6488c9ab1f88525a1414fff2'), 'news': 'Transcript\\n\\n>> President`s choice.>> Republicans in California are on the ropes, bracing for a possible shutout at the top of the ticket in primary elections on Tuesday. I`m Andy Sullivan in San Francisco, perhaps the most liberal city in the state where Republicans have been pushed to the margins. Tuesday could bring more bad news due to the state`s quirky election rules, Republicans could end up without a candidate for senator or governor in the fall elections.\\n\\nAnd that could cause trouble for other GOP candidates around the state. In most states, the primary election narrows down the field to one Democrat and one Republican. But in California`s so-called jungle primary, it`s the top two vote-getters in any given race who face each other in November, even if they`re from the same party.\\n\\nThat means incumbent Democratic Senator, Dianne Feinstein could face Democratic State Senator, Kevin De Leon, rather than a Republican. Republicans may be shut out in the governor`s race as well. GOP businessman man, John Cox has President Trump`s endorsement, but he may wind up in third place. That would lead two Democrats, former San Francisco Mayor, Gavin Newsom, and former Los Angeles Mayor, Antonio Villaraigosa to battle it out in the fall.\\n\\nWithout Republican candidates at the top of the ticket, conservative voters may not show up on election day. That could hurt Republican candidates in closely fought congressional races around the state, making it harder to retain control of the House of Representatives. Republicans now account for just one in four of the state`s registered voters and the party here is divided on issues like illegal immigration.\\n\\nCox backing a crack down, others like Congressman Jeff Denham, trying to protect the young immigrants known as dreamers as he appeals to a diverse population>> That means, making sure that we`ve got a secure border and also having a permanent fix for dreamers.>> Democrats says their voters are more energized than ever, but they`ve got problems of their own.', 'title': ' California GOP risks shutout in Tuesday vote ', 'publishdate': '6-2018'}\n",
      "{'_id': ObjectId('6488c9ab1f88525a1414fff3'), 'news': 'While the chaos and disruption from Democrats during Judge Brett Kavanaugh’s Supreme Court confirmation hearing has sparked derision and mockery from Republicans and some media commentators, some on the party`s liberal wing think Democratic leadership is not doing enough.\\n\\n\\n\\nSen. Kamala Harris, D-Calif., interrupted Senate Judiciary Chairman Chuck Grassley, R-Iowa, within seconds of the hearing beginning on Tuesday, setting the scene for a chaotic few days that included a number of theatrical displays -- including a regular stream of protesters being dragged from the public gallery.\\n\\n\\n\\nSen. Cory Booker, D-NJ, dared Republicans to have him expelled for releasing committee confidential documents --- documents that it later turned out already been cleared for release -- and called it his “Spartacus moment.”\\n\\n\\n\\nWHO IS BRETT KAVANAUGH? 5 THINGS TO KNOW ABOUT TRUMP`S SUPREME COURT PICK\\n\\nBut some liberal groups are complaining that other Democrats from Senate Minority Leader Chuck Schumer, D-NY, on down haven’t been putting up enough of a fight.\\n\\n\\n\\n“The Supreme Court is on the line, and you are failing us,” a letter from from 13 liberal groups, including the Women’s March, DailyKos, Friends of the Earth and Justice Democrats, to Schumer said.\\n\\n\\n\\nThe letter described Kavanaugh as “an extremist who will help institutionalize Trump’s hate for a generation.”\\n\\n\\n\\n“Your job as Senate Democratic leader is to lead your caucus in complete opposition to Trump`s attempted Supreme Court takeover and to defend everyone threatened by a Trump Supreme Court,” the letter said. “But unbelievably, nearly two dozen Democrats have still not come out against Kavanaugh, and just last week, you helped Majority Leader Mitch McConnell fast track 15 Trump judicial nominees. That is not the leadership we need.”\\n\\n\\n\\nThe letter does acknowledge that Schumer’s hands are tied to a large extent by the harsh realities of Senate math. Republicans need a simple majority and hold 51 Senate seats, meaning that Democrats are hoping that two Republicans -- namely moderate Sens. Lisa Murkowski, R-Alaska, and Susan Collins, R-Maine -- break ranks.\\n\\n\\n\\nBut the letter indicates that the groups believe Schumer is not doing a good enough job whipping members to vote against Kavanaugh.\\n\\nKAVANAUGH AVOIDS DEM TRAPS AS CHAOTIC HEARING WINDS DOWN, CONFIRMATION VOTE LOOMS\\n\\n“If you hold your caucus together, you force them to have to make a real choice, with very real consequences for their constituents. If you fail, you let them off the hook,” the letter says.\\n\\n\\n\\nThree Democrats in red states, Sen. Joe Donnelly, D-Ind., Heiti Heitkamp, D-N.D., and Joe Manchin, D-W.Va., voted for Justice Neil Gorsuch last year, and all three are up for re-election in November. If they cast similar votes this month, then it won’t matter if some Republicans break away.\\n\\n\\n\\nRanking member Sen. Dianne Feinstein, D-Calif., was also under fire in California, with her Democratic rival in November`s election, Kevin De Leon, accusing her of a “subpar\" performance.\\n\\n\\n\\n“You have a tale of very different approaches on the Judiciary Committee,” De Leon told The San Diego Union-Tribune. He also knocked Feinstein for criticizing the protestors at the confirmation, saying she should have supported them instead.\\n\\n\"The protesters at the #KavanaughConfirmation are patriots trying to protect the rights of every American threatened by this nominee,\" he tweeted. \"We need to support them and stand with them @SenFeinstein, not apologize for them. California deserves a senator who will #ResistNotAssist.\"\\n\\nDemand Justice Executive Director Brian Fallon offered his support for Harris while swiping at other Dems, saying that Harris had \"carried the Democrats\" in the first few days of the hearing.\\n\\n\"Can Harris be promoted to Ranking Member?\" the former Clinton aide tweeted.\\n\\nOn Friday, progressives indicated that Democrats hadn’t done enough again as three groups called for them to seek a perjury investigation over his testimony.\\n\\nPolitico reports that Demand Justice, MoveOn and NARAL Pro-Choice America claimed that a number of statements he made conflicted with testimony he made during the confirmation for his current court position. So far no such move has been made by Senate Democrats.', 'title': ' Left wing fumes at Dem leaders over Kavanaugh: `You are failing us` ', 'publishdate': '9-2018'}\n",
      "{'_id': ObjectId('6488c9ab1f88525a1414fff4'), 'news': 'The California Democratic Party issued a stunning rebuke of U.S. Sen. Dianne Feinstein on Saturday by decisively handing its official endorsement to state Sen. Kevin de Leon, her longshot Democratic challenger.\\n\\nThe move was the latest sign that establishment Democrats are facing something of a national insurgence, coming on the heels of last month`s shock win by 28-year-old Democratic socialist Alexandria Ocasio-Cortez over high-ranking Rep. Joe Crowley in a closely watched New York primary.\\n\\nIn backing de Leon, a majority of the party`s 360-member executive board ignored Feinstein`s calls to stay neutral in the race. Her allies had warned an endorsement would only further divide Democrats.\\n\\nThe final vote margin was lopsided: A total of 217 delegates voted for de Leon, of Los Angeles, or nearly 65 percent of the delegates. Meanwhile, only 22, or 7 percent, cast ballots for Feinstein and 94, or nearly 30 percent, voted for no endorsement.\\n\\nThe California Democratic Party had declined to endorse Feinstein`s re-election bid in February, but it did not then also endorse de Leon at that time.\\n\\nDe Leon has long been courting party activists and appealed to those seeking a fresh face and a more progressive senator to fight against President Donald Trump.\\n\\nFEINSTEIN BLAMES `BAD COLD` FOR HANDLING OF FUSION GPS TRANSCRIPT\\n\\n\"Today`s vote is a clear-eyed rejection of politics as usual in Washington, D.C.,\" de Leon said in a statement after the vote. \"We have presented Californians with the first real alternative to the worn-out Washington playbook in a quarter-century.\"\\n\\nParty members and activists are typically more liberal than the wider California electorate that has sent Feinstein to Washington five times. Feinstein has turned skepticism from some party activists into an asset in her past campaigns.\\n\\n\"Today`s vote is a clear-eyed rejection of politics as usual in Washington, D.C.\" - State Sen. Kevin De Leon\\n\\nThe endorsement of de Leon means the state party will spend money promoting his candidacy this fall.\\n\\nWATCH: TUCKER TAKES ON CORNEL WEST OVER DEMOCRATIC SOCIALISM -- CAN IT WORK?\\n\\nStill, Feinstein outpaces him in name recognition and cash and has a loyal following across California. She won the June 5 primary with 44 percent of the vote compared to de Leon`s 12 percent.\\n\\nWhile it`s an embarrassment for California`s senior senator to lose her party`s official nod, it may do little to change the trajectory of the race.\\n\\n\"We are confident that a large majority of California Democrats will vote to reelect Sen. Feinstein in November,\" Jeff Millman, her campaign manager, said Saturday night.\\n\\nCalifornia runs a top-two primary system that sends the two highest primary vote-getters to the general election regardless of party. The system allowed de Leon to take the No. 2 spot by squeaking past a slew of unknown Republicans in the primary.\\n\\nSix U.S. House candidates for seats considered top Democratic targets joined Feinstein`s call for neutrality in a letter to members before the vote on Saturday.\\n\\n\"A divisive party endorsement for U.S. Senate would hurt all down-ballot candidates and our ability to turn out Democrats we desperately need to vote in November,\" it said.\\n\\nDe Leon led the state Senate until earlier this year. He is the author of California`s sanctuary state law that was the target of a Trump administration lawsuit.\\n\\nFeinstein was first elected to the U.S. Senate in 1992, when she became the first woman to serve the state in that chamber. She is the ranking member of the Senate Judiciary Committee, where she`ll take center stage this summer during the U.S. Supreme Court nomination fight.\\n\\nThe Associated Press contributed to this report.', 'title': ' California Dems snub Sen. Dianne Feinstein for longshot rival, in `clear-eyed rejection` of party establishment ', 'publishdate': '7-2018'}\n",
      "{'_id': ObjectId('6488c9ab1f88525a1414fff5'), 'news': 'The California Democratic Party issued a stunning rebuke of U.S. Sen. Dianne Feinstein on Saturday by decisively handing its official endorsement to state Sen. Kevin de Leon, her long shot Democratic challenger.\\n\\nThe move was the latest sign that establishment Democrats are facing something of a national insurgence, coming on the heels of last month`s shock win by 28-year-old Democratic socialist Alexandria Ocasio-Cortez over high-ranking Rep. Joe Crowley in a closely watched New York primary.\\n\\nIn backing de Leon, a majority of the party`s 360-member executive board ignored Feinstein`s calls to stay neutral in the race. Her allies had warned an endorsement would only further divide Democrats.\\n\\nThe final vote margin was lopsided: A total of 217 delegates voted for de Leon, of Los Angeles, or nearly 65 percent of the delegates. Meanwhile, only 22, or 7 percent, cast ballots for Feinstein and 94, or nearly 30 percent, voted for no endorsement.\\n\\nThe California Democratic Party had declined to endorse Feinstein`s re-election bid in February, but it did not then also endorse de Leon at that time.\\n\\nDe Leon has long been courting party activists and appealed to those seeking a fresh face and a more progressive senator to fight against President Donald Trump.\\n\\nFEINSTEIN BLAMES `BAD COLD` FOR HANDLING OF FUSION GPS TRANSCRIPT\\n\\n\"Today`s vote is a clear-eyed rejection of politics as usual in Washington, D.C.,\" de Leon said in a statement after the vote. \"We have presented Californians with the first real alternative to the worn-out Washington playbook in a quarter-century.\"\\n\\nParty members and activists are typically more liberal than the wider California electorate that has sent Feinstein to Washington five times. Feinstein has turned skepticism from some party activists into an asset in her past campaigns.\\n\\n\"Today`s vote is a clear-eyed rejection of politics as usual in Washington, D.C.\" - State Sen. Kevin De Leon\\n\\nThe endorsement of de Leon means the state party will spend money promoting his candidacy this fall.\\n\\nWATCH: TUCKER TAKES ON CORNEL WEST OVER DEMOCRATIC SOCIALISM -- CAN IT WORK?\\n\\nStill, Feinstein outpaces him in name recognition and cash and has a loyal following across California. She won the June 5 primary with 44 percent of the vote compared to de Leon`s 12 percent.\\n\\nWhile it`s an embarrassment for California`s senior senator to lose her party`s official nod, it may do little to change the trajectory of the race.\\n\\n\"We are confident that a large majority of California Democrats will vote to reelect Sen. Feinstein in November,\" Jeff Millman, her campaign manager, said Saturday night.\\n\\nCalifornia runs a top-two primary system that sends the two highest primary vote-getters to the general election regardless of party. The system allowed de Leon to take the No. 2 spot by squeaking past a slew of unknown Republicans in the primary.\\n\\nSix U.S. House candidates for seats considered top Democratic targets joined Feinstein`s call for neutrality in a letter to members before the vote on Saturday.\\n\\n\"A divisive party endorsement for U.S. Senate would hurt all down-ballot candidates and our ability to turn out Democrats we desperately need to vote in November,\" it said.\\n\\nDe Leon led the state Senate until earlier this year. He is the author of California`s sanctuary state law that was the target of a Trump administration lawsuit.\\n\\nFeinstein was first elected to the U.S. Senate in 1992, when she became the first woman to serve the state in that chamber. She is the ranking member of the Senate Judiciary Committee, where she`ll take center stage this summer during the U.S. Supreme Court nomination fight.\\n\\nThe Associated Press contributed to this report.', 'title': ' California Dems snub Sen. Dianne Feinstein for long shot rival, in `clear-eyed rejection` of party establishment ', 'publishdate': '7-2018'}\n",
      "{'_id': ObjectId('6488c9ab1f88525a1414fff6'), 'news': 'CLOSE A former Stanford University swimmer whose sexual assault of an incapacitated woman drew national headlines and widespread scorn lost his bid for a new trial, pushing him closer to having to register as a sex offender for the rest of his life. USA TODAY\\n\\nHer victim impact statement four years ago went viral, changing the way many think about sexual assault, sparking widespread outrage and inspiring millions of survivors. Now Emily Doe, the anonymous woman then-Stanford University student Brock Turner sexually assaulted in 2015, is writing a memoir.\\n\\nDoe will \"reclaim the story of her sexual assault,\" publisher Viking Books said in a press release Wednesday.\\n\\n\"Emily Doe’s experience illuminates a culture built to protect perpetrators and a criminal justice system designed to fail the most vulnerable,\" said Viking editor-in-chief Andrea Schulz. \"The book will introduce readers to the writer whose words have already changed their world and move them with its accounting of her courage and resilience.\"\\n\\nActors Gabourey Sidibe, Freida Pinto and Amber Heard read the letter by \"Emily Doe\" on the Neuhouse Hollywood stage. (Photo: Kevork Djansezian, Getty Images for Glamour)\\n\\nThe memoir will be published in September.\\n\\nMany people are familiar with the statistic: 1 in 5 U.S. women is raped at some point in their lives and 1 in 3 is a victim of sexual violence involving physical contact, according to the Centers for Disease Control and Prevention. Doe put words to that experience, and implored us not to look away.\\n\\nHer 12-page statement on the assault, which she read in court before Turner`s sentencing, was published in full by Buzzfeed on June 3, 2015. Within four days, it had been viewed 11 million times.\\n\\nParts of it were chillingly raw: \"I learned that my ass and vagina were completely exposed outside, my breasts had been groped, fingers had been jabbed inside me along with pine needles and debris.\" Other sections were painfully eloquent: \"I wanted to take off my body like a jacket and leave it at the hospital with everything else.\"\\n\\nTurner was convicted of assault with intent to commit rape of an intoxicated/unconscious person, penetration of an intoxicated person and penetration of an unconscious person. He faced up to 14 years in prison but was sentenced to six months in county jail. He served just three for \"good behavior.\"\\n\\nNEWSLETTERS Get the newsletter delivered to your inbox We`re sorry, but something went wrong Please try again soon, or contact Customer Service at 1-800-872-0001. Delivery: Invalid email address Thank you! You`re almost signed up for Keep an eye out for an email to confirm your newsletter registration. More newsletters\\n\\nAaron Persky, the judge who sentenced him, was recalled from office in June 2018 — becoming the first California jurist recalled from the bench in 86 years.\\n\\nCalifornia state Senate president Kevin De Leon calls for the removal of Santa Clara County Judge Aaron Persky at a protest outside the Santa Clara County Jail in San Jose, Calif., on Sept. 2, 2016. Persky sentenced Brock Turner to six months in jail. Turner served three. (Photo: Paul Elias, AP)\\n\\nTurner filed an appeal in December 2017 seeking a new trial, arguing that the evidence presented didn’t support his convictions. In April, a three-judge panel of the 6th District Court of Appeal in San Jose, California, ruled that his conviction had been fair.\\n\\nSome say that Doe set the stage for #MeToo, helping to raise the profile of sexual assault survivors worldwide. While Doe could not have predicted the impact of her more than 7,000 words, it`s clear she didn`t only write them for herself.\\n\\n\"To girls everywhere, I am with you,\" she wrote. \"On nights when you feel alone, I am with you. When people doubt you or dismiss you, I am with you. I fought everyday for you. So never stop fighting, I believe you.\"\\n\\nYou may also be interested in:\\n\\nIf you are a survivor of sexual assault, you can call the National Sexual Assault Hotline at 800.656.HOPE (4673) or visit hotline.rainn.org/online and receive confidential support.\\n\\nRead or Share this story: https://www.usatoday.com/story/news/nation/2019/06/05/emily-doe-survivor-brock-turner-case-writing-memoir/1361247001/', 'title': ' Emily Doe writing memoir to `reclaim the story` of sexual assault by Brock Turner ', 'publishdate': '6-2019'}\n"
     ]
    }
   ],
   "source": [
    "for doc in llama_collection.find():\n",
    "    print(doc)"
   ]
  },
  {
   "cell_type": "code",
   "execution_count": null,
   "id": "b2b2d22f",
   "metadata": {},
   "outputs": [],
   "source": []
  }
 ],
 "metadata": {
  "kernelspec": {
   "display_name": "Python 3",
   "language": "python",
   "name": "python3"
  },
  "language_info": {
   "codemirror_mode": {
    "name": "ipython",
    "version": 3
   },
   "file_extension": ".py",
   "mimetype": "text/x-python",
   "name": "python",
   "nbconvert_exporter": "python",
   "pygments_lexer": "ipython3",
   "version": "3.8.8"
  }
 },
 "nbformat": 4,
 "nbformat_minor": 5
}
