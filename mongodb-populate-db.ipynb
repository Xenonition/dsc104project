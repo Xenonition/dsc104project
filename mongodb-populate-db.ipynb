{
 "cells": [
  {
   "cell_type": "code",
   "execution_count": 1,
   "id": "131cb50b",
   "metadata": {},
   "outputs": [],
   "source": [
    "import pyarrow.parquet as pq\n",
    "import pandas as pd\n",
    "from pymongo import MongoClient"
   ]
  },
  {
   "cell_type": "code",
   "execution_count": 2,
   "id": "7c7fc5be",
   "metadata": {},
   "outputs": [],
   "source": [
    "table = pq.read_table('sdsc_data/output.parquet')\n",
    "df = table.to_pandas()"
   ]
  },
  {
   "cell_type": "code",
   "execution_count": 3,
   "id": "c1cad3ae",
   "metadata": {},
   "outputs": [
    {
     "data": {
      "text/html": [
       "<div>\n",
       "<style scoped>\n",
       "    .dataframe tbody tr th:only-of-type {\n",
       "        vertical-align: middle;\n",
       "    }\n",
       "\n",
       "    .dataframe tbody tr th {\n",
       "        vertical-align: top;\n",
       "    }\n",
       "\n",
       "    .dataframe thead th {\n",
       "        text-align: right;\n",
       "    }\n",
       "</style>\n",
       "<table border=\"1\" class=\"dataframe\">\n",
       "  <thead>\n",
       "    <tr style=\"text-align: right;\">\n",
       "      <th></th>\n",
       "      <th>news</th>\n",
       "      <th>id</th>\n",
       "      <th>collectiondate</th>\n",
       "      <th>title</th>\n",
       "      <th>url</th>\n",
       "      <th>publishdate</th>\n",
       "      <th>author</th>\n",
       "      <th>keywords</th>\n",
       "      <th>src</th>\n",
       "      <th>language</th>\n",
       "      <th>newsindex</th>\n",
       "    </tr>\n",
       "  </thead>\n",
       "  <tbody>\n",
       "    <tr>\n",
       "      <th>0</th>\n",
       "      <td>Countering Collins’ claims, Democrats said Tru...</td>\n",
       "      <td>1330233</td>\n",
       "      <td>2019-12-18</td>\n",
       "      <td>Partisan rage envelops Congress on the eve of...</td>\n",
       "      <td>http://www.nydailynews.com/news/politics/ny-...</td>\n",
       "      <td>2019-12-18</td>\n",
       "      <td>[Dave Goldiner, Chris Sommerfeldt]</td>\n",
       "      <td>[rivals, expected, eve, president, volodymyr, ...</td>\n",
       "      <td>http://www.nydailynews.com/</td>\n",
       "      <td>None</td>\n",
       "      <td>None</td>\n",
       "    </tr>\n",
       "    <tr>\n",
       "      <th>1</th>\n",
       "      <td>After Cizikas` goal put the Islanders ahead by...</td>\n",
       "      <td>1330234</td>\n",
       "      <td>2019-12-18</td>\n",
       "      <td>Predators score 7 straight goals to beat Isla...</td>\n",
       "      <td>https://www.nydailynews.com/sports/hockey/is...</td>\n",
       "      <td>2019-12-18</td>\n",
       "      <td>[Allan Kreda]</td>\n",
       "      <td>[york, straight, islanders, goal, goals, sweep...</td>\n",
       "      <td>http://www.nydailynews.com/</td>\n",
       "      <td>None</td>\n",
       "      <td>None</td>\n",
       "    </tr>\n",
       "    <tr>\n",
       "      <th>2</th>\n",
       "      <td>It was a tough call over David Fizdale, but Fi...</td>\n",
       "      <td>1330235</td>\n",
       "      <td>2019-12-18</td>\n",
       "      <td>The Daily News’ Knicks all-decade team for th...</td>\n",
       "      <td>http://www.nydailynews.com/sports/basketball...</td>\n",
       "      <td>2019-12-18</td>\n",
       "      <td>[Stefan Bondy]</td>\n",
       "      <td>[mother, daily, knicks, matt, practice, wins, ...</td>\n",
       "      <td>http://www.nydailynews.com/</td>\n",
       "      <td>None</td>\n",
       "      <td>None</td>\n",
       "    </tr>\n",
       "    <tr>\n",
       "      <th>3</th>\n",
       "      <td>And it’s a far cry from tactics such as “stamp...</td>\n",
       "      <td>1330236</td>\n",
       "      <td>2019-12-18</td>\n",
       "      <td>Kindergarten student earns enough money from ...</td>\n",
       "      <td>http://www.nydailynews.com/news/national/ny-...</td>\n",
       "      <td>2019-12-18</td>\n",
       "      <td>[Theresa Braine]</td>\n",
       "      <td>[debt, money, students, pay, meal, childs, thr...</td>\n",
       "      <td>http://www.nydailynews.com/</td>\n",
       "      <td>None</td>\n",
       "      <td>None</td>\n",
       "    </tr>\n",
       "    <tr>\n",
       "      <th>4</th>\n",
       "      <td>The Hawkeyes had slogged through 17 consecutiv...</td>\n",
       "      <td>1330237</td>\n",
       "      <td>2019-12-18</td>\n",
       "      <td>Hayden Fry, Texan who turned around Iowa foot...</td>\n",
       "      <td>https://www.nydailynews.com/sports/football/...</td>\n",
       "      <td>2019-12-18</td>\n",
       "      <td>[Ralph D. Russo]</td>\n",
       "      <td>[hawkeyes, texan, unveiled, familiar, worn, un...</td>\n",
       "      <td>http://www.nydailynews.com/</td>\n",
       "      <td>None</td>\n",
       "      <td>None</td>\n",
       "    </tr>\n",
       "  </tbody>\n",
       "</table>\n",
       "</div>"
      ],
      "text/plain": [
       "                                                news       id collectiondate  \\\n",
       "0  Countering Collins’ claims, Democrats said Tru...  1330233     2019-12-18   \n",
       "1  After Cizikas` goal put the Islanders ahead by...  1330234     2019-12-18   \n",
       "2  It was a tough call over David Fizdale, but Fi...  1330235     2019-12-18   \n",
       "3  And it’s a far cry from tactics such as “stamp...  1330236     2019-12-18   \n",
       "4  The Hawkeyes had slogged through 17 consecutiv...  1330237     2019-12-18   \n",
       "\n",
       "                                               title  \\\n",
       "0   Partisan rage envelops Congress on the eve of...   \n",
       "1   Predators score 7 straight goals to beat Isla...   \n",
       "2   The Daily News’ Knicks all-decade team for th...   \n",
       "3   Kindergarten student earns enough money from ...   \n",
       "4   Hayden Fry, Texan who turned around Iowa foot...   \n",
       "\n",
       "                                                 url publishdate  \\\n",
       "0    http://www.nydailynews.com/news/politics/ny-...  2019-12-18   \n",
       "1    https://www.nydailynews.com/sports/hockey/is...  2019-12-18   \n",
       "2    http://www.nydailynews.com/sports/basketball...  2019-12-18   \n",
       "3    http://www.nydailynews.com/news/national/ny-...  2019-12-18   \n",
       "4    https://www.nydailynews.com/sports/football/...  2019-12-18   \n",
       "\n",
       "                               author  \\\n",
       "0  [Dave Goldiner, Chris Sommerfeldt]   \n",
       "1                       [Allan Kreda]   \n",
       "2                      [Stefan Bondy]   \n",
       "3                    [Theresa Braine]   \n",
       "4                    [Ralph D. Russo]   \n",
       "\n",
       "                                            keywords  \\\n",
       "0  [rivals, expected, eve, president, volodymyr, ...   \n",
       "1  [york, straight, islanders, goal, goals, sweep...   \n",
       "2  [mother, daily, knicks, matt, practice, wins, ...   \n",
       "3  [debt, money, students, pay, meal, childs, thr...   \n",
       "4  [hawkeyes, texan, unveiled, familiar, worn, un...   \n",
       "\n",
       "                            src language newsindex  \n",
       "0   http://www.nydailynews.com/     None      None  \n",
       "1   http://www.nydailynews.com/     None      None  \n",
       "2   http://www.nydailynews.com/     None      None  \n",
       "3   http://www.nydailynews.com/     None      None  \n",
       "4   http://www.nydailynews.com/     None      None  "
      ]
     },
     "execution_count": 3,
     "metadata": {},
     "output_type": "execute_result"
    }
   ],
   "source": [
    "df.head()"
   ]
  },
  {
   "cell_type": "code",
   "execution_count": 4,
   "id": "f6a83d7d",
   "metadata": {},
   "outputs": [],
   "source": [
    "client = MongoClient('mongodb://localhost:27017/')\n",
    "db = client['mydatabase']\n",
    "collection = db['sdsc-data']\n",
    "#collection.delete_many({}) # Clears out collection"
   ]
  },
  {
   "cell_type": "code",
   "execution_count": 5,
   "id": "183ac0e7",
   "metadata": {},
   "outputs": [],
   "source": [
    "data = df.to_dict(orient = 'records') # Converts DataFrame to list of dictionaries (JSON-like)"
   ]
  },
  {
   "cell_type": "code",
   "execution_count": 6,
   "id": "68118004",
   "metadata": {},
   "outputs": [],
   "source": [
    "## START OF POPULATING DATA INTO MONGODB"
   ]
  },
  {
   "cell_type": "code",
   "execution_count": 7,
   "id": "7aea5df6",
   "metadata": {},
   "outputs": [],
   "source": [
    "from bson import BSON\n",
    "from datetime import datetime\n",
    " \n",
    "for doc in data: # Have to preprocess some column to fit datatype for MongoDB\n",
    "    publish_date = datetime.combine(doc['publishdate'], datetime.min.time())\n",
    "    collection_date = datetime.combine(doc['collectiondate'], datetime.min.time())\n",
    "    \n",
    "    publish_date_timestamp = int(publish_date.timestamp() * 1000)\n",
    "    collection_date_timestamp = int(collection_date.timestamp() * 1000)\n",
    "    \n",
    "    doc['publishdate'] = publish_date_timestamp\n",
    "    doc['collectiondate'] = collection_date_timestamp\n",
    "    \n",
    "    doc['author'] = doc['author'].tolist()\n",
    "    doc['keywords'] = doc['keywords'].tolist()"
   ]
  },
  {
   "cell_type": "code",
   "execution_count": 8,
   "id": "f523d1ab",
   "metadata": {},
   "outputs": [
    {
     "data": {
      "text/plain": [
       "<pymongo.results.InsertManyResult at 0x7fb04f9a4970>"
      ]
     },
     "execution_count": 8,
     "metadata": {},
     "output_type": "execute_result"
    }
   ],
   "source": [
    "collection.insert_many(data)"
   ]
  },
  {
   "cell_type": "code",
   "execution_count": null,
   "id": "c785422e",
   "metadata": {},
   "outputs": [],
   "source": [
    "## END OF POPULATING DATA INTO MONGODB"
   ]
  }
 ],
 "metadata": {
  "kernelspec": {
   "display_name": "Python 3 (ipykernel)",
   "language": "python",
   "name": "python3"
  },
  "language_info": {
   "codemirror_mode": {
    "name": "ipython",
    "version": 3
   },
   "file_extension": ".py",
   "mimetype": "text/x-python",
   "name": "python",
   "nbconvert_exporter": "python",
   "pygments_lexer": "ipython3",
   "version": "3.9.7"
  }
 },
 "nbformat": 4,
 "nbformat_minor": 5
}
