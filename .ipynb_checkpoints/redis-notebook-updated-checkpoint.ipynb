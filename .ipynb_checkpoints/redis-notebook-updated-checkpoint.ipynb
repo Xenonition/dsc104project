{
 "cells": [
  {
   "cell_type": "code",
   "execution_count": 1,
   "id": "5d750866",
   "metadata": {},
   "outputs": [],
   "source": [
    "import pandas as pd\n",
    "import numpy as np\n",
    "import redis\n",
    "import csv"
   ]
  },
  {
   "cell_type": "code",
   "execution_count": 2,
   "id": "978d6152",
   "metadata": {},
   "outputs": [
    {
     "data": {
      "text/html": [
       "<div>\n",
       "<style scoped>\n",
       "    .dataframe tbody tr th:only-of-type {\n",
       "        vertical-align: middle;\n",
       "    }\n",
       "\n",
       "    .dataframe tbody tr th {\n",
       "        vertical-align: top;\n",
       "    }\n",
       "\n",
       "    .dataframe thead th {\n",
       "        text-align: right;\n",
       "    }\n",
       "</style>\n",
       "<table border=\"1\" class=\"dataframe\">\n",
       "  <thead>\n",
       "    <tr style=\"text-align: right;\">\n",
       "      <th></th>\n",
       "      <th>state</th>\n",
       "      <th>state_po</th>\n",
       "      <th>county_str</th>\n",
       "      <th>office</th>\n",
       "      <th>special</th>\n",
       "      <th>candidate</th>\n",
       "      <th>party</th>\n",
       "      <th>writein</th>\n",
       "      <th>candidatevotes</th>\n",
       "      <th>won</th>\n",
       "      <th>MOV16</th>\n",
       "      <th>MOV18</th>\n",
       "      <th>16to18swing</th>\n",
       "    </tr>\n",
       "  </thead>\n",
       "  <tbody>\n",
       "    <tr>\n",
       "      <th>0</th>\n",
       "      <td>Arizona</td>\n",
       "      <td>AZ</td>\n",
       "      <td>apache_az</td>\n",
       "      <td>US Senator</td>\n",
       "      <td>False</td>\n",
       "      <td>Angela Green</td>\n",
       "      <td>green</td>\n",
       "      <td>False</td>\n",
       "      <td>961.0</td>\n",
       "      <td>False</td>\n",
       "      <td>0.368776</td>\n",
       "      <td>0.338343</td>\n",
       "      <td>-0.030434</td>\n",
       "    </tr>\n",
       "    <tr>\n",
       "      <th>1</th>\n",
       "      <td>Arizona</td>\n",
       "      <td>AZ</td>\n",
       "      <td>apache_az</td>\n",
       "      <td>US Senator</td>\n",
       "      <td>False</td>\n",
       "      <td>Kyrsten Sinema</td>\n",
       "      <td>democrat</td>\n",
       "      <td>False</td>\n",
       "      <td>16298.0</td>\n",
       "      <td>True</td>\n",
       "      <td>0.368776</td>\n",
       "      <td>0.338343</td>\n",
       "      <td>-0.030434</td>\n",
       "    </tr>\n",
       "    <tr>\n",
       "      <th>2</th>\n",
       "      <td>Arizona</td>\n",
       "      <td>AZ</td>\n",
       "      <td>apache_az</td>\n",
       "      <td>US Senator</td>\n",
       "      <td>False</td>\n",
       "      <td>Martha McSally</td>\n",
       "      <td>republican</td>\n",
       "      <td>False</td>\n",
       "      <td>7810.0</td>\n",
       "      <td>False</td>\n",
       "      <td>0.368776</td>\n",
       "      <td>0.338343</td>\n",
       "      <td>-0.030434</td>\n",
       "    </tr>\n",
       "    <tr>\n",
       "      <th>3</th>\n",
       "      <td>Arizona</td>\n",
       "      <td>AZ</td>\n",
       "      <td>apache_az</td>\n",
       "      <td>US Senator</td>\n",
       "      <td>False</td>\n",
       "      <td>NaN</td>\n",
       "      <td>NaN</td>\n",
       "      <td>True</td>\n",
       "      <td>18.0</td>\n",
       "      <td>False</td>\n",
       "      <td>0.368776</td>\n",
       "      <td>0.338343</td>\n",
       "      <td>-0.030434</td>\n",
       "    </tr>\n",
       "    <tr>\n",
       "      <th>4</th>\n",
       "      <td>Arizona</td>\n",
       "      <td>AZ</td>\n",
       "      <td>cochise_az</td>\n",
       "      <td>US Senator</td>\n",
       "      <td>False</td>\n",
       "      <td>Angela Green</td>\n",
       "      <td>green</td>\n",
       "      <td>False</td>\n",
       "      <td>1212.0</td>\n",
       "      <td>False</td>\n",
       "      <td>-0.225856</td>\n",
       "      <td>-0.209577</td>\n",
       "      <td>0.016279</td>\n",
       "    </tr>\n",
       "  </tbody>\n",
       "</table>\n",
       "</div>"
      ],
      "text/plain": [
       "     state state_po  county_str      office  special       candidate  \\\n",
       "0  Arizona       AZ   apache_az  US Senator    False    Angela Green   \n",
       "1  Arizona       AZ   apache_az  US Senator    False  Kyrsten Sinema   \n",
       "2  Arizona       AZ   apache_az  US Senator    False  Martha McSally   \n",
       "3  Arizona       AZ   apache_az  US Senator    False             NaN   \n",
       "4  Arizona       AZ  cochise_az  US Senator    False    Angela Green   \n",
       "\n",
       "        party  writein  candidatevotes    won     MOV16     MOV18  16to18swing  \n",
       "0       green    False           961.0  False  0.368776  0.338343    -0.030434  \n",
       "1    democrat    False         16298.0   True  0.368776  0.338343    -0.030434  \n",
       "2  republican    False          7810.0  False  0.368776  0.338343    -0.030434  \n",
       "3         NaN     True            18.0  False  0.368776  0.338343    -0.030434  \n",
       "4       green    False          1212.0  False -0.225856 -0.209577     0.016279  "
      ]
     },
     "execution_count": 2,
     "metadata": {},
     "output_type": "execute_result"
    }
   ],
   "source": [
    "df = pd.read_csv('data/updatedcleandata.csv')\n",
    "df_json = df.to_json(orient='records')\n",
    "df.head()"
   ]
  },
  {
   "cell_type": "code",
   "execution_count": 8,
   "id": "8939ca81",
   "metadata": {},
   "outputs": [],
   "source": [
    "df = df[df['writein']==False]"
   ]
  },
  {
   "cell_type": "code",
   "execution_count": 11,
   "id": "c62da281",
   "metadata": {},
   "outputs": [
    {
     "data": {
      "text/plain": [
       "True"
      ]
     },
     "execution_count": 11,
     "metadata": {},
     "output_type": "execute_result"
    }
   ],
   "source": [
    "redis_host = 'localhost'\n",
    "redis_port = 6379\n",
    "\n",
    "r = redis.Redis(host=redis_host, port=redis_port,db=10)\n",
    "r.flushdb()"
   ]
  },
  {
   "cell_type": "code",
   "execution_count": 14,
   "id": "c29c6f9b",
   "metadata": {
    "scrolled": false
   },
   "outputs": [],
   "source": [
    "with open('data/updatedcleandata.csv', newline='') as f:\n",
    "    reader = csv.DictReader(f)\n",
    "    for row in reader:\n",
    "        key = f\"{row['candidate']}:{row['county_str']}\"\n",
    "        r.hset(key, mapping=row)"
   ]
  },
  {
   "cell_type": "code",
   "execution_count": 22,
   "id": "fd76cda7",
   "metadata": {
    "scrolled": true
   },
   "outputs": [],
   "source": [
    "column_to_query = '16to18swing'\n",
    "min_value = 0.3\n",
    "\n",
    "# Scan all keys in Redis\n",
    "cursor = 0\n",
    "matched_keys = []\n",
    "\n",
    "while True:\n",
    "    cursor, keys = r.scan(cursor, match='*:*')\n",
    "\n",
    "    for key in keys:\n",
    "        value = r.hget(key, column_to_query)\n",
    "\n",
    "        if value and float(value) > min_value:\n",
    "            matched_keys.append(key)\n",
    "\n",
    "    if cursor == 0:\n",
    "        break\n",
    "\n",
    "matched_values = []\n",
    "for key in matched_keys:\n",
    "    values = r.hgetall(key)\n",
    "\n",
    "    decoded_values = {k.decode('utf-8'): v.decode('utf-8') for k, v in values.items()}\n",
    "\n",
    "    matched_values.append(decoded_values)"
   ]
  },
  {
   "cell_type": "code",
   "execution_count": 17,
   "id": "728c6288",
   "metadata": {},
   "outputs": [],
   "source": [
    "state_d = dict()\n",
    "cand_d = dict()\n",
    "county_d = dict()\n",
    "\n",
    "for value in matched_values:\n",
    "    if value['candidate'] in cand_d:\n",
    "        cand_d[value['candidate']] = cand_d[value['candidate']] + 1\n",
    "    else:\n",
    "        cand_d[value['candidate']] = 1\n",
    "        \n",
    "    if value['state'] in state_d:\n",
    "        state_d[value['state']] = state_d[value['state']] + 1\n",
    "    else:\n",
    "        state_d[value['state']] = 1\n",
    "        \n",
    "    if value['county_str'] in county_d:\n",
    "        county_d[value['county_str']] = county_d[value['county_str']] + 1\n",
    "    else:\n",
    "        county_d[value['county_str']] = 1"
   ]
  },
  {
   "cell_type": "code",
   "execution_count": 18,
   "id": "a360ef31",
   "metadata": {
    "scrolled": false
   },
   "outputs": [
    {
     "data": {
      "text/plain": [
       "{'Minnesota': 165,\n",
       " 'West Virginia': 153,\n",
       " 'California': 114,\n",
       " 'North Dakota': 33,\n",
       " 'Montana': 27,\n",
       " 'Ohio': 9,\n",
       " 'Pennsylvania': 4,\n",
       " 'Maine': 3,\n",
       " 'New Mexico': 3}"
      ]
     },
     "execution_count": 18,
     "metadata": {},
     "output_type": "execute_result"
    }
   ],
   "source": [
    "dict(sorted(state_d.items(), key=lambda item: item[1], reverse=True))"
   ]
  },
  {
   "cell_type": "code",
   "execution_count": 19,
   "id": "9c2ae7b6",
   "metadata": {},
   "outputs": [],
   "source": [
    "column_to_query = '16to18swing'\n",
    "min_value = -0.15\n",
    "\n",
    "# Scan all keys in Redis\n",
    "cursor = 0\n",
    "matched_keys = []\n",
    "\n",
    "while True:\n",
    "    cursor, keys = r.scan(cursor, match='*:*')\n",
    "\n",
    "    for key in keys:\n",
    "        value = r.hget(key, column_to_query)\n",
    "\n",
    "        if value and float(value) < min_value:\n",
    "            matched_keys.append(key)\n",
    "\n",
    "    if cursor == 0:\n",
    "        break\n",
    "\n",
    "matched_values = []\n",
    "for key in matched_keys:\n",
    "    values = r.hgetall(key)\n",
    "\n",
    "    decoded_values = {k.decode('utf-8'): v.decode('utf-8') for k, v in values.items()}\n",
    "\n",
    "    matched_values.append(decoded_values)"
   ]
  },
  {
   "cell_type": "code",
   "execution_count": 20,
   "id": "34d63a3b",
   "metadata": {},
   "outputs": [],
   "source": [
    "state_d = dict()\n",
    "cand_d = dict()\n",
    "county_d = dict()\n",
    "\n",
    "for value in matched_values:\n",
    "    if value['candidate'] in cand_d:\n",
    "        cand_d[value['candidate']] = cand_d[value['candidate']] + 1\n",
    "    else:\n",
    "        cand_d[value['candidate']] = 1\n",
    "        \n",
    "    if value['state'] in state_d:\n",
    "        state_d[value['state']] = state_d[value['state']] + 1\n",
    "    else:\n",
    "        state_d[value['state']] = 1\n",
    "        \n",
    "    if value['county_str'] in county_d:\n",
    "        county_d[value['county_str']] = county_d[value['county_str']] + 1\n",
    "    else:\n",
    "        county_d[value['county_str']] = 1"
   ]
  },
  {
   "cell_type": "code",
   "execution_count": 21,
   "id": "ce4168d0",
   "metadata": {},
   "outputs": [
    {
     "data": {
      "text/plain": [
       "{'Utah': 30, 'Mississippi': 12, 'Missouri': 11, 'Texas': 9}"
      ]
     },
     "execution_count": 21,
     "metadata": {},
     "output_type": "execute_result"
    }
   ],
   "source": [
    "dict(sorted(state_d.items(), key=lambda item: item[1], reverse=True))"
   ]
  },
  {
   "cell_type": "code",
   "execution_count": null,
   "id": "4587f512",
   "metadata": {},
   "outputs": [],
   "source": [
    "pattern = '*:*_ut'\n",
    "\n",
    "# Use the SCAN command to iterate over matching keys\n",
    "cursor = '0'\n",
    "keys = []\n",
    "while True:\n",
    "    # Perform the SCAN command\n",
    "    cursor, matching_keys = r.scan(cursor, match=pattern)\n",
    "\n",
    "    # Add the matching keys to the result list\n",
    "    keys.extend(matching_keys)\n",
    "\n",
    "    # Stop if the cursor is back to 0, indicating the end of the iteration\n",
    "    if cursor == b'0':\n",
    "        break\n",
    "\n",
    "# Retrieve the values for the matching keys\n",
    "values = r.mget(keys)\n",
    "\n",
    "# Print the keys and their corresponding values\n",
    "for key, value in zip(keys, values):\n",
    "    print(key, value)"
   ]
  },
  {
   "cell_type": "code",
   "execution_count": null,
   "id": "8e32a3f0",
   "metadata": {},
   "outputs": [],
   "source": []
  }
 ],
 "metadata": {
  "kernelspec": {
   "display_name": "Python 3",
   "language": "python",
   "name": "python3"
  },
  "language_info": {
   "codemirror_mode": {
    "name": "ipython",
    "version": 3
   },
   "file_extension": ".py",
   "mimetype": "text/x-python",
   "name": "python",
   "nbconvert_exporter": "python",
   "pygments_lexer": "ipython3",
   "version": "3.8.8"
  }
 },
 "nbformat": 4,
 "nbformat_minor": 5
}
