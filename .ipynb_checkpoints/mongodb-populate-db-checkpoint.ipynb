{
 "cells": [
  {
   "cell_type": "code",
   "execution_count": null,
   "id": "a10a64f4",
   "metadata": {},
   "outputs": [],
   "source": [
    "import pyarrow.parquet as pq\n",
    "import pandas as pd\n",
    "from pymongo import MongoClient"
   ]
  },
  {
   "cell_type": "code",
   "execution_count": null,
   "id": "0e4c971c",
   "metadata": {},
   "outputs": [],
   "source": [
    "table = pq.read_table('sdsc_data/output.parquet')\n",
    "df = table.to_pandas()"
   ]
  },
  {
   "cell_type": "code",
   "execution_count": null,
   "id": "f0534a88",
   "metadata": {},
   "outputs": [],
   "source": [
    "df.head()"
   ]
  },
  {
   "cell_type": "code",
   "execution_count": null,
   "id": "f8deb15b",
   "metadata": {},
   "outputs": [],
   "source": [
    "client = MongoClient('mongodb://localhost:27017/')\n",
    "db = client['mydatabase']\n",
    "collection = db['sdsc-data']\n",
    "#collection.delete_many({}) # Clears out collection"
   ]
  },
  {
   "cell_type": "code",
   "execution_count": null,
   "id": "81b73ea7",
   "metadata": {},
   "outputs": [],
   "source": [
    "data = df.to_dict(orient = 'records') # Converts DataFrame to list of dictionaries (JSON-like)"
   ]
  },
  {
   "cell_type": "code",
   "execution_count": null,
   "id": "1edce939",
   "metadata": {},
   "outputs": [],
   "source": [
    "## START OF POPULATING DATA INTO MONGODB"
   ]
  },
  {
   "cell_type": "code",
   "execution_count": null,
   "id": "8da34a6a",
   "metadata": {},
   "outputs": [],
   "source": [
    "from bson import BSON\n",
    "from datetime import datetime\n",
    " \n",
    "for doc in data: # Have to preprocess some column to fit datatype for MongoDB\n",
    "    publish_date = datetime.combine(doc['publishdate'], datetime.min.time())\n",
    "    collection_date = datetime.combine(doc['collectiondate'], datetime.min.time())\n",
    "    \n",
    "    publish_date_timestamp = int(publish_date.timestamp() * 1000)\n",
    "    collection_date_timestamp = int(collection_date.timestamp() * 1000)\n",
    "    \n",
    "    doc['publishdate'] = publish_date_timestamp\n",
    "    doc['collectiondate'] = collection_date_timestamp\n",
    "    \n",
    "    doc['author'] = doc['author'].tolist()\n",
    "    doc['keywords'] = doc['keywords'].tolist()"
   ]
  },
  {
   "cell_type": "code",
   "execution_count": null,
   "id": "b0683565",
   "metadata": {},
   "outputs": [],
   "source": [
    "collection.insert_many(data)"
   ]
  },
  {
   "cell_type": "code",
   "execution_count": null,
   "id": "ba20cef6",
   "metadata": {},
   "outputs": [],
   "source": [
    "## END OF POPULATING DATA INTO MONGODB"
   ]
  }
 ],
 "metadata": {
  "kernelspec": {
   "display_name": "Python 3 (ipykernel)",
   "language": "python",
   "name": "python3"
  },
  "language_info": {
   "codemirror_mode": {
    "name": "ipython",
    "version": 3
   },
   "file_extension": ".py",
   "mimetype": "text/x-python",
   "name": "python",
   "nbconvert_exporter": "python",
   "pygments_lexer": "ipython3",
   "version": "3.9.7"
  }
 },
 "nbformat": 4,
 "nbformat_minor": 5
}
