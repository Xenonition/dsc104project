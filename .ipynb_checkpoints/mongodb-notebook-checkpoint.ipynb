{
 "cells": [
  {
   "cell_type": "code",
   "execution_count": 1,
   "id": "a4c3d0d2",
   "metadata": {},
   "outputs": [],
   "source": [
    "import pyarrow.parquet as pq\n",
    "import pandas as pd\n",
    "from pymongo import MongoClient"
   ]
  },
  {
   "cell_type": "code",
   "execution_count": 2,
   "id": "e5e98fbc",
   "metadata": {},
   "outputs": [],
   "source": [
    "table = pq.read_table('sdsc_data/output.parquet')\n",
    "df = table.to_pandas()"
   ]
  },
  {
   "cell_type": "code",
   "execution_count": 4,
   "id": "c6146374",
   "metadata": {},
   "outputs": [
    {
     "data": {
      "text/html": [
       "<div>\n",
       "<style scoped>\n",
       "    .dataframe tbody tr th:only-of-type {\n",
       "        vertical-align: middle;\n",
       "    }\n",
       "\n",
       "    .dataframe tbody tr th {\n",
       "        vertical-align: top;\n",
       "    }\n",
       "\n",
       "    .dataframe thead th {\n",
       "        text-align: right;\n",
       "    }\n",
       "</style>\n",
       "<table border=\"1\" class=\"dataframe\">\n",
       "  <thead>\n",
       "    <tr style=\"text-align: right;\">\n",
       "      <th></th>\n",
       "      <th>news</th>\n",
       "      <th>id</th>\n",
       "      <th>collectiondate</th>\n",
       "      <th>title</th>\n",
       "      <th>url</th>\n",
       "      <th>publishdate</th>\n",
       "      <th>author</th>\n",
       "      <th>keywords</th>\n",
       "      <th>src</th>\n",
       "      <th>language</th>\n",
       "      <th>newsindex</th>\n",
       "    </tr>\n",
       "  </thead>\n",
       "  <tbody>\n",
       "    <tr>\n",
       "      <th>0</th>\n",
       "      <td>Countering Collins’ claims, Democrats said Tru...</td>\n",
       "      <td>1330233</td>\n",
       "      <td>2019-12-18</td>\n",
       "      <td>Partisan rage envelops Congress on the eve of...</td>\n",
       "      <td>http://www.nydailynews.com/news/politics/ny-...</td>\n",
       "      <td>2019-12-18</td>\n",
       "      <td>[Dave Goldiner, Chris Sommerfeldt]</td>\n",
       "      <td>[rivals, expected, eve, president, volodymyr, ...</td>\n",
       "      <td>http://www.nydailynews.com/</td>\n",
       "      <td>None</td>\n",
       "      <td>None</td>\n",
       "    </tr>\n",
       "    <tr>\n",
       "      <th>1</th>\n",
       "      <td>After Cizikas` goal put the Islanders ahead by...</td>\n",
       "      <td>1330234</td>\n",
       "      <td>2019-12-18</td>\n",
       "      <td>Predators score 7 straight goals to beat Isla...</td>\n",
       "      <td>https://www.nydailynews.com/sports/hockey/is...</td>\n",
       "      <td>2019-12-18</td>\n",
       "      <td>[Allan Kreda]</td>\n",
       "      <td>[york, straight, islanders, goal, goals, sweep...</td>\n",
       "      <td>http://www.nydailynews.com/</td>\n",
       "      <td>None</td>\n",
       "      <td>None</td>\n",
       "    </tr>\n",
       "    <tr>\n",
       "      <th>2</th>\n",
       "      <td>It was a tough call over David Fizdale, but Fi...</td>\n",
       "      <td>1330235</td>\n",
       "      <td>2019-12-18</td>\n",
       "      <td>The Daily News’ Knicks all-decade team for th...</td>\n",
       "      <td>http://www.nydailynews.com/sports/basketball...</td>\n",
       "      <td>2019-12-18</td>\n",
       "      <td>[Stefan Bondy]</td>\n",
       "      <td>[mother, daily, knicks, matt, practice, wins, ...</td>\n",
       "      <td>http://www.nydailynews.com/</td>\n",
       "      <td>None</td>\n",
       "      <td>None</td>\n",
       "    </tr>\n",
       "    <tr>\n",
       "      <th>3</th>\n",
       "      <td>And it’s a far cry from tactics such as “stamp...</td>\n",
       "      <td>1330236</td>\n",
       "      <td>2019-12-18</td>\n",
       "      <td>Kindergarten student earns enough money from ...</td>\n",
       "      <td>http://www.nydailynews.com/news/national/ny-...</td>\n",
       "      <td>2019-12-18</td>\n",
       "      <td>[Theresa Braine]</td>\n",
       "      <td>[debt, money, students, pay, meal, childs, thr...</td>\n",
       "      <td>http://www.nydailynews.com/</td>\n",
       "      <td>None</td>\n",
       "      <td>None</td>\n",
       "    </tr>\n",
       "    <tr>\n",
       "      <th>4</th>\n",
       "      <td>The Hawkeyes had slogged through 17 consecutiv...</td>\n",
       "      <td>1330237</td>\n",
       "      <td>2019-12-18</td>\n",
       "      <td>Hayden Fry, Texan who turned around Iowa foot...</td>\n",
       "      <td>https://www.nydailynews.com/sports/football/...</td>\n",
       "      <td>2019-12-18</td>\n",
       "      <td>[Ralph D. Russo]</td>\n",
       "      <td>[hawkeyes, texan, unveiled, familiar, worn, un...</td>\n",
       "      <td>http://www.nydailynews.com/</td>\n",
       "      <td>None</td>\n",
       "      <td>None</td>\n",
       "    </tr>\n",
       "  </tbody>\n",
       "</table>\n",
       "</div>"
      ],
      "text/plain": [
       "                                                news       id collectiondate  \\\n",
       "0  Countering Collins’ claims, Democrats said Tru...  1330233     2019-12-18   \n",
       "1  After Cizikas` goal put the Islanders ahead by...  1330234     2019-12-18   \n",
       "2  It was a tough call over David Fizdale, but Fi...  1330235     2019-12-18   \n",
       "3  And it’s a far cry from tactics such as “stamp...  1330236     2019-12-18   \n",
       "4  The Hawkeyes had slogged through 17 consecutiv...  1330237     2019-12-18   \n",
       "\n",
       "                                               title  \\\n",
       "0   Partisan rage envelops Congress on the eve of...   \n",
       "1   Predators score 7 straight goals to beat Isla...   \n",
       "2   The Daily News’ Knicks all-decade team for th...   \n",
       "3   Kindergarten student earns enough money from ...   \n",
       "4   Hayden Fry, Texan who turned around Iowa foot...   \n",
       "\n",
       "                                                 url publishdate  \\\n",
       "0    http://www.nydailynews.com/news/politics/ny-...  2019-12-18   \n",
       "1    https://www.nydailynews.com/sports/hockey/is...  2019-12-18   \n",
       "2    http://www.nydailynews.com/sports/basketball...  2019-12-18   \n",
       "3    http://www.nydailynews.com/news/national/ny-...  2019-12-18   \n",
       "4    https://www.nydailynews.com/sports/football/...  2019-12-18   \n",
       "\n",
       "                               author  \\\n",
       "0  [Dave Goldiner, Chris Sommerfeldt]   \n",
       "1                       [Allan Kreda]   \n",
       "2                      [Stefan Bondy]   \n",
       "3                    [Theresa Braine]   \n",
       "4                    [Ralph D. Russo]   \n",
       "\n",
       "                                            keywords  \\\n",
       "0  [rivals, expected, eve, president, volodymyr, ...   \n",
       "1  [york, straight, islanders, goal, goals, sweep...   \n",
       "2  [mother, daily, knicks, matt, practice, wins, ...   \n",
       "3  [debt, money, students, pay, meal, childs, thr...   \n",
       "4  [hawkeyes, texan, unveiled, familiar, worn, un...   \n",
       "\n",
       "                            src language newsindex  \n",
       "0   http://www.nydailynews.com/     None      None  \n",
       "1   http://www.nydailynews.com/     None      None  \n",
       "2   http://www.nydailynews.com/     None      None  \n",
       "3   http://www.nydailynews.com/     None      None  \n",
       "4   http://www.nydailynews.com/     None      None  "
      ]
     },
     "execution_count": 4,
     "metadata": {},
     "output_type": "execute_result"
    }
   ],
   "source": [
    "df.head()"
   ]
  },
  {
   "cell_type": "code",
   "execution_count": 6,
   "id": "1cf3a078",
   "metadata": {},
   "outputs": [],
   "source": [
    "client = MongoClient('mongodb://localhost:27017/')\n",
    "db = client['mydatabase']\n",
    "collection = db['sdsc-data']\n",
    "#collection.delete_many({}) # Clears out collection"
   ]
  },
  {
   "cell_type": "code",
   "execution_count": 40,
   "id": "71f2eb26",
   "metadata": {},
   "outputs": [],
   "source": [
    "data = df.to_dict(orient = 'records') # Converts DataFrame to list of dictionaries (JSON-like)"
   ]
  },
  {
   "cell_type": "code",
   "execution_count": 41,
   "id": "8a666ba2",
   "metadata": {},
   "outputs": [],
   "source": [
    "from bson import BSON\n",
    "from datetime import datetime\n",
    " \n",
    "for doc in data: # Have to preprocess some column to fit datatype for MongoDB\n",
    "    publish_date = datetime.combine(doc['publishdate'], datetime.min.time())\n",
    "    collection_date = datetime.combine(doc['collectiondate'], datetime.min.time()\n",
    "                                      )\n",
    "    publish_date_timestamp = int(publish_date.timestamp() * 1000)\n",
    "    collection_date_timestamp = int(collection_date.timestamp() * 1000)\n",
    "    \n",
    "    doc['publishdate'] = publish_date_timestamp\n",
    "    doc['collectiondate'] = collection_date_timestamp\n",
    "    \n",
    "    doc['author'] = doc['author'].tolist()\n",
    "    doc['keywords'] = doc['keywords'].tolist()"
   ]
  },
  {
   "cell_type": "code",
   "execution_count": 42,
   "id": "b616d769",
   "metadata": {},
   "outputs": [
    {
     "data": {
      "text/plain": [
       "<pymongo.results.InsertManyResult at 0x7f75508f19d0>"
      ]
     },
     "execution_count": 42,
     "metadata": {},
     "output_type": "execute_result"
    }
   ],
   "source": [
    "collection.insert_many(data)"
   ]
  },
  {
   "cell_type": "code",
   "execution_count": 49,
   "id": "7cf54395",
   "metadata": {},
   "outputs": [
    {
     "name": "stdout",
     "output_type": "stream",
     "text": [
      "{'_id': ObjectId('646c51b5ccfe8af7df2fd923'), 'news': 'Countering Collins’ claims, Democrats said Trump’s attempts to strong-arm Ukrainian President Volodymyr Zelensky into launching investigations of his political rivals while holding up $391 million in U.S. military aid amounted to several federal crimes, including bribery and wire fraud. They said they filed an impeachment article on abuse of power as opposed to bribery because they want to be able to point to a broader pattern of alleged misconduct that dates back to Trump’s invitation of Russian interference in the 2016 election.', 'id': 1330233, 'collectiondate': 1576656000000, 'title': ' Partisan rage envelops Congress on the eve of Trump’s expected impeachment ', 'url': '  http://www.nydailynews.com/news/politics/ny-house-rules-panel-parameters-debate-impeach-trump-20191217-p6nkbq2bwjhhja3u6dxetmeclu-story.html#nt=barker ', 'publishdate': 1576656000000, 'author': ['Dave Goldiner', 'Chris Sommerfeldt'], 'keywords': ['rivals', 'expected', 'eve', 'president', 'volodymyr', 'envelops', 'partisan', 'strongarm', 'congress', 'ukrainian', 'zelensky', 'trumps', 'russian', 'impeachment', 'rage', 'bribery', 'wire'], 'src': ' http://www.nydailynews.com/', 'language': None, 'newsindex': None}\n",
      "{'_id': ObjectId('646c51b5ccfe8af7df2fd924'), 'news': 'After Cizikas` goal put the Islanders ahead by two at 8:11 of the second, Forsberg began Nashville`s comeback 27 seconds later with a power-play score for his 12th. Smith, who had scored the game`s first goal early in the first period, then tied it with his second of the game and fourth of the season with 9:02 left in the middle period.', 'id': 1330234, 'collectiondate': 1576656000000, 'title': ' Predators score 7 straight goals to beat Islanders and complete New York sweep ', 'url': '  https://www.nydailynews.com/sports/hockey/islanders/ny-brock-nelson-thomas-greiss-nashville-predators-20191218-fmjraealojdhtperxlbort5wni-story.html ', 'publishdate': 1576656000000, 'author': ['Allan Kreda'], 'keywords': ['york', 'straight', 'islanders', 'goal', 'goals', 'sweep', 'score', 'beat', 'powerplay', 'scored', 'second', 'predators', 'smith', 'period', 'complete', 'season', 'tied', 'seconds'], 'src': ' http://www.nydailynews.com/', 'language': None, 'newsindex': None}\n",
      "{'_id': ObjectId('646c51b5ccfe8af7df2fd925'), 'news': 'It was a tough call over David Fizdale, but Fisher wins out because of the Matt Barnes incident. To recap: Fisher missed a practice after flying across the country to be with his girlfriend, who also happened to be the mother of Barnes’ children. Barnes decked Fisher and Fisher didn’t show up to the next Knicks practice.', 'id': 1330235, 'collectiondate': 1576656000000, 'title': ' The Daily News’ Knicks all-decade team for the 2010s ', 'url': '  http://www.nydailynews.com/sports/basketball/knicks/ny-all-decade-team-carmelo-anthony-kristaps-porzingis-tyson-chandler-20191218-j4s74sna5rf7fg5kowv3d3yfpe-story.html#nt=barker ', 'publishdate': 1576656000000, 'author': ['Stefan Bondy'], 'keywords': ['mother', 'daily', 'knicks', 'matt', 'practice', 'wins', 'recap', 'barnes', 'missed', 'alldecade', 'team', 'tough', '2010s', 'fisher'], 'src': ' http://www.nydailynews.com/', 'language': None, 'newsindex': None}\n",
      "{'_id': ObjectId('646c51b5ccfe8af7df2fd926'), 'news': 'And it’s a far cry from tactics such as “stamping a child’s hand with ‘I need lunch money,’ throwing a child’s meal away after it has been served, giving him or her a sunflower butter and jelly sandwich instead of a hot lunch, barring students from participating in extracurricular activities, and even threatening to put children with outstanding school meal debt in foster care,” as Crystal FitzSimons, director of school and out-of-school time programs, Food Research & Action Center, wrote recently in an op-ed for NBC News.', 'id': 1330236, 'collectiondate': 1576656000000, 'title': ' Kindergarten student earns enough money from cocoa stand to pay off 123 students’ lunch debt at her school ', 'url': '  http://www.nydailynews.com/news/national/ny-kindergarten-student-money-charity-pays-lunch-debt-vista-california-20191218-jgkgzwa6lfcj7m3lz2nxhkxgse-story.html ', 'publishdate': 1576656000000, 'author': ['Theresa Braine'], 'keywords': ['debt', 'money', 'students', 'pay', 'meal', 'childs', 'throwing', 'tactics', 'student', 'wrote', 'school', 'lunch', 'stand', 'sunflower', 'kindergarten', 'threatening', 'earns'], 'src': ' http://www.nydailynews.com/', 'language': None, 'newsindex': None}\n",
      "{'_id': ObjectId('646c51b5ccfe8af7df2fd927'), 'news': 'The Hawkeyes had slogged through 17 consecutive years without a winning season when Fry arrived. He changed everything. He had the uniforms redesigned to make them look more like the black and gold ones worn by the Pittsburgh Steelers, the NFL`s dominant team at the time. The familiar Tigerhawk logo was unveiled during Fry`s tenure. He had the visitor`s locker room painted pink, a tradition that still stands. Roaming the sidelines in his familiar dark sunglasses, Fry coached the Hawkeyes for 20 seasons, winning 238 games and three Big Ten championships.', 'id': 1330237, 'collectiondate': 1576656000000, 'title': ' Hayden Fry, Texan who turned around Iowa football, dies at 90 ', 'url': '  https://www.nydailynews.com/sports/football/ny-hayden-fry-university-of-iowa-football-dies-90-cancer-20191218-qggvhk5rovhejllqyouchmjbdu-story.html ', 'publishdate': 1576656000000, 'author': ['Ralph D. Russo'], 'keywords': ['hawkeyes', 'texan', 'unveiled', 'familiar', 'worn', 'uniforms', 'tigerhawk', 'football', 'tradition', 'winning', 'iowa', 'hayden', 'visitors', 'turned', 'dies', '90', 'fry'], 'src': ' http://www.nydailynews.com/', 'language': None, 'newsindex': None}\n"
     ]
    }
   ],
   "source": [
    "query = {'publishdate': 1576656000000} # Example Query to get documents with publish date of 2019-12-18\n",
    "result = collection.find(query)\n",
    "for document in result[:5]:\n",
    "    print(document)"
   ]
  }
 ],
 "metadata": {
  "kernelspec": {
   "display_name": "Python 3 (ipykernel)",
   "language": "python",
   "name": "python3"
  },
  "language_info": {
   "codemirror_mode": {
    "name": "ipython",
    "version": 3
   },
   "file_extension": ".py",
   "mimetype": "text/x-python",
   "name": "python",
   "nbconvert_exporter": "python",
   "pygments_lexer": "ipython3",
   "version": "3.9.7"
  }
 },
 "nbformat": 4,
 "nbformat_minor": 5
}
