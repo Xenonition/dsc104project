{
 "cells": [
  {
   "cell_type": "code",
   "execution_count": 4,
   "id": "a4c3d0d2",
   "metadata": {},
   "outputs": [],
   "source": [
    "import pyarrow.parquet as pq\n",
    "import pandas as pd\n",
    "from pymongo import MongoClient"
   ]
  },
  {
   "cell_type": "code",
   "execution_count": 5,
   "id": "e5e98fbc",
   "metadata": {},
   "outputs": [],
   "source": [
    "table = pq.read_table('sdsc_data/output.parquet')\n",
    "df = table.to_pandas()"
   ]
  },
  {
   "cell_type": "code",
   "execution_count": 6,
   "id": "c6146374",
   "metadata": {},
   "outputs": [
    {
     "data": {
      "text/html": [
       "<div>\n",
       "<style scoped>\n",
       "    .dataframe tbody tr th:only-of-type {\n",
       "        vertical-align: middle;\n",
       "    }\n",
       "\n",
       "    .dataframe tbody tr th {\n",
       "        vertical-align: top;\n",
       "    }\n",
       "\n",
       "    .dataframe thead th {\n",
       "        text-align: right;\n",
       "    }\n",
       "</style>\n",
       "<table border=\"1\" class=\"dataframe\">\n",
       "  <thead>\n",
       "    <tr style=\"text-align: right;\">\n",
       "      <th></th>\n",
       "      <th>news</th>\n",
       "      <th>id</th>\n",
       "      <th>collectiondate</th>\n",
       "      <th>title</th>\n",
       "      <th>url</th>\n",
       "      <th>publishdate</th>\n",
       "      <th>author</th>\n",
       "      <th>keywords</th>\n",
       "      <th>src</th>\n",
       "      <th>language</th>\n",
       "      <th>newsindex</th>\n",
       "    </tr>\n",
       "  </thead>\n",
       "  <tbody>\n",
       "    <tr>\n",
       "      <th>0</th>\n",
       "      <td>Countering Collins’ claims, Democrats said Tru...</td>\n",
       "      <td>1330233</td>\n",
       "      <td>2019-12-18</td>\n",
       "      <td>Partisan rage envelops Congress on the eve of...</td>\n",
       "      <td>http://www.nydailynews.com/news/politics/ny-...</td>\n",
       "      <td>2019-12-18</td>\n",
       "      <td>[Dave Goldiner, Chris Sommerfeldt]</td>\n",
       "      <td>[rivals, expected, eve, president, volodymyr, ...</td>\n",
       "      <td>http://www.nydailynews.com/</td>\n",
       "      <td>None</td>\n",
       "      <td>None</td>\n",
       "    </tr>\n",
       "    <tr>\n",
       "      <th>1</th>\n",
       "      <td>After Cizikas` goal put the Islanders ahead by...</td>\n",
       "      <td>1330234</td>\n",
       "      <td>2019-12-18</td>\n",
       "      <td>Predators score 7 straight goals to beat Isla...</td>\n",
       "      <td>https://www.nydailynews.com/sports/hockey/is...</td>\n",
       "      <td>2019-12-18</td>\n",
       "      <td>[Allan Kreda]</td>\n",
       "      <td>[york, straight, islanders, goal, goals, sweep...</td>\n",
       "      <td>http://www.nydailynews.com/</td>\n",
       "      <td>None</td>\n",
       "      <td>None</td>\n",
       "    </tr>\n",
       "    <tr>\n",
       "      <th>2</th>\n",
       "      <td>It was a tough call over David Fizdale, but Fi...</td>\n",
       "      <td>1330235</td>\n",
       "      <td>2019-12-18</td>\n",
       "      <td>The Daily News’ Knicks all-decade team for th...</td>\n",
       "      <td>http://www.nydailynews.com/sports/basketball...</td>\n",
       "      <td>2019-12-18</td>\n",
       "      <td>[Stefan Bondy]</td>\n",
       "      <td>[mother, daily, knicks, matt, practice, wins, ...</td>\n",
       "      <td>http://www.nydailynews.com/</td>\n",
       "      <td>None</td>\n",
       "      <td>None</td>\n",
       "    </tr>\n",
       "    <tr>\n",
       "      <th>3</th>\n",
       "      <td>And it’s a far cry from tactics such as “stamp...</td>\n",
       "      <td>1330236</td>\n",
       "      <td>2019-12-18</td>\n",
       "      <td>Kindergarten student earns enough money from ...</td>\n",
       "      <td>http://www.nydailynews.com/news/national/ny-...</td>\n",
       "      <td>2019-12-18</td>\n",
       "      <td>[Theresa Braine]</td>\n",
       "      <td>[debt, money, students, pay, meal, childs, thr...</td>\n",
       "      <td>http://www.nydailynews.com/</td>\n",
       "      <td>None</td>\n",
       "      <td>None</td>\n",
       "    </tr>\n",
       "    <tr>\n",
       "      <th>4</th>\n",
       "      <td>The Hawkeyes had slogged through 17 consecutiv...</td>\n",
       "      <td>1330237</td>\n",
       "      <td>2019-12-18</td>\n",
       "      <td>Hayden Fry, Texan who turned around Iowa foot...</td>\n",
       "      <td>https://www.nydailynews.com/sports/football/...</td>\n",
       "      <td>2019-12-18</td>\n",
       "      <td>[Ralph D. Russo]</td>\n",
       "      <td>[hawkeyes, texan, unveiled, familiar, worn, un...</td>\n",
       "      <td>http://www.nydailynews.com/</td>\n",
       "      <td>None</td>\n",
       "      <td>None</td>\n",
       "    </tr>\n",
       "  </tbody>\n",
       "</table>\n",
       "</div>"
      ],
      "text/plain": [
       "                                                news       id collectiondate  \\\n",
       "0  Countering Collins’ claims, Democrats said Tru...  1330233     2019-12-18   \n",
       "1  After Cizikas` goal put the Islanders ahead by...  1330234     2019-12-18   \n",
       "2  It was a tough call over David Fizdale, but Fi...  1330235     2019-12-18   \n",
       "3  And it’s a far cry from tactics such as “stamp...  1330236     2019-12-18   \n",
       "4  The Hawkeyes had slogged through 17 consecutiv...  1330237     2019-12-18   \n",
       "\n",
       "                                               title  \\\n",
       "0   Partisan rage envelops Congress on the eve of...   \n",
       "1   Predators score 7 straight goals to beat Isla...   \n",
       "2   The Daily News’ Knicks all-decade team for th...   \n",
       "3   Kindergarten student earns enough money from ...   \n",
       "4   Hayden Fry, Texan who turned around Iowa foot...   \n",
       "\n",
       "                                                 url publishdate  \\\n",
       "0    http://www.nydailynews.com/news/politics/ny-...  2019-12-18   \n",
       "1    https://www.nydailynews.com/sports/hockey/is...  2019-12-18   \n",
       "2    http://www.nydailynews.com/sports/basketball...  2019-12-18   \n",
       "3    http://www.nydailynews.com/news/national/ny-...  2019-12-18   \n",
       "4    https://www.nydailynews.com/sports/football/...  2019-12-18   \n",
       "\n",
       "                               author  \\\n",
       "0  [Dave Goldiner, Chris Sommerfeldt]   \n",
       "1                       [Allan Kreda]   \n",
       "2                      [Stefan Bondy]   \n",
       "3                    [Theresa Braine]   \n",
       "4                    [Ralph D. Russo]   \n",
       "\n",
       "                                            keywords  \\\n",
       "0  [rivals, expected, eve, president, volodymyr, ...   \n",
       "1  [york, straight, islanders, goal, goals, sweep...   \n",
       "2  [mother, daily, knicks, matt, practice, wins, ...   \n",
       "3  [debt, money, students, pay, meal, childs, thr...   \n",
       "4  [hawkeyes, texan, unveiled, familiar, worn, un...   \n",
       "\n",
       "                            src language newsindex  \n",
       "0   http://www.nydailynews.com/     None      None  \n",
       "1   http://www.nydailynews.com/     None      None  \n",
       "2   http://www.nydailynews.com/     None      None  \n",
       "3   http://www.nydailynews.com/     None      None  \n",
       "4   http://www.nydailynews.com/     None      None  "
      ]
     },
     "execution_count": 6,
     "metadata": {},
     "output_type": "execute_result"
    }
   ],
   "source": [
    "df.head()"
   ]
  },
  {
   "cell_type": "code",
   "execution_count": 29,
   "id": "1cf3a078",
   "metadata": {},
   "outputs": [],
   "source": [
    "client = MongoClient('mongodb://localhost:27017/')\n",
    "db = client['mydatabase']\n",
    "collection = db['sdsc-data']\n",
    "#collection.delete_many({}) # Clears out collection"
   ]
  },
  {
   "cell_type": "code",
   "execution_count": 8,
   "id": "56107e48",
   "metadata": {},
   "outputs": [],
   "source": [
    "collection = db['sdsc-data-str']"
   ]
  },
  {
   "cell_type": "code",
   "execution_count": 12,
   "id": "71f2eb26",
   "metadata": {},
   "outputs": [],
   "source": [
    "data = df.to_dict(orient = 'records') # Converts DataFrame to list of dictionaries (JSON-like)"
   ]
  },
  {
   "cell_type": "code",
   "execution_count": 13,
   "id": "34b92a34",
   "metadata": {},
   "outputs": [],
   "source": [
    "## ONLY RUN THIS SECTION IF YOU HAVE NOT POPULATED MONGODB (DATE IS IN STR FORMAT)\n",
    "from bson import BSON\n",
    "from datetime import datetime\n",
    "\n",
    "for doc in data: # Have to preprocess some column to fit datatype for MongoDB\n",
    "    #publish_date = datetime.combine(doc['publishdate'], datetime.min.time())\n",
    "    #collection_date = datetime.combine(doc['collectiondate'], datetime.min.time())\n",
    "    #publish_date_timestamp = int(publish_date.timestamp() * 1000)\n",
    "    #collection_date_timestamp = int(collection_date.timestamp() * 1000)\n",
    "    \n",
    "    publish_date = str(doc['publishdate'])\n",
    "    collection_date = str(doc['collectiondate'])\n",
    "    \n",
    "    doc['publishdate'] = publish_date\n",
    "    doc['collectiondate'] = collection_date\n",
    "    \n",
    "    #doc['publishdate'] = publish_date_timestamp\n",
    "    #doc['collectiondate'] = collection_date_timestamp\n",
    "    \n",
    "    \n",
    "    doc['author'] = doc['author'].tolist()\n",
    "    doc['keywords'] = doc['keywords'].tolist()"
   ]
  },
  {
   "cell_type": "code",
   "execution_count": 14,
   "id": "238d6785",
   "metadata": {},
   "outputs": [
    {
     "data": {
      "text/plain": [
       "<pymongo.results.InsertManyResult at 0x7fe75e185b80>"
      ]
     },
     "execution_count": 14,
     "metadata": {},
     "output_type": "execute_result"
    }
   ],
   "source": [
    "collection.insert_many(data)"
   ]
  },
  {
   "cell_type": "code",
   "execution_count": null,
   "id": "43da2e06",
   "metadata": {},
   "outputs": [],
   "source": [
    "## END OF POPULATING MONGODB (DATE IN STR FORMAT)"
   ]
  },
  {
   "cell_type": "code",
   "execution_count": null,
   "id": "4cbc0cc2",
   "metadata": {},
   "outputs": [],
   "source": [
    "## ONLY RUN THIS SECTION IF YOU HAVE NOT POPULATED MONGODB"
   ]
  },
  {
   "cell_type": "code",
   "execution_count": null,
   "id": "8a666ba2",
   "metadata": {},
   "outputs": [],
   "source": [
    "from bson import BSON\n",
    "from datetime import datetime\n",
    " \n",
    "for doc in data: # Have to preprocess some column to fit datatype for MongoDB\n",
    "    publish_date = datetime.combine(doc['publishdate'], datetime.min.time())\n",
    "    collection_date = datetime.combine(doc['collectiondate'], datetime.min.time())\n",
    "    \n",
    "    publish_date_timestamp = int(publish_date.timestamp() * 1000)\n",
    "    collection_date_timestamp = int(collection_date.timestamp() * 1000)\n",
    "    \n",
    "    doc['publishdate'] = publish_date_timestamp\n",
    "    doc['collectiondate'] = collection_date_timestamp\n",
    "    \n",
    "    doc['author'] = doc['author'].tolist()\n",
    "    doc['keywords'] = doc['keywords'].tolist()"
   ]
  },
  {
   "cell_type": "code",
   "execution_count": null,
   "id": "b616d769",
   "metadata": {},
   "outputs": [],
   "source": [
    "collection.insert_many(data)"
   ]
  },
  {
   "cell_type": "code",
   "execution_count": null,
   "id": "052be730",
   "metadata": {},
   "outputs": [],
   "source": [
    "## END OF POPULATING MONGODB"
   ]
  },
  {
   "cell_type": "code",
   "execution_count": 32,
   "id": "7cf54395",
   "metadata": {},
   "outputs": [
    {
     "name": "stdout",
     "output_type": "stream",
     "text": [
      "{'_id': ObjectId('646c51b5ccfe8af7df2fd923'), 'news': 'Countering Collins’ claims, Democrats said Trump’s attempts to strong-arm Ukrainian President Volodymyr Zelensky into launching investigations of his political rivals while holding up $391 million in U.S. military aid amounted to several federal crimes, including bribery and wire fraud. They said they filed an impeachment article on abuse of power as opposed to bribery because they want to be able to point to a broader pattern of alleged misconduct that dates back to Trump’s invitation of Russian interference in the 2016 election.', 'id': 1330233, 'collectiondate': 1576656000000, 'title': ' Partisan rage envelops Congress on the eve of Trump’s expected impeachment ', 'url': '  http://www.nydailynews.com/news/politics/ny-house-rules-panel-parameters-debate-impeach-trump-20191217-p6nkbq2bwjhhja3u6dxetmeclu-story.html#nt=barker ', 'publishdate': 1576656000000, 'author': ['Dave Goldiner', 'Chris Sommerfeldt'], 'keywords': ['rivals', 'expected', 'eve', 'president', 'volodymyr', 'envelops', 'partisan', 'strongarm', 'congress', 'ukrainian', 'zelensky', 'trumps', 'russian', 'impeachment', 'rage', 'bribery', 'wire'], 'src': ' http://www.nydailynews.com/', 'language': None, 'newsindex': None}\n",
      "{'_id': ObjectId('646c51b5ccfe8af7df2fd924'), 'news': 'After Cizikas` goal put the Islanders ahead by two at 8:11 of the second, Forsberg began Nashville`s comeback 27 seconds later with a power-play score for his 12th. Smith, who had scored the game`s first goal early in the first period, then tied it with his second of the game and fourth of the season with 9:02 left in the middle period.', 'id': 1330234, 'collectiondate': 1576656000000, 'title': ' Predators score 7 straight goals to beat Islanders and complete New York sweep ', 'url': '  https://www.nydailynews.com/sports/hockey/islanders/ny-brock-nelson-thomas-greiss-nashville-predators-20191218-fmjraealojdhtperxlbort5wni-story.html ', 'publishdate': 1576656000000, 'author': ['Allan Kreda'], 'keywords': ['york', 'straight', 'islanders', 'goal', 'goals', 'sweep', 'score', 'beat', 'powerplay', 'scored', 'second', 'predators', 'smith', 'period', 'complete', 'season', 'tied', 'seconds'], 'src': ' http://www.nydailynews.com/', 'language': None, 'newsindex': None}\n",
      "{'_id': ObjectId('646c51b5ccfe8af7df2fd925'), 'news': 'It was a tough call over David Fizdale, but Fisher wins out because of the Matt Barnes incident. To recap: Fisher missed a practice after flying across the country to be with his girlfriend, who also happened to be the mother of Barnes’ children. Barnes decked Fisher and Fisher didn’t show up to the next Knicks practice.', 'id': 1330235, 'collectiondate': 1576656000000, 'title': ' The Daily News’ Knicks all-decade team for the 2010s ', 'url': '  http://www.nydailynews.com/sports/basketball/knicks/ny-all-decade-team-carmelo-anthony-kristaps-porzingis-tyson-chandler-20191218-j4s74sna5rf7fg5kowv3d3yfpe-story.html#nt=barker ', 'publishdate': 1576656000000, 'author': ['Stefan Bondy'], 'keywords': ['mother', 'daily', 'knicks', 'matt', 'practice', 'wins', 'recap', 'barnes', 'missed', 'alldecade', 'team', 'tough', '2010s', 'fisher'], 'src': ' http://www.nydailynews.com/', 'language': None, 'newsindex': None}\n",
      "{'_id': ObjectId('646c51b5ccfe8af7df2fd926'), 'news': 'And it’s a far cry from tactics such as “stamping a child’s hand with ‘I need lunch money,’ throwing a child’s meal away after it has been served, giving him or her a sunflower butter and jelly sandwich instead of a hot lunch, barring students from participating in extracurricular activities, and even threatening to put children with outstanding school meal debt in foster care,” as Crystal FitzSimons, director of school and out-of-school time programs, Food Research & Action Center, wrote recently in an op-ed for NBC News.', 'id': 1330236, 'collectiondate': 1576656000000, 'title': ' Kindergarten student earns enough money from cocoa stand to pay off 123 students’ lunch debt at her school ', 'url': '  http://www.nydailynews.com/news/national/ny-kindergarten-student-money-charity-pays-lunch-debt-vista-california-20191218-jgkgzwa6lfcj7m3lz2nxhkxgse-story.html ', 'publishdate': 1576656000000, 'author': ['Theresa Braine'], 'keywords': ['debt', 'money', 'students', 'pay', 'meal', 'childs', 'throwing', 'tactics', 'student', 'wrote', 'school', 'lunch', 'stand', 'sunflower', 'kindergarten', 'threatening', 'earns'], 'src': ' http://www.nydailynews.com/', 'language': None, 'newsindex': None}\n",
      "{'_id': ObjectId('646c51b5ccfe8af7df2fd927'), 'news': 'The Hawkeyes had slogged through 17 consecutive years without a winning season when Fry arrived. He changed everything. He had the uniforms redesigned to make them look more like the black and gold ones worn by the Pittsburgh Steelers, the NFL`s dominant team at the time. The familiar Tigerhawk logo was unveiled during Fry`s tenure. He had the visitor`s locker room painted pink, a tradition that still stands. Roaming the sidelines in his familiar dark sunglasses, Fry coached the Hawkeyes for 20 seasons, winning 238 games and three Big Ten championships.', 'id': 1330237, 'collectiondate': 1576656000000, 'title': ' Hayden Fry, Texan who turned around Iowa football, dies at 90 ', 'url': '  https://www.nydailynews.com/sports/football/ny-hayden-fry-university-of-iowa-football-dies-90-cancer-20191218-qggvhk5rovhejllqyouchmjbdu-story.html ', 'publishdate': 1576656000000, 'author': ['Ralph D. Russo'], 'keywords': ['hawkeyes', 'texan', 'unveiled', 'familiar', 'worn', 'uniforms', 'tigerhawk', 'football', 'tradition', 'winning', 'iowa', 'hayden', 'visitors', 'turned', 'dies', '90', 'fry'], 'src': ' http://www.nydailynews.com/', 'language': None, 'newsindex': None}\n"
     ]
    }
   ],
   "source": [
    "query = {'publishdate': 1576656000000} # Example Query to get documents with publish date of 2019-12-18\n",
    "result = collection.find(query)\n",
    "for document in result[:5]:\n",
    "    llama_collection = db['sdsc-data-llama']\n",
    "    \n",
    "    timestamp = datetime.datetime.fromtimestamp(document['publishdate'] / 1000)\n",
    "    year = timestamp.year\n",
    "    month = timestamp.month\n",
    "    date = f'{month}-{year}'\n",
    "    \n",
    "    llama_collection.insert_many([\n",
    "        {'news': document['news'], 'title': document['title'], 'publishdate': date}\n",
    "    ])\n",
    "    print(document)"
   ]
  },
  {
   "cell_type": "code",
   "execution_count": 35,
   "id": "8eae690f",
   "metadata": {},
   "outputs": [],
   "source": [
    "test = llama_collection.find()\n",
    "for doc in test:\n",
    "    print(doc)"
   ]
  },
  {
   "cell_type": "code",
   "execution_count": 28,
   "id": "81d9d0ec",
   "metadata": {},
   "outputs": [
    {
     "ename": "KeyboardInterrupt",
     "evalue": "",
     "output_type": "error",
     "traceback": [
      "\u001b[0;31m---------------------------------------------------------------------------\u001b[0m",
      "\u001b[0;31mKeyboardInterrupt\u001b[0m                         Traceback (most recent call last)",
      "Cell \u001b[0;32mIn[28], line 4\u001b[0m\n\u001b[1;32m      1\u001b[0m \u001b[38;5;66;03m#pip3 install pytextrank\u001b[39;00m\n\u001b[1;32m      2\u001b[0m \u001b[38;5;66;03m#spacy download en_core_web_sm\u001b[39;00m\n\u001b[0;32m----> 4\u001b[0m \u001b[38;5;28;01mimport\u001b[39;00m \u001b[38;5;21;01mspacy\u001b[39;00m\n\u001b[1;32m      5\u001b[0m \u001b[38;5;28;01mimport\u001b[39;00m \u001b[38;5;21;01mpytextrank\u001b[39;00m\n\u001b[1;32m      7\u001b[0m nlp \u001b[38;5;241m=\u001b[39m spacy\u001b[38;5;241m.\u001b[39mload(\u001b[38;5;124m\"\u001b[39m\u001b[38;5;124men_core_web_sm\u001b[39m\u001b[38;5;124m\"\u001b[39m)\n",
      "File \u001b[0;32m~/opt/anaconda3/lib/python3.9/site-packages/spacy/__init__.py:6\u001b[0m\n\u001b[1;32m      3\u001b[0m \u001b[38;5;28;01mimport\u001b[39;00m \u001b[38;5;21;01msys\u001b[39;00m\n\u001b[1;32m      5\u001b[0m \u001b[38;5;66;03m# set library-specific custom warning handling before doing anything else\u001b[39;00m\n\u001b[0;32m----> 6\u001b[0m \u001b[38;5;28;01mfrom\u001b[39;00m \u001b[38;5;21;01m.\u001b[39;00m\u001b[38;5;21;01merrors\u001b[39;00m \u001b[38;5;28;01mimport\u001b[39;00m setup_default_warnings\n\u001b[1;32m      8\u001b[0m setup_default_warnings()  \u001b[38;5;66;03m# noqa: E402\u001b[39;00m\n\u001b[1;32m     10\u001b[0m \u001b[38;5;66;03m# These are imported as part of the API\u001b[39;00m\n",
      "File \u001b[0;32m~/opt/anaconda3/lib/python3.9/site-packages/spacy/errors.py:2\u001b[0m\n\u001b[1;32m      1\u001b[0m \u001b[38;5;28;01mimport\u001b[39;00m \u001b[38;5;21;01mwarnings\u001b[39;00m\n\u001b[0;32m----> 2\u001b[0m \u001b[38;5;28;01mfrom\u001b[39;00m \u001b[38;5;21;01m.\u001b[39;00m\u001b[38;5;21;01mcompat\u001b[39;00m \u001b[38;5;28;01mimport\u001b[39;00m Literal\n\u001b[1;32m      5\u001b[0m \u001b[38;5;28;01mclass\u001b[39;00m \u001b[38;5;21;01mErrorsWithCodes\u001b[39;00m(\u001b[38;5;28mtype\u001b[39m):\n\u001b[1;32m      6\u001b[0m     \u001b[38;5;28;01mdef\u001b[39;00m \u001b[38;5;21m__getattribute__\u001b[39m(\u001b[38;5;28mself\u001b[39m, code):\n",
      "File \u001b[0;32m~/opt/anaconda3/lib/python3.9/site-packages/spacy/compat.py:3\u001b[0m\n\u001b[1;32m      1\u001b[0m \u001b[38;5;124;03m\"\"\"Helpers for Python and platform compatibility.\"\"\"\u001b[39;00m\n\u001b[1;32m      2\u001b[0m \u001b[38;5;28;01mimport\u001b[39;00m \u001b[38;5;21;01msys\u001b[39;00m\n\u001b[0;32m----> 3\u001b[0m \u001b[38;5;28;01mfrom\u001b[39;00m \u001b[38;5;21;01mthinc\u001b[39;00m\u001b[38;5;21;01m.\u001b[39;00m\u001b[38;5;21;01mutil\u001b[39;00m \u001b[38;5;28;01mimport\u001b[39;00m copy_array\n\u001b[1;32m      5\u001b[0m \u001b[38;5;28;01mtry\u001b[39;00m:\n\u001b[1;32m      6\u001b[0m     \u001b[38;5;28;01mimport\u001b[39;00m \u001b[38;5;21;01mcPickle\u001b[39;00m \u001b[38;5;28;01mas\u001b[39;00m \u001b[38;5;21;01mpickle\u001b[39;00m\n",
      "File \u001b[0;32m~/opt/anaconda3/lib/python3.9/site-packages/thinc/__init__.py:5\u001b[0m\n\u001b[1;32m      2\u001b[0m \u001b[38;5;28;01mimport\u001b[39;00m \u001b[38;5;21;01mnumpy\u001b[39;00m\n\u001b[1;32m      4\u001b[0m \u001b[38;5;28;01mfrom\u001b[39;00m \u001b[38;5;21;01m.\u001b[39;00m\u001b[38;5;21;01mabout\u001b[39;00m \u001b[38;5;28;01mimport\u001b[39;00m __version__\n\u001b[0;32m----> 5\u001b[0m \u001b[38;5;28;01mfrom\u001b[39;00m \u001b[38;5;21;01m.\u001b[39;00m\u001b[38;5;21;01mconfig\u001b[39;00m \u001b[38;5;28;01mimport\u001b[39;00m registry\n\u001b[1;32m      8\u001b[0m \u001b[38;5;66;03m# fmt: off\u001b[39;00m\n\u001b[1;32m      9\u001b[0m __all__ \u001b[38;5;241m=\u001b[39m [\n\u001b[1;32m     10\u001b[0m     \u001b[38;5;124m\"\u001b[39m\u001b[38;5;124mregistry\u001b[39m\u001b[38;5;124m\"\u001b[39m,\n\u001b[1;32m     11\u001b[0m     \u001b[38;5;124m\"\u001b[39m\u001b[38;5;124m__version__\u001b[39m\u001b[38;5;124m\"\u001b[39m,\n\u001b[1;32m     12\u001b[0m ]\n",
      "File \u001b[0;32m~/opt/anaconda3/lib/python3.9/site-packages/thinc/config.py:2\u001b[0m\n\u001b[1;32m      1\u001b[0m \u001b[38;5;28;01mimport\u001b[39;00m \u001b[38;5;21;01mcatalogue\u001b[39;00m\n\u001b[0;32m----> 2\u001b[0m \u001b[38;5;28;01mimport\u001b[39;00m \u001b[38;5;21;01mconfection\u001b[39;00m\n\u001b[1;32m      3\u001b[0m \u001b[38;5;28;01mfrom\u001b[39;00m \u001b[38;5;21;01mconfection\u001b[39;00m \u001b[38;5;28;01mimport\u001b[39;00m Config, ConfigValidationError, Promise, VARIABLE_RE\n\u001b[1;32m      4\u001b[0m \u001b[38;5;28;01mfrom\u001b[39;00m \u001b[38;5;21;01m.\u001b[39;00m\u001b[38;5;21;01mtypes\u001b[39;00m \u001b[38;5;28;01mimport\u001b[39;00m Decorator\n",
      "File \u001b[0;32m~/opt/anaconda3/lib/python3.9/site-packages/confection/__init__.py:10\u001b[0m\n\u001b[1;32m      8\u001b[0m \u001b[38;5;28;01mfrom\u001b[39;00m \u001b[38;5;21;01mconfigparser\u001b[39;00m \u001b[38;5;28;01mimport\u001b[39;00m ParsingError\n\u001b[1;32m      9\u001b[0m \u001b[38;5;28;01mfrom\u001b[39;00m \u001b[38;5;21;01mpathlib\u001b[39;00m \u001b[38;5;28;01mimport\u001b[39;00m Path\n\u001b[0;32m---> 10\u001b[0m \u001b[38;5;28;01mfrom\u001b[39;00m \u001b[38;5;21;01mpydantic\u001b[39;00m \u001b[38;5;28;01mimport\u001b[39;00m BaseModel, create_model, ValidationError, Extra\n\u001b[1;32m     11\u001b[0m \u001b[38;5;28;01mfrom\u001b[39;00m \u001b[38;5;21;01mpydantic\u001b[39;00m\u001b[38;5;21;01m.\u001b[39;00m\u001b[38;5;21;01mmain\u001b[39;00m \u001b[38;5;28;01mimport\u001b[39;00m ModelMetaclass\n\u001b[1;32m     12\u001b[0m \u001b[38;5;28;01mfrom\u001b[39;00m \u001b[38;5;21;01mpydantic\u001b[39;00m\u001b[38;5;21;01m.\u001b[39;00m\u001b[38;5;21;01mfields\u001b[39;00m \u001b[38;5;28;01mimport\u001b[39;00m ModelField\n",
      "File \u001b[0;32m~/opt/anaconda3/lib/python3.9/site-packages/pydantic/__init__.py:2\u001b[0m, in \u001b[0;36minit pydantic.__init__\u001b[0;34m()\u001b[0m\n",
      "File \u001b[0;32m~/opt/anaconda3/lib/python3.9/site-packages/pydantic/dataclasses.py:3\u001b[0m, in \u001b[0;36minit pydantic.dataclasses\u001b[0;34m()\u001b[0m\n",
      "File \u001b[0;32m~/opt/anaconda3/lib/python3.9/site-packages/pydantic/class_validators.py:10\u001b[0m, in \u001b[0;36minit pydantic.class_validators\u001b[0;34m()\u001b[0m\n",
      "File \u001b[0;32m<frozen importlib._bootstrap>:398\u001b[0m, in \u001b[0;36mparent\u001b[0;34m(self)\u001b[0m\n",
      "\u001b[0;31mKeyboardInterrupt\u001b[0m: "
     ]
    }
   ],
   "source": [
    "#pip3 install pytextrank\n",
    "#spacy download en_core_web_sm\n",
    "\n",
    "import spacy\n",
    "import pytextrank\n",
    "\n",
    "nlp = spacy.load(\"en_core_web_sm\")\n",
    "nlp.add_pipe('textrank')"
   ]
  },
  {
   "cell_type": "code",
   "execution_count": null,
   "id": "8040c392",
   "metadata": {},
   "outputs": [],
   "source": [
    "# example text\n",
    "text = \"Compatibility of systems of linear constraints over the set of natural numbers. Criteria of compatibility of a system of linear Diophantine equations, strict inequations, and nonstrict inequations are considered. Upper bounds for components of a minimal set of solutions and algorithms of construction of minimal generating sets of solutions for all types of systems are given. These criteria and the corresponding algorithms for constructing a minimal supporting set of solutions can be used in solving all the considered types systems and systems of mixed types.\"\n",
    "doc = nlp(text)\n",
    "# examine the top-ranked phrases in the document\n",
    "for phrase in doc._.phrases[:10]:\n",
    "    print(phrase.text)"
   ]
  },
  {
   "cell_type": "code",
   "execution_count": null,
   "id": "8fe20d9c",
   "metadata": {},
   "outputs": [],
   "source": [
    "pipeline = [\n",
    "    {\"$match\": {\"keywords\": {\"$in\": ['election']}}},\n",
    "]\n",
    "\n",
    "result = collection.aggregate(pipeline)\n",
    "\n",
    "for document in list(result)[:5]:\n",
    "    print('Title:')\n",
    "    print(document['title'])\n",
    "    print('News:')\n",
    "    print(document['news'])\n",
    "    print('')\n",
    "    print('Top-Ranked Phrases:')\n",
    "    doc = nlp(document['news'])\n",
    "    \n",
    "    for phrase in doc._.phrases[:10]:\n",
    "        print(phrase.text)\n",
    "    print(document['keywords'])\n",
    "    print('')"
   ]
  },
  {
   "cell_type": "code",
   "execution_count": null,
   "id": "bfd93f45",
   "metadata": {},
   "outputs": [],
   "source": [
    "#pipeline = [\n",
    "#    {\"$match\": {\"news\": {\"$regex\": r'\\bCalifornia\\b.*\\bSenate\\b'}}}\n",
    "#]\n",
    "\n",
    "pipeline = [\n",
    "    {\"$match\": {\"news\": {\"$regex\": r'\\bTrump\\b'}}}\n",
    "]\n",
    "\n",
    "election_list = []\n",
    "\n",
    "result = collection.aggregate(pipeline)\n",
    "\n",
    "for document in result:\n",
    "    election_list.append(document)"
   ]
  },
  {
   "cell_type": "code",
   "execution_count": null,
   "id": "a185287d",
   "metadata": {},
   "outputs": [],
   "source": [
    "len(election_list)"
   ]
  },
  {
   "cell_type": "code",
   "execution_count": null,
   "id": "934780c2",
   "metadata": {},
   "outputs": [],
   "source": [
    "text = election_list[1]\n",
    "\n",
    "print(text)\n",
    "doc = nlp(text['news'])\n",
    "# examine the top-ranked phrases in the document\n",
    "for phrase in doc._.phrases[:10]:\n",
    "    print(phrase.text)"
   ]
  },
  {
   "cell_type": "code",
   "execution_count": null,
   "id": "14a0e2bc",
   "metadata": {},
   "outputs": [],
   "source": [
    "import datetime\n",
    "\n",
    "date_grouped = {}\n",
    "for i in election_list[35000:35500]:\n",
    "    doc = nlp(i['news'])\n",
    "    timestamp = datetime.datetime.fromtimestamp(i['publishdate'] / 1000)\n",
    "    year = timestamp.year\n",
    "    month = timestamp.month\n",
    "    date = f'{month}-{year}'\n",
    "    \n",
    "    if date not in date_grouped:\n",
    "        date_grouped[date] = {}\n",
    "    for phrase in doc._.phrases[:10]:\n",
    "        if phrase.text in date_grouped[date]:\n",
    "            date_grouped[date][phrase.text] += 1\n",
    "        else:\n",
    "            date_grouped[date][phrase.text] = 1"
   ]
  },
  {
   "cell_type": "code",
   "execution_count": null,
   "id": "e7611e69",
   "metadata": {},
   "outputs": [],
   "source": [
    "date_grouped.keys()"
   ]
  },
  {
   "cell_type": "code",
   "execution_count": null,
   "id": "e2ddd200",
   "metadata": {},
   "outputs": [],
   "source": [
    "my_dict = date_grouped['8-2018']\n",
    "\n",
    "sorted_dict = dict(sorted(my_dict.items(), key=lambda x: x[1]))\n",
    "\n",
    "# Print the sorted dictionary\n",
    "for key, value in sorted_dict.items():\n",
    "    print(key, value)"
   ]
  },
  {
   "cell_type": "code",
   "execution_count": 23,
   "id": "65fc0238",
   "metadata": {},
   "outputs": [
    {
     "ename": "NameError",
     "evalue": "name 'sorted_dict' is not defined",
     "output_type": "error",
     "traceback": [
      "\u001b[0;31m---------------------------------------------------------------------------\u001b[0m",
      "\u001b[0;31mNameError\u001b[0m                                 Traceback (most recent call last)",
      "Cell \u001b[0;32mIn[23], line 5\u001b[0m\n\u001b[1;32m      2\u001b[0m \u001b[38;5;28;01mfrom\u001b[39;00m \u001b[38;5;21;01mwordcloud\u001b[39;00m \u001b[38;5;28;01mimport\u001b[39;00m WordCloud\n\u001b[1;32m      4\u001b[0m \u001b[38;5;66;03m# Generate the word cloud\u001b[39;00m\n\u001b[0;32m----> 5\u001b[0m wordcloud \u001b[38;5;241m=\u001b[39m WordCloud(background_color \u001b[38;5;241m=\u001b[39m \u001b[38;5;124m'\u001b[39m\u001b[38;5;124mwhite\u001b[39m\u001b[38;5;124m'\u001b[39m)\u001b[38;5;241m.\u001b[39mgenerate_from_frequencies(\u001b[43msorted_dict\u001b[49m)\n\u001b[1;32m      7\u001b[0m \u001b[38;5;66;03m# Display the word cloud using matplotlib\u001b[39;00m\n\u001b[1;32m      8\u001b[0m plt\u001b[38;5;241m.\u001b[39mimshow(wordcloud, interpolation\u001b[38;5;241m=\u001b[39m\u001b[38;5;124m'\u001b[39m\u001b[38;5;124mbilinear\u001b[39m\u001b[38;5;124m'\u001b[39m)\n",
      "\u001b[0;31mNameError\u001b[0m: name 'sorted_dict' is not defined"
     ]
    }
   ],
   "source": [
    "import matplotlib.pyplot as plt\n",
    "from wordcloud import WordCloud\n",
    "\n",
    "# Generate the word cloud\n",
    "wordcloud = WordCloud(background_color = 'white').generate_from_frequencies(sorted_dict)\n",
    "\n",
    "# Display the word cloud using matplotlib\n",
    "plt.imshow(wordcloud, interpolation='bilinear')\n",
    "plt.axis('off')\n",
    "plt.show()"
   ]
  },
  {
   "cell_type": "code",
   "execution_count": 26,
   "id": "6486e287",
   "metadata": {},
   "outputs": [],
   "source": [
    "import datetime\n",
    "\n",
    "search_string = 'Kevin De Leon'\n",
    "\n",
    "regex_pattern = f'.*{search_string}.*'\n",
    "\n",
    "query = {'news': {'$regex': regex_pattern}}\n",
    "\n",
    "result = collection.find(query)\n",
    "\n",
    "kevin_list = []\n",
    "\n",
    "for document in result:\n",
    "    #kevin_list.append(document)\n",
    "    collection = db['sdsc-data-llama']\n",
    "    \n",
    "    timestamp = datetime.datetime.fromtimestamp(document['publishdate'] / 1000)\n",
    "    year = timestamp.year\n",
    "    month = timestamp.month\n",
    "    date = f'{month}-{year}'\n",
    "    \n",
    "    collection.insert({'news': document['news'], 'title': document['title'], 'publishdate': date})"
   ]
  },
  {
   "cell_type": "code",
   "execution_count": 25,
   "id": "b05a6afe",
   "metadata": {},
   "outputs": [],
   "source": [
    "test = collection.find()\n",
    "for doc in test:\n",
    "    print(doc)"
   ]
  },
  {
   "cell_type": "code",
   "execution_count": 21,
   "id": "5cfba9aa",
   "metadata": {},
   "outputs": [
    {
     "data": {
      "text/plain": [
       "5"
      ]
     },
     "execution_count": 21,
     "metadata": {},
     "output_type": "execute_result"
    }
   ],
   "source": [
    "len(kevin_list)"
   ]
  },
  {
   "cell_type": "code",
   "execution_count": null,
   "id": "663a9707",
   "metadata": {},
   "outputs": [],
   "source": [
    "for document in kevin_list:\n",
    "    print('Title:')\n",
    "    print(document['title'])\n",
    "    print('News:')\n",
    "    print(document['news'])\n",
    "    print('')\n",
    "    print('Top-Ranked Phrases:')\n",
    "    doc = nlp(document['news'])\n",
    "    \n",
    "    for phrase in doc._.phrases[:10]:\n",
    "        print(phrase.text)\n",
    "    print(document['keywords'])\n",
    "    print('')"
   ]
  },
  {
   "cell_type": "code",
   "execution_count": null,
   "id": "26fcf1b8",
   "metadata": {},
   "outputs": [],
   "source": []
  }
 ],
 "metadata": {
  "kernelspec": {
   "display_name": "Python 3 (ipykernel)",
   "language": "python",
   "name": "python3"
  },
  "language_info": {
   "codemirror_mode": {
    "name": "ipython",
    "version": 3
   },
   "file_extension": ".py",
   "mimetype": "text/x-python",
   "name": "python",
   "nbconvert_exporter": "python",
   "pygments_lexer": "ipython3",
   "version": "3.9.7"
  }
 },
 "nbformat": 4,
 "nbformat_minor": 5
}
