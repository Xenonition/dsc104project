{
 "cells": [
  {
   "cell_type": "code",
   "execution_count": null,
   "id": "a4c3d0d2",
   "metadata": {},
   "outputs": [],
   "source": [
    "import pyarrow.parquet as pq\n",
    "import pandas as pd\n",
    "from pymongo import MongoClient"
   ]
  },
  {
   "cell_type": "code",
   "execution_count": null,
   "id": "bee9e5d8",
   "metadata": {},
   "outputs": [],
   "source": [
    "df = pd.read_parquet('sdsc_data/output.parquet')"
   ]
  },
  {
   "cell_type": "code",
   "execution_count": null,
   "id": "1cf3a078",
   "metadata": {},
   "outputs": [],
   "source": [
    "client = MongoClient('mongodb://localhost:27017/')\n",
    "db = client['mydatabase']\n",
    "collection = db['sdsc-data']"
   ]
  },
  {
   "cell_type": "code",
   "execution_count": null,
   "id": "71f2eb26",
   "metadata": {
    "collapsed": true
   },
   "outputs": [],
   "source": [
    "data = df.to_dict(orient = 'records') # Converts DataFrame to list of dictionaries (JSON-like)"
   ]
  },
  {
   "cell_type": "code",
   "execution_count": null,
   "id": "b616d769",
   "metadata": {},
   "outputs": [],
   "source": [
    "#collection.delete_many({})\n",
    "collection.insert_many(data)"
   ]
  }
 ],
 "metadata": {
  "kernelspec": {
   "display_name": "Python 3 (ipykernel)",
   "language": "python",
   "name": "python3"
  },
  "language_info": {
   "codemirror_mode": {
    "name": "ipython",
    "version": 3
   },
   "file_extension": ".py",
   "mimetype": "text/x-python",
   "name": "python",
   "nbconvert_exporter": "python",
   "pygments_lexer": "ipython3",
   "version": "3.9.7"
  }
 },
 "nbformat": 4,
 "nbformat_minor": 5
}
