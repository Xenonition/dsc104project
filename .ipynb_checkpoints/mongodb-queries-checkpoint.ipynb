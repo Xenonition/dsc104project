{
 "cells": [
  {
   "cell_type": "code",
   "execution_count": 1,
   "id": "572f245e",
   "metadata": {},
   "outputs": [],
   "source": [
    "from pymongo import MongoClient\n",
    "client = MongoClient('mongodb://localhost:27017/')\n",
    "db = client['mydatabase']\n",
    "collection = db['sdsc-data']"
   ]
  },
  {
   "cell_type": "code",
   "execution_count": 11,
   "id": "30f1b5cf",
   "metadata": {},
   "outputs": [
    {
     "data": {
      "text/plain": [
       "<pymongo.results.DeleteResult at 0x7fc35cc7e610>"
      ]
     },
     "execution_count": 11,
     "metadata": {},
     "output_type": "execute_result"
    }
   ],
   "source": [
    "llama_collection = db['sdsc-data-llama']\n",
    "llama_collection.delete_many({}) # Clears out collection"
   ]
  },
  {
   "cell_type": "code",
   "execution_count": 12,
   "id": "32d9a86d",
   "metadata": {},
   "outputs": [
    {
     "data": {
      "text/plain": [
       "0"
      ]
     },
     "execution_count": 12,
     "metadata": {},
     "output_type": "execute_result"
    }
   ],
   "source": [
    "llama_collection.count_documents({})"
   ]
  },
  {
   "cell_type": "code",
   "execution_count": 3,
   "id": "09974b78",
   "metadata": {},
   "outputs": [],
   "source": [
    "import datetime\n",
    "\n",
    "query = {'publishdate': 1576656000000} # Example Query to get documents with publish date of 2019-12-18\n",
    "result = collection.find(query)\n",
    "for document in result[:5]:\n",
    "    timestamp = datetime.datetime.fromtimestamp(document['publishdate'] / 1000)\n",
    "    year = timestamp.year\n",
    "    month = timestamp.month\n",
    "    date = f'{month}-{year}'\n",
    "    \n",
    "    llama_collection.insert_many([\n",
    "        {'news': document['news'], 'title': document['title'], 'publishdate': date}\n",
    "    ])"
   ]
  },
  {
   "cell_type": "code",
   "execution_count": 5,
   "id": "bc68c51a",
   "metadata": {},
   "outputs": [
    {
     "name": "stdout",
     "output_type": "stream",
     "text": [
      "{'_id': ObjectId('6488c5d41f88525a1414ffeb'), 'news': 'Countering Collins’ claims, Democrats said Trump’s attempts to strong-arm Ukrainian President Volodymyr Zelensky into launching investigations of his political rivals while holding up $391 million in U.S. military aid amounted to several federal crimes, including bribery and wire fraud. They said they filed an impeachment article on abuse of power as opposed to bribery because they want to be able to point to a broader pattern of alleged misconduct that dates back to Trump’s invitation of Russian interference in the 2016 election.', 'title': ' Partisan rage envelops Congress on the eve of Trump’s expected impeachment ', 'publishdate': '12-2019'}\n",
      "{'_id': ObjectId('6488c5d41f88525a1414ffec'), 'news': 'After Cizikas` goal put the Islanders ahead by two at 8:11 of the second, Forsberg began Nashville`s comeback 27 seconds later with a power-play score for his 12th. Smith, who had scored the game`s first goal early in the first period, then tied it with his second of the game and fourth of the season with 9:02 left in the middle period.', 'title': ' Predators score 7 straight goals to beat Islanders and complete New York sweep ', 'publishdate': '12-2019'}\n",
      "{'_id': ObjectId('6488c5d41f88525a1414ffed'), 'news': 'It was a tough call over David Fizdale, but Fisher wins out because of the Matt Barnes incident. To recap: Fisher missed a practice after flying across the country to be with his girlfriend, who also happened to be the mother of Barnes’ children. Barnes decked Fisher and Fisher didn’t show up to the next Knicks practice.', 'title': ' The Daily News’ Knicks all-decade team for the 2010s ', 'publishdate': '12-2019'}\n",
      "{'_id': ObjectId('6488c5d41f88525a1414ffee'), 'news': 'And it’s a far cry from tactics such as “stamping a child’s hand with ‘I need lunch money,’ throwing a child’s meal away after it has been served, giving him or her a sunflower butter and jelly sandwich instead of a hot lunch, barring students from participating in extracurricular activities, and even threatening to put children with outstanding school meal debt in foster care,” as Crystal FitzSimons, director of school and out-of-school time programs, Food Research & Action Center, wrote recently in an op-ed for NBC News.', 'title': ' Kindergarten student earns enough money from cocoa stand to pay off 123 students’ lunch debt at her school ', 'publishdate': '12-2019'}\n",
      "{'_id': ObjectId('6488c5d41f88525a1414ffef'), 'news': 'The Hawkeyes had slogged through 17 consecutive years without a winning season when Fry arrived. He changed everything. He had the uniforms redesigned to make them look more like the black and gold ones worn by the Pittsburgh Steelers, the NFL`s dominant team at the time. The familiar Tigerhawk logo was unveiled during Fry`s tenure. He had the visitor`s locker room painted pink, a tradition that still stands. Roaming the sidelines in his familiar dark sunglasses, Fry coached the Hawkeyes for 20 seasons, winning 238 games and three Big Ten championships.', 'title': ' Hayden Fry, Texan who turned around Iowa football, dies at 90 ', 'publishdate': '12-2019'}\n"
     ]
    }
   ],
   "source": [
    "for doc in llama_collection.find():\n",
    "    print(doc)"
   ]
  },
  {
   "cell_type": "code",
   "execution_count": null,
   "id": "33c1dfe1",
   "metadata": {},
   "outputs": [],
   "source": []
  }
 ],
 "metadata": {
  "kernelspec": {
   "display_name": "Python 3 (ipykernel)",
   "language": "python",
   "name": "python3"
  },
  "language_info": {
   "codemirror_mode": {
    "name": "ipython",
    "version": 3
   },
   "file_extension": ".py",
   "mimetype": "text/x-python",
   "name": "python",
   "nbconvert_exporter": "python",
   "pygments_lexer": "ipython3",
   "version": "3.9.7"
  }
 },
 "nbformat": 4,
 "nbformat_minor": 5
}
