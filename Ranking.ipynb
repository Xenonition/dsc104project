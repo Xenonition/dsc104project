{
 "cells": [
  {
   "cell_type": "code",
   "execution_count": 20,
   "id": "6dc55ede",
   "metadata": {},
   "outputs": [
    {
     "name": "stderr",
     "output_type": "stream",
     "text": [
      "[nltk_data] Downloading package punkt to C:\\Users\\William\n",
      "[nltk_data]     Nathan\\AppData\\Roaming\\nltk_data...\n",
      "[nltk_data]   Package punkt is already up-to-date!\n",
      "[nltk_data] Downloading package stopwords to C:\\Users\\William\n",
      "[nltk_data]     Nathan\\AppData\\Roaming\\nltk_data...\n",
      "[nltk_data]   Package stopwords is already up-to-date!\n"
     ]
    },
    {
     "data": {
      "text/plain": [
       "True"
      ]
     },
     "execution_count": 20,
     "metadata": {},
     "output_type": "execute_result"
    }
   ],
   "source": [
    "import pandas as pd\n",
    "from scipy.stats import entropy\n",
    "import numpy as np\n",
    "import requests\n",
    "from bs4 import BeautifulSoup\n",
    "import nltk\n",
    "from rank_bm25 import BM25Okapi\n",
    "import string\n",
    "\n",
    "nltk.download('punkt')\n",
    "nltk.download('stopwords')"
   ]
  },
  {
   "cell_type": "code",
   "execution_count": 19,
   "id": "98167776",
   "metadata": {},
   "outputs": [
    {
     "name": "stdout",
     "output_type": "stream",
     "text": [
      "Collecting rank_bm25\n",
      "  Downloading rank_bm25-0.2.2-py3-none-any.whl (8.6 kB)\n",
      "Requirement already satisfied: numpy in d:\\anaconda\\lib\\site-packages (from rank_bm25) (1.20.1)\n",
      "Installing collected packages: rank_bm25\n",
      "Successfully installed rank_bm25-0.2.2\n"
     ]
    },
    {
     "name": "stderr",
     "output_type": "stream",
     "text": [
      "WARNING: Ignoring invalid distribution -ip (d:\\anaconda\\lib\\site-packages)\n",
      "WARNING: Ignoring invalid distribution -ip (d:\\anaconda\\lib\\site-packages)\n",
      "WARNING: Ignoring invalid distribution -ip (d:\\anaconda\\lib\\site-packages)\n",
      "WARNING: Ignoring invalid distribution -ip (d:\\anaconda\\lib\\site-packages)\n",
      "WARNING: Ignoring invalid distribution -ip (d:\\anaconda\\lib\\site-packages)\n",
      "WARNING: Ignoring invalid distribution -ip (d:\\anaconda\\lib\\site-packages)\n",
      "WARNING: Ignoring invalid distribution -ip (d:\\anaconda\\lib\\site-packages)\n"
     ]
    }
   ],
   "source": [
    "!pip install rank_bm25"
   ]
  },
  {
   "cell_type": "code",
   "execution_count": 6,
   "id": "957b7562",
   "metadata": {},
   "outputs": [],
   "source": [
    "def get_article_text(url):\n",
    "    response = requests.get(url)\n",
    "    html_content = response.content\n",
    "    \n",
    "    soup = BeautifulSoup(html_content, \"html.parser\")\n",
    "    article_divs = soup.find(\"div\", class_=\"page-content\")\n",
    "    article_ps = article_divs.find_all(\"p\")\n",
    "    article_text = \"\"\n",
    "    for p in article_ps:\n",
    "        article_text += p.get_text()\n",
    "        \n",
    "    return article_text"
   ]
  },
  {
   "cell_type": "code",
   "execution_count": 31,
   "id": "72a86b8e",
   "metadata": {},
   "outputs": [],
   "source": [
    "corpus = [\n",
    "get_article_text(\"https://www.politico.com/news/2023/05/26/desantis-campaign-5-takeaways-00099070\").replace('\\n', ' ').lower(),\n",
    "get_article_text(\"https://www.politico.com/news/2023/05/27/california-republicans-race-feinstein-senate-seat-00099053\").replace('\\n', ' ').lower()\n",
    "]"
   ]
  },
  {
   "cell_type": "code",
   "execution_count": 32,
   "id": "2b031c37",
   "metadata": {},
   "outputs": [],
   "source": [
    "tokenized_corpus = [doc.split(\" \") for doc in corpus]\n",
    "\n",
    "bm25 = BM25Okapi(tokenized_corpus)"
   ]
  },
  {
   "cell_type": "code",
   "execution_count": 48,
   "id": "c46ee512",
   "metadata": {},
   "outputs": [
    {
     "data": {
      "text/plain": [
       "array([-0.10765913, -0.07497065])"
      ]
     },
     "execution_count": 48,
     "metadata": {},
     "output_type": "execute_result"
    }
   ],
   "source": [
    "query = \"trump dominating\"\n",
    "tokenized_query = query.split(\" \")\n",
    "\n",
    "doc_scores = bm25.get_scores(tokenized_query)\n",
    "doc_scores"
   ]
  },
  {
   "cell_type": "code",
   "execution_count": 49,
   "id": "b3cbf540",
   "metadata": {},
   "outputs": [
    {
     "data": {
      "text/plain": [
       "[' elections this race could get weird.  the race to replace sen. dianne feinstein could end up as a democrat-on-democrat contest, and republicans could wind up swinging the whole election. | francis chung/politico by steven shepard 05/27/2023 07:00 am edt updated: 05/30/2023 10:22 am edt link copiedit’s no secret that progressives are angling to take over the senate seat in the liberal bastion of california.but the most crucial bloc of voters may end up being republicans.reps. barbara lee, katie porter and adam schiff all want to replace sen. dianne feinstein when her seat is up next year. usually, a democrat wins a spot in the top-two primary system before going on to trounce whatever sacrificial republican gets the second spot.but california republicans are such a distinct minority group in the blue state — they make up about a third of the electorate — that, this go around, things could get weird. the race to replace feinstein could end up as a democrat-on-democrat contest, and republicans could wind up swinging the whole election. it’s also not clear who might benefit.porter’s campaign seems obsessed with this idea. my politico colleague chris cadelago reports that such a scenario is “a frequent line of questioning” in meetings between porter’s campaign staff and democratic activists.here are necessary conditions for that to happen, and what it would mean for the general election next november:according to the university of california, berkeley’s institute of governmental studies latest poll, out this week, the race could end up actually with a republican in the final two.eric early, a perennial gop candidate who is running for senate, has the support of 18 percent of registered voters. porter is at 17 percent, schiff at 14 percent and lee at 9 percent. the leading democrat only needs a plurality of 60 percent of the democratic-leaning vote in california to be the likely winner in november — if that gop number is real. rep. katie porter (d-calif.) is one of three house representatives who wants to replace sen. dianne feinstein when her seat is up next year. | francis chung/politico “with three [democrats], that’s when i think you have a greater possibility that the republican can emerge as one of the top two finishers,” said mark dicamillo, who conducted the poll.and, there’s reason to think republican candidate early could get a boost. since the primary is being held on 2024’s super tuesday, the presidential primary will likely be a big draw, and all of the action is in the gop race.a few factors this year could lead to a democratic faceoff.first, early’s numbers could be inflated. he was the only republican candidate listed in the survey, but he’s likely to face others. last year’s senate primary featured 10 candidates who identified as republicans — the second-place finisher, mark meuser, earned just 15 percent of the vote.and while the three democratic members of congress are often grouped together, the polling and fundraising data suggest that porter and schiff are currently in a different tier than lee. even lee’s internal primary polling only has her at 11 percent. the only black candidate in the race is also well behind porter and schiff in fundraising. at the end of march, lee had $1.2 million in cash on hand, well less than porter ($9.5 million) and schiff ($24.7 million). california gov. gavin newsom has promised to appoint a black woman if feinstein should retire or pass away before her term is up. if he holds that promise, and chooses rep. barbara lee (d-calif.) as a replacement, it could potentially give her a big boost. | francis chung/politico “the open question is how competitive lee would get,” said dicamillo, the uc-berkeley pollster. “if she’s going to have enough funding to get her message across, she certainly has a story to tell. if she still lags, that actually increases the odds of the top two democrats — porter and schiff — moving forward.”california gov. gavin newsom has promised to appoint a black woman if feinstein should retire or pass away before her term is up. if he holds that promise, and chooses lee as a replacement, it could potentially give her a big boost.none of the democrats running for feinstein’s seat has an obvious path to either consolidating the state’s democrats or creating cross-party appeal to attract republicans.of the three democratic candidates, schiff’s voting record is the least liberal. on paper, that would potentially be more attractive to republican voters, who would be without a candidate of their own in this scenario. but schiff is perhaps best known for his role in investigating and impeaching then-president donald trump — something likely to actively repel the state’s republicans.he’s such a villain in gop circles that house speaker kevin mccarthy made it a point of kicking him off the intelligence committee, and one first-term gop member has even floated expelling schiff from the chamber entirely in a tit-for-tat over the fate of rep. george santos (r-n.y.), an accused felon. rep. adam schiff (d-calif.) is perhaps best known for his role in investigating and impeaching then-president donald trump. | damian dovarganes/ap photo there’s always the possibility of republicans issuing a protest vote. in 2018, kevin de león, a former state senate leader who’s now serving on the los angeles city council, attracted a number of republican votes, even though he was challenging feinstein from the left.feinstein’s biggest margins were in the heavily democratic counties of los angeles (58 percent), san francisco (63 percent) and marin (65 percent) — even though the statewide outcome was 54-46. de león’s best numbers came from trump country.it’s not clear whether the more liberal lee or porter would benefit from republicans disliking schiff. a large chunk of them could leave the race blank. in 2018, 12.5 million votes were cast in the governor’s race, which featured newsom against republican john cox. but only 11.1 million were cast in the feinstein-de león race, which was on the same ballot.while there are a lot of unknowable variables in his race, one thing does seem relatively certain: it’s unlikely a republican candidate will win. republicans haven’t won a statewide election in california since 2006, and the best showing for a republican presidential candidate in recent years was when former president george w. bush broke the 40 percent mark in 2004.correction: an earlier version of this story misidentified the gop nominee for california governor in 2018. it was john cox.link copied']"
      ]
     },
     "execution_count": 49,
     "metadata": {},
     "output_type": "execute_result"
    }
   ],
   "source": [
    "bm25.get_top_n(tokenized_query, corpus, n=1)"
   ]
  },
  {
   "cell_type": "code",
   "execution_count": 47,
   "id": "5d50cdd0",
   "metadata": {},
   "outputs": [
    {
     "data": {
      "text/plain": [
       "' elections desantis raised $8.2 million in his first 24 hours, while moving in conservative media to carve out a lane to donald trump’s right. florida gov. ron desantis’ team said he took in $8.2 million during the first 24 hours after his twitter launch. | chris delmas/afp via getty images by sally goldenberg 05/26/2023 05:53 pm edt link copiedron desantis bounced back from his glitchy launch event with a hefty fundraising haul and a flood of media appearances. the florida governor’s first 36 hours in the race revealed a lot about what kind of candidate he’s trying to be — more conservative than donald trump but cautious of offending the former president’s most die-hard supporters.here are five takeaways from the first day-plus on the trail for the newest entrant into the republican presidential primary:a swirl of speculation leading up to desantis’ launch crystallized into one big, existential question: how would he handle trump — his political benefactor-turned-primary-rival — without offending the former president’s loyal base? desantis began to answer that question on thursday: quite simply, it’s to get to trump’s right.while largely praising trump’s platform, desantis touted his signing of a six-week abortion ban that trump said even republicans consider “too harsh.” he questioned the ex-president’s support for providing amnesty for 1.8 million undocumented immigrants — an assertion trump blasted in a press release as a “deceptive attempt to distract voters from his presidential campaign launch melt down.” and he contrasted himself with trump over covid-19, touting his aggressive push to keep schools, businesses and public spaces in florida open in the midst of national lockdowns during trump’s presidency.“he’s obviously attacking me from the left,” desantis said during a midday hit with radio host matt murphy, later adding: “i don’t know what happened to donald trump. this is a different guy today than when he was running in 2015 and 2016 and i think the direction that he’s going with his campaign is the wrong direction.”while desantis was prosecuting an argument over trump’s covid record — an argument he’s been making in recent speeches — his advisers hammered away on twitter. in response to a mock video posted by donald trump, jr. showing desantis getting pummeled in one of his introductory videos, desantis adviser christina pushaw tweeted: “your dad could not even tackle the 110 lb. keebler elf known as anthony fauci.”polling shows trump dominating the republican field, buoyed by a following that continues to believe his baseless claim that the 2020 election was stolen. for as much as desantis was drawing a contrast with trump, day 1 was also a demonstration of exactly how careful he is not to upset that base.“most of our voters obviously appreciate a lot of the things president trump did. i do — i mean he’s been attacking me a lot but i still give him credit for the things that he did well, especially with the economy in the first three years,” desantis said during a thursday evening interview on newsmax. column | on politics  are the anti-trump gop forces starting to implode?  by  jonathan martin  he avoided attacking trump’s extensive legal troubles and steered clear of personal criticism of his chaotic style. in an interview on “the clay travis & buck sexton show,” he even said he might pardon people involved in a trump-inspired attack on the u.s. capitol on jan. 6, 2021. instead, desantis focused on what he believes is his best pitch: electability, repeatedly implying trump does not stand a chance of winning a general election next year.one of desantis’ biggest advantages entering the gop primary is his ability to raise significant sums of money. he has more than $80 million in a state account that can be transferred into a super pac supporting him, and that pac — never back down — has reported raising at least $33 million to date. (the pac’s official filings are not yet publicly available with the fec.)it got even better for him on thursday evening, when desantis’ team said he took in $8.2 million during the first 24 hours after his twitter launch. everyone assumed desantis would have a financial advantage. but the timing of his haul this week was significant — a show of force that helped him to move the topic of conversation away from the technology glitches plaguing his rollout. politics   desantis’ $110m ticket to the white house  by  sally goldenberg and jessica piper  “governor desantis has built the strongest, most sophisticated organization in the history of american politics, and the tremendous support we’ve experienced in the last 24 hours will be critical as we hit the ground running in the early nominating states to share [his] plan to revitalize the american spirit,” campaign manager generra peck said in a prepared statement.since entering the race, he also received five new hampshire endorsements from state representatives, bringing his total number of official supporters in the early voting state to 55, according to a never back down spokesperson granted anonymity to speak freely about the campaign. the pac deployed canvassers to new hampshire to knock on nearly 4,000 doors since wednesday, and its 189 canvassers in iowa have knocked on roughly 39,000 doors in the hawkeye state, which holds the party’s first caucus next year, the spokesperson said.desantis, who spent much of his rollout lambasting the “corporate media” and “legacy media,” knows where the gop primary audience is. so he stuck with friendly faces during his first 24 hours as a candidate.after granting his first candidate interview to fox news, he invited select reporters on a conference call wednesday night before participating in a bevy of interviews on similarly republican-friendly outlets. it worked for him, producing the kind of positive coverage he was hoping for.“what you’ve done in florida is simply astonishing. can i offer you some criticism: i don’t think you take enough credit for it,” tara servatius, the host of the tara show — a popular radio program aired in north and south carolina — said in reference to desantis’ landslide re-election victory in what was once a swing state. elections  ‘it turned out to be a mistake’: botched rollout puts desantis on his heels  by  sally goldenberg and meridith mcgraw  desantis ended the day with a lengthy chat with newsmax’s eric bolling, who joked that desantis — a college baseball player — was gifted “a lot of softball” questions from prior interviewers.desantis has a deep understanding of policies, which was on display as he discussed in depth foreign affairs, inflation and energy policy in his interviews. a yale graduate who went on to receive a harvard law degree, he often refers to complicated concepts by their acronyms.but the kind of small talk politicians encounter greeting voters on the trail still doesn’t come naturally to him. when murphy, the radio host, asked him at the end of their interview if desantis would follow him on twitter, he simply replied: “alright, well, we’ll see what we can do.”after he hung up, murphy said to another host, “i didn’t like the end of the interview. i felt like that was a good opportunity for him to show a jovial side.”link copied'"
      ]
     },
     "execution_count": 47,
     "metadata": {},
     "output_type": "execute_result"
    }
   ],
   "source": [
    "corpus[0]"
   ]
  },
  {
   "cell_type": "code",
   "execution_count": null,
   "id": "c8c0a352",
   "metadata": {},
   "outputs": [],
   "source": []
  }
 ],
 "metadata": {
  "kernelspec": {
   "display_name": "Python 3",
   "language": "python",
   "name": "python3"
  },
  "language_info": {
   "codemirror_mode": {
    "name": "ipython",
    "version": 3
   },
   "file_extension": ".py",
   "mimetype": "text/x-python",
   "name": "python",
   "nbconvert_exporter": "python",
   "pygments_lexer": "ipython3",
   "version": "3.8.8"
  }
 },
 "nbformat": 4,
 "nbformat_minor": 5
}
