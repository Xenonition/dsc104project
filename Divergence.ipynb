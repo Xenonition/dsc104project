{
 "cells": [
  {
   "cell_type": "code",
   "execution_count": 10,
   "id": "6dc55ede",
   "metadata": {},
   "outputs": [],
   "source": [
    "import pandas as pd\n",
    "from scipy.special import rel_entr\n",
    "import numpy as np\n",
    "import requests\n",
    "from bs4 import BeautifulSoup\n",
    "import string\n",
    "import pyarrow.parquet as pq\n",
    "import nltk\n",
    "from nltk.tokenize import word_tokenize\n",
    "from nltk.corpus import stopwords\n",
    "from nltk.tag import pos_tag\n",
    "from datetime import datetime, timedelta\n",
    "\n",
    "stopwords = set(stopwords.words('english'))\n",
    "\n",
    "# nltk.download('punkt')\n",
    "# nltk.download('averaged_perceptron_tagger')\n",
    "# nltk.download('stopwords')"
   ]
  },
  {
   "cell_type": "code",
   "execution_count": 5,
   "id": "7d06cb66",
   "metadata": {},
   "outputs": [],
   "source": [
    "from pymongo import MongoClient\n",
    "import datetime\n",
    "\n",
    "client = MongoClient('mongodb://localhost:27017/')\n",
    "db = client['mydatabase']\n",
    "\n",
    "west_virginia_collection = db['sdsc-west-virginia']\n",
    "utah_collection = db['sdsc-utah']\n",
    "montana_collection = db['sdsc-montana']"
   ]
  },
  {
   "cell_type": "code",
   "execution_count": 2,
   "id": "2b031c37",
   "metadata": {},
   "outputs": [],
   "source": [
    "def find_keywords(text):\n",
    "    tokens = word_tokenize(period_doc)\n",
    "    manual_filter = ['’','”','“','—']\n",
    "\n",
    "    filtered_tokens = [token for token in tokens if token.lower() not in stopwords]\n",
    "    filtered_tokens = [token for token in filtered_tokens if token not in string.punctuation]\n",
    "    filtered_tokens = [token for token in filtered_tokens if token not in manual_filter]\n",
    "\n",
    "    tagged_tokens = pos_tag(filtered_tokens)\n",
    "\n",
    "    desired_pos = ['NN', 'NNS', 'NNP', 'NNPS']\n",
    "\n",
    "    keywords = [token for token, pos in tagged_tokens if pos in desired_pos]\n",
    "    \n",
    "    return keywords"
   ]
  },
  {
   "cell_type": "code",
   "execution_count": null,
   "id": "af6d63dd",
   "metadata": {},
   "outputs": [],
   "source": [
    "#Specify collection and date\n",
    "#df = ???\n",
    "\n",
    "start_date = pd.to_datetime('2019-12-18')\n",
    "end_date = pd.to_datetime('2020-12-19')"
   ]
  },
  {
   "cell_type": "code",
   "execution_count": 3,
   "id": "27eba327",
   "metadata": {},
   "outputs": [
    {
     "ename": "NameError",
     "evalue": "name 'df' is not defined",
     "output_type": "error",
     "traceback": [
      "\u001b[1;31m---------------------------------------------------------------------------\u001b[0m",
      "\u001b[1;31mNameError\u001b[0m                                 Traceback (most recent call last)",
      "\u001b[1;32m<ipython-input-3-906706017742>\u001b[0m in \u001b[0;36m<module>\u001b[1;34m\u001b[0m\n\u001b[0;32m      1\u001b[0m \u001b[0mstart_date\u001b[0m \u001b[1;33m=\u001b[0m \u001b[0mpd\u001b[0m\u001b[1;33m.\u001b[0m\u001b[0mto_datetime\u001b[0m\u001b[1;33m(\u001b[0m\u001b[1;34m'2019-12-18'\u001b[0m\u001b[1;33m)\u001b[0m\u001b[1;33m\u001b[0m\u001b[1;33m\u001b[0m\u001b[0m\n\u001b[0;32m      2\u001b[0m \u001b[0mend_date\u001b[0m \u001b[1;33m=\u001b[0m \u001b[0mpd\u001b[0m\u001b[1;33m.\u001b[0m\u001b[0mto_datetime\u001b[0m\u001b[1;33m(\u001b[0m\u001b[1;34m'2020-12-19'\u001b[0m\u001b[1;33m)\u001b[0m\u001b[1;33m\u001b[0m\u001b[1;33m\u001b[0m\u001b[0m\n\u001b[1;32m----> 3\u001b[1;33m \u001b[0mperiod\u001b[0m \u001b[1;33m=\u001b[0m \u001b[0mdf\u001b[0m\u001b[1;33m[\u001b[0m\u001b[1;33m(\u001b[0m\u001b[0mdf\u001b[0m\u001b[1;33m[\u001b[0m\u001b[1;34m'collectiondate'\u001b[0m\u001b[1;33m]\u001b[0m \u001b[1;33m>=\u001b[0m \u001b[0mstart_date\u001b[0m\u001b[1;33m)\u001b[0m \u001b[1;33m&\u001b[0m \u001b[1;33m(\u001b[0m\u001b[0mdf\u001b[0m\u001b[1;33m[\u001b[0m\u001b[1;34m'collectiondate'\u001b[0m\u001b[1;33m]\u001b[0m \u001b[1;33m<=\u001b[0m \u001b[0mend_date\u001b[0m\u001b[1;33m)\u001b[0m\u001b[1;33m]\u001b[0m\u001b[1;33m[\u001b[0m\u001b[1;33m:\u001b[0m\u001b[1;36m50\u001b[0m\u001b[1;33m]\u001b[0m\u001b[1;33m\u001b[0m\u001b[1;33m\u001b[0m\u001b[0m\n\u001b[0m\u001b[0;32m      4\u001b[0m \u001b[0mperiod_doc\u001b[0m \u001b[1;33m=\u001b[0m \u001b[1;34m' '\u001b[0m\u001b[1;33m.\u001b[0m\u001b[0mjoin\u001b[0m\u001b[1;33m(\u001b[0m\u001b[0mtestdf\u001b[0m\u001b[1;33m[\u001b[0m\u001b[1;34m'news'\u001b[0m\u001b[1;33m]\u001b[0m\u001b[1;33m.\u001b[0m\u001b[0mastype\u001b[0m\u001b[1;33m(\u001b[0m\u001b[0mstr\u001b[0m\u001b[1;33m)\u001b[0m\u001b[1;33m)\u001b[0m\u001b[1;33m\u001b[0m\u001b[1;33m\u001b[0m\u001b[0m\n\u001b[0;32m      5\u001b[0m \u001b[0mperiod_keywords\u001b[0m \u001b[1;33m=\u001b[0m \u001b[0mfind_keywords\u001b[0m\u001b[1;33m(\u001b[0m\u001b[0mperiod_doc\u001b[0m\u001b[1;33m)\u001b[0m\u001b[1;33m\u001b[0m\u001b[1;33m\u001b[0m\u001b[0m\n",
      "\u001b[1;31mNameError\u001b[0m: name 'df' is not defined"
     ]
    }
   ],
   "source": [
    "period = df[(df['collectiondate'] >= start_date) & (df['collectiondate'] <= end_date)][:50]\n",
    "period_doc = ' '.join(testdf['news'].astype(str))\n",
    "period_keywords = find_keywords(period_doc)\n",
    "top_period_keywords = {x[0] : x[1]/len(period_doc) for x in Counter(period_keywords).most_common(5)}"
   ]
  },
  {
   "cell_type": "code",
   "execution_count": null,
   "id": "13a76a0a",
   "metadata": {},
   "outputs": [],
   "source": [
    "current_date = start_date\n",
    "out = []\n",
    "\n",
    "while current_date <= end_date:\n",
    "    day_df = df[df['collectiondate'] == pd.to_datetime(current_date)]\n",
    "    day_doc = ' '.join(day_df['news'].astype(str))\n",
    "    day_keywords = find_keywords(day_doc)\n",
    "    day_counter = Counter(day_keywords)\n",
    "    out.append({x : day_counter[x]/len(day_doc) for x in top_period_keywords})\n",
    "    \n",
    "    current_date += timedelta(days=1)"
   ]
  },
  {
   "cell_type": "code",
   "execution_count": null,
   "id": "12eac350",
   "metadata": {},
   "outputs": [],
   "source": [
    "#KL divergence date vs previous date\n",
    "for i in range(1,len(out)):\n",
    "    print(sum(rel_entr(list(out[i-1].values()),list(out[i].values()))))"
   ]
  },
  {
   "cell_type": "code",
   "execution_count": 70,
   "id": "af760ed5",
   "metadata": {},
   "outputs": [
    {
     "name": "stdout",
     "output_type": "stream",
     "text": [
      "0.0\n",
      "0.0007404775326340417\n"
     ]
    }
   ],
   "source": [
    "#KL divergence date vs total\n",
    "for dists in out:\n",
    "    print(sum(rel_entr(list(period_keywords.values()),list(dists.values()))))"
   ]
  },
  {
   "cell_type": "code",
   "execution_count": null,
   "id": "a4cc5d30",
   "metadata": {},
   "outputs": [],
   "source": []
  }
 ],
 "metadata": {
  "kernelspec": {
   "display_name": "Python 3",
   "language": "python",
   "name": "python3"
  },
  "language_info": {
   "codemirror_mode": {
    "name": "ipython",
    "version": 3
   },
   "file_extension": ".py",
   "mimetype": "text/x-python",
   "name": "python",
   "nbconvert_exporter": "python",
   "pygments_lexer": "ipython3",
   "version": "3.8.8"
  }
 },
 "nbformat": 4,
 "nbformat_minor": 5
}
