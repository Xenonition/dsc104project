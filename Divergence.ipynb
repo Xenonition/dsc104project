{
 "cells": [
  {
   "cell_type": "code",
   "execution_count": 1,
   "id": "6dc55ede",
   "metadata": {},
   "outputs": [],
   "source": [
    "import pandas as pd\n",
    "from scipy.special import rel_entr\n",
    "import numpy as np\n",
    "import requests\n",
    "from bs4 import BeautifulSoup\n",
    "import string\n",
    "import pyarrow.parquet as pq\n",
    "import nltk\n",
    "from nltk.tokenize import word_tokenize\n",
    "from nltk.corpus import stopwords\n",
    "from nltk.tag import pos_tag\n",
    "\n",
    "stopwords = set(stopwords.words('english'))\n",
    "\n",
    "# nltk.download('punkt')\n",
    "# nltk.download('averaged_perceptron_tagger')\n",
    "# nltk.download('stopwords')"
   ]
  },
  {
   "cell_type": "code",
   "execution_count": 2,
   "id": "7d06cb66",
   "metadata": {},
   "outputs": [],
   "source": [
    "from pymongo import MongoClient\n",
    "import datetime\n",
    "\n",
    "client = MongoClient('mongodb://localhost:27017/')\n",
    "db = client['mydatabase']\n",
    "\n",
    "west_virginia_collection = db['sdsc-west-virginia']\n",
    "utah_collection = db['sdsc-utah']\n",
    "montana_collection = db['sdsc-montana']"
   ]
  },
  {
   "cell_type": "code",
   "execution_count": 44,
   "id": "2b031c37",
   "metadata": {},
   "outputs": [],
   "source": [
    "def find_keywords(text):\n",
    "    tokens = word_tokenize(period_doc)\n",
    "    manual_filter = ['’','”','“','—']\n",
    "\n",
    "    filtered_tokens = [token for token in tokens if token.lower() not in stopwords]\n",
    "    filtered_tokens = [token for token in filtered_tokens if token not in string.punctuation]\n",
    "    filtered_tokens = [token for token in filtered_tokens if token not in manual_filter]\n",
    "\n",
    "    tagged_tokens = pos_tag(filtered_tokens)\n",
    "\n",
    "    desired_pos = ['NN', 'NNS', 'NNP', 'NNPS']\n",
    "\n",
    "    keywords = [token for token, pos in tagged_tokens if pos in desired_pos]\n",
    "    \n",
    "    return keywords"
   ]
  },
  {
   "cell_type": "code",
   "execution_count": 19,
   "id": "27eba327",
   "metadata": {},
   "outputs": [],
   "source": [
    "start_date = pd.to_datetime('2019-12-18')\n",
    "end_date = pd.to_datetime('2020-12-19')\n",
    "period = df[(df['collectiondate'] >= start_date) & (df['collectiondate'] <= end_date)][:50]\n",
    "period_doc = ' '.join(testdf['news'].astype(str))\n",
    "period_keywords = find_keywords(period_doc)\n",
    "top_period_keywords = {x[0] : x[1]/len(period_doc) for x in Counter(period_keywords).most_common(5)}"
   ]
  },
  {
   "cell_type": "code",
   "execution_count": 60,
   "id": "02c8672d",
   "metadata": {},
   "outputs": [],
   "source": [
    "period_keywords = {x[0] : x[1]/len(period_doc) for x in Counter(keywords).most_common(5)}"
   ]
  },
  {
   "cell_type": "code",
   "execution_count": 61,
   "id": "4ca8b884",
   "metadata": {},
   "outputs": [],
   "source": [
    "out = []\n",
    "for look_date in ['2019-12-18', '2019-12-19']:\n",
    "    day_df = df[df['collectiondate'] == pd.to_datetime(look_date)][:50]\n",
    "    day_doc = ' '.join(day_df['news'].astype(str))\n",
    "    day_keywords = find_keywords(day_doc)\n",
    "    day_counter = Counter(day_keywords)\n",
    "    out.append({x : day_counter[x]/len(day_doc) for x in period_keywords})"
   ]
  },
  {
   "cell_type": "code",
   "execution_count": 70,
   "id": "af760ed5",
   "metadata": {},
   "outputs": [
    {
     "name": "stdout",
     "output_type": "stream",
     "text": [
      "0.0\n",
      "0.0007404775326340417\n"
     ]
    }
   ],
   "source": [
    "for dists in out:\n",
    "    print(sum(rel_entr(list(period_keywords.values()),list(dists.values()))))"
   ]
  }
 ],
 "metadata": {
  "kernelspec": {
   "display_name": "Python 3 (ipykernel)",
   "language": "python",
   "name": "python3"
  },
  "language_info": {
   "codemirror_mode": {
    "name": "ipython",
    "version": 3
   },
   "file_extension": ".py",
   "mimetype": "text/x-python",
   "name": "python",
   "nbconvert_exporter": "python",
   "pygments_lexer": "ipython3",
   "version": "3.9.7"
  }
 },
 "nbformat": 4,
 "nbformat_minor": 5
}
